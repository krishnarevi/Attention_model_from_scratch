{
  "nbformat": 4,
  "nbformat_minor": 0,
  "metadata": {
    "colab": {
      "name": "Prediction_of_bad_deliveries.ipynb",
      "provenance": [],
      "collapsed_sections": [],
      "authorship_tag": "ABX9TyPpaq8DeyRXHIwOGtZ3PBoe",
      "include_colab_link": true
    },
    "kernelspec": {
      "name": "python3",
      "display_name": "Python 3"
    },
    "language_info": {
      "name": "python"
    }
  },
  "cells": [
    {
      "cell_type": "markdown",
      "metadata": {
        "id": "view-in-github",
        "colab_type": "text"
      },
      "source": [
        "<a href=\"https://colab.research.google.com/github/krishnarevi/Attention_model_from_scratch/blob/main/Prediction_of_bad_deliveries.ipynb\" target=\"_parent\"><img src=\"https://colab.research.google.com/assets/colab-badge.svg\" alt=\"Open In Colab\"/></a>"
      ]
    },
    {
      "cell_type": "code",
      "execution_count": 52,
      "metadata": {
        "id": "cKvoVkEeXQYE"
      },
      "outputs": [],
      "source": [
        "import pandas as pd\n",
        "import numpy as np\n",
        "import statistics\n",
        "import warnings\n",
        "warnings.filterwarnings('ignore')\n",
        "from datetime import datetime, timedelta\n",
        "from math import sqrt\n",
        "\n",
        "from sklearn.model_selection  import train_test_split\n",
        "from sklearn.model_selection import cross_val_score, KFold, GridSearchCV\n",
        "from sklearn import metrics\n",
        "from sklearn.preprocessing import StandardScaler\n",
        "from sklearn.neural_network import MLPClassifier\n",
        "from sklearn.neighbors import KNeighborsClassifier\n",
        "from sklearn.linear_model import LinearRegression\n",
        "from sklearn.ensemble import RandomForestRegressor\n",
        "from sklearn import tree\n",
        "from sklearn.svm import SVC\n",
        "from sklearn import metrics\n",
        "from sklearn.metrics import mean_squared_error\n",
        "from sklearn.metrics import confusion_matrix, classification_report\n",
        "#import graphviz\n",
        "\n",
        "%matplotlib inline\n",
        "import matplotlib as mp\n",
        "import matplotlib.pyplot as plt\n",
        " \n",
        "import scipy.stats as scs\n",
        "import scipy.stats as stats\n",
        "\n",
        "import statsmodels.api as sm\n",
        "from datetime import date, datetime, time\n",
        "import os\n",
        "import json\n",
        "import seaborn as sns\n",
        "\n",
        "sns.set(style='whitegrid')"
      ]
    },
    {
      "cell_type": "code",
      "source": [
        "pd.set_option('display.float_format', lambda x: '%.3f' % x)"
      ],
      "metadata": {
        "id": "-6FOVjL386kd"
      },
      "execution_count": 53,
      "outputs": []
    },
    {
      "cell_type": "code",
      "source": [
        "# mount g-drive to access datafiles\n",
        "from google.colab import drive\n",
        "drive.mount('/content/drive')"
      ],
      "metadata": {
        "colab": {
          "base_uri": "https://localhost:8080/"
        },
        "id": "lo2dLe76V0tX",
        "outputId": "7f074822-b763-473d-8a61-78f5c7669aae"
      },
      "execution_count": 54,
      "outputs": [
        {
          "output_type": "stream",
          "name": "stdout",
          "text": [
            "Drive already mounted at /content/drive; to attempt to forcibly remount, call drive.mount(\"/content/drive\", force_remount=True).\n"
          ]
        }
      ]
    },
    {
      "cell_type": "code",
      "source": [
        "# setting path\n",
        "path= '/content/drive/MyDrive/data/location_task'\n",
        "os.chdir(path)\n",
        "print(\"current dir is: %s\" % (path))"
      ],
      "metadata": {
        "colab": {
          "base_uri": "https://localhost:8080/"
        },
        "id": "CVx32lzFSQKL",
        "outputId": "a1d1dae8-8690-4a99-d124-47d5d036dc2d"
      },
      "execution_count": 55,
      "outputs": [
        {
          "output_type": "stream",
          "name": "stdout",
          "text": [
            "current dir is: /content/drive/MyDrive/data/location_task\n"
          ]
        }
      ]
    },
    {
      "cell_type": "code",
      "source": [
        "\n",
        "# reading data files\n",
        "with open(\"location_task_no_nulls.json\", \"r\") as read_file:\n",
        "    data = json.load(read_file)"
      ],
      "metadata": {
        "id": "IJl5u_DyQx0b"
      },
      "execution_count": 56,
      "outputs": []
    },
    {
      "cell_type": "code",
      "source": [
        "df = pd.DataFrame(data)\n",
        "df.head()"
      ],
      "metadata": {
        "colab": {
          "base_uri": "https://localhost:8080/",
          "height": 305
        },
        "id": "Y1-sqAsqYkFw",
        "outputId": "cfb41ef8-fa51-4d03-e0ac-840287e00296"
      },
      "execution_count": 57,
      "outputs": [
        {
          "output_type": "execute_result",
          "data": {
            "text/plain": [
              "      order_id  order_value  order_items_count customer_id  \\\n",
              "618  b8ds-tqhf       40.440                 10    h6huq0td   \n",
              "619  x5xx-j2d2       35.600                 10    t2nod4rq   \n",
              "620  x6qu-14kt       42.490                 12    m4ycd3tm   \n",
              "621  x3yw-rhc5       14.400                 11    sgmnf9sb   \n",
              "622  y9zp-58q7       38.150                 10    x4rvv3iy   \n",
              "\n",
              "    created_timestamp_local  has_instruction  logistics_dropoff_distance  \\\n",
              "618     2021-03-11T20:19:50             True                      58.656   \n",
              "619     2021-03-12T18:42:48             True                      39.025   \n",
              "620     2021-03-27T11:29:17             True                      40.068   \n",
              "621     2021-03-02T22:08:52             True                      44.987   \n",
              "622     2021-03-23T20:35:26             True                      71.521   \n",
              "\n",
              "    delivery_postal_code delivery_geohash_precision8  has_phone_number  \\\n",
              "618               828868                    w23bh248             False   \n",
              "619               530548                    w21zu55k             False   \n",
              "620               650248                    w21z9jc4             False   \n",
              "621               550105                    w21zg97y             False   \n",
              "622               102112                    w21z61q6             False   \n",
              "\n",
              "     has_call_instruction  has_leave_instruction  has_lift_instruction  \\\n",
              "618                 False                  False                 False   \n",
              "619                 False                  False                 False   \n",
              "620                 False                   True                 False   \n",
              "621                 False                  False                 False   \n",
              "622                 False                  False                 False   \n",
              "\n",
              "     has_lobby_instruction  has_gate_instruction  has_knock_instruction  \\\n",
              "618                  False                 False                  False   \n",
              "619                  False                 False                  False   \n",
              "620                  False                 False                  False   \n",
              "621                  False                 False                  False   \n",
              "622                  False                 False                  False   \n",
              "\n",
              "     has_bell_instruction  \n",
              "618                 False  \n",
              "619                 False  \n",
              "620                 False  \n",
              "621                 False  \n",
              "622                 False  "
            ],
            "text/html": [
              "\n",
              "  <div id=\"df-f3b51328-7ca6-4105-871d-270fd65460e6\">\n",
              "    <div class=\"colab-df-container\">\n",
              "      <div>\n",
              "<style scoped>\n",
              "    .dataframe tbody tr th:only-of-type {\n",
              "        vertical-align: middle;\n",
              "    }\n",
              "\n",
              "    .dataframe tbody tr th {\n",
              "        vertical-align: top;\n",
              "    }\n",
              "\n",
              "    .dataframe thead th {\n",
              "        text-align: right;\n",
              "    }\n",
              "</style>\n",
              "<table border=\"1\" class=\"dataframe\">\n",
              "  <thead>\n",
              "    <tr style=\"text-align: right;\">\n",
              "      <th></th>\n",
              "      <th>order_id</th>\n",
              "      <th>order_value</th>\n",
              "      <th>order_items_count</th>\n",
              "      <th>customer_id</th>\n",
              "      <th>created_timestamp_local</th>\n",
              "      <th>has_instruction</th>\n",
              "      <th>logistics_dropoff_distance</th>\n",
              "      <th>delivery_postal_code</th>\n",
              "      <th>delivery_geohash_precision8</th>\n",
              "      <th>has_phone_number</th>\n",
              "      <th>has_call_instruction</th>\n",
              "      <th>has_leave_instruction</th>\n",
              "      <th>has_lift_instruction</th>\n",
              "      <th>has_lobby_instruction</th>\n",
              "      <th>has_gate_instruction</th>\n",
              "      <th>has_knock_instruction</th>\n",
              "      <th>has_bell_instruction</th>\n",
              "    </tr>\n",
              "  </thead>\n",
              "  <tbody>\n",
              "    <tr>\n",
              "      <th>618</th>\n",
              "      <td>b8ds-tqhf</td>\n",
              "      <td>40.440</td>\n",
              "      <td>10</td>\n",
              "      <td>h6huq0td</td>\n",
              "      <td>2021-03-11T20:19:50</td>\n",
              "      <td>True</td>\n",
              "      <td>58.656</td>\n",
              "      <td>828868</td>\n",
              "      <td>w23bh248</td>\n",
              "      <td>False</td>\n",
              "      <td>False</td>\n",
              "      <td>False</td>\n",
              "      <td>False</td>\n",
              "      <td>False</td>\n",
              "      <td>False</td>\n",
              "      <td>False</td>\n",
              "      <td>False</td>\n",
              "    </tr>\n",
              "    <tr>\n",
              "      <th>619</th>\n",
              "      <td>x5xx-j2d2</td>\n",
              "      <td>35.600</td>\n",
              "      <td>10</td>\n",
              "      <td>t2nod4rq</td>\n",
              "      <td>2021-03-12T18:42:48</td>\n",
              "      <td>True</td>\n",
              "      <td>39.025</td>\n",
              "      <td>530548</td>\n",
              "      <td>w21zu55k</td>\n",
              "      <td>False</td>\n",
              "      <td>False</td>\n",
              "      <td>False</td>\n",
              "      <td>False</td>\n",
              "      <td>False</td>\n",
              "      <td>False</td>\n",
              "      <td>False</td>\n",
              "      <td>False</td>\n",
              "    </tr>\n",
              "    <tr>\n",
              "      <th>620</th>\n",
              "      <td>x6qu-14kt</td>\n",
              "      <td>42.490</td>\n",
              "      <td>12</td>\n",
              "      <td>m4ycd3tm</td>\n",
              "      <td>2021-03-27T11:29:17</td>\n",
              "      <td>True</td>\n",
              "      <td>40.068</td>\n",
              "      <td>650248</td>\n",
              "      <td>w21z9jc4</td>\n",
              "      <td>False</td>\n",
              "      <td>False</td>\n",
              "      <td>True</td>\n",
              "      <td>False</td>\n",
              "      <td>False</td>\n",
              "      <td>False</td>\n",
              "      <td>False</td>\n",
              "      <td>False</td>\n",
              "    </tr>\n",
              "    <tr>\n",
              "      <th>621</th>\n",
              "      <td>x3yw-rhc5</td>\n",
              "      <td>14.400</td>\n",
              "      <td>11</td>\n",
              "      <td>sgmnf9sb</td>\n",
              "      <td>2021-03-02T22:08:52</td>\n",
              "      <td>True</td>\n",
              "      <td>44.987</td>\n",
              "      <td>550105</td>\n",
              "      <td>w21zg97y</td>\n",
              "      <td>False</td>\n",
              "      <td>False</td>\n",
              "      <td>False</td>\n",
              "      <td>False</td>\n",
              "      <td>False</td>\n",
              "      <td>False</td>\n",
              "      <td>False</td>\n",
              "      <td>False</td>\n",
              "    </tr>\n",
              "    <tr>\n",
              "      <th>622</th>\n",
              "      <td>y9zp-58q7</td>\n",
              "      <td>38.150</td>\n",
              "      <td>10</td>\n",
              "      <td>x4rvv3iy</td>\n",
              "      <td>2021-03-23T20:35:26</td>\n",
              "      <td>True</td>\n",
              "      <td>71.521</td>\n",
              "      <td>102112</td>\n",
              "      <td>w21z61q6</td>\n",
              "      <td>False</td>\n",
              "      <td>False</td>\n",
              "      <td>False</td>\n",
              "      <td>False</td>\n",
              "      <td>False</td>\n",
              "      <td>False</td>\n",
              "      <td>False</td>\n",
              "      <td>False</td>\n",
              "    </tr>\n",
              "  </tbody>\n",
              "</table>\n",
              "</div>\n",
              "      <button class=\"colab-df-convert\" onclick=\"convertToInteractive('df-f3b51328-7ca6-4105-871d-270fd65460e6')\"\n",
              "              title=\"Convert this dataframe to an interactive table.\"\n",
              "              style=\"display:none;\">\n",
              "        \n",
              "  <svg xmlns=\"http://www.w3.org/2000/svg\" height=\"24px\"viewBox=\"0 0 24 24\"\n",
              "       width=\"24px\">\n",
              "    <path d=\"M0 0h24v24H0V0z\" fill=\"none\"/>\n",
              "    <path d=\"M18.56 5.44l.94 2.06.94-2.06 2.06-.94-2.06-.94-.94-2.06-.94 2.06-2.06.94zm-11 1L8.5 8.5l.94-2.06 2.06-.94-2.06-.94L8.5 2.5l-.94 2.06-2.06.94zm10 10l.94 2.06.94-2.06 2.06-.94-2.06-.94-.94-2.06-.94 2.06-2.06.94z\"/><path d=\"M17.41 7.96l-1.37-1.37c-.4-.4-.92-.59-1.43-.59-.52 0-1.04.2-1.43.59L10.3 9.45l-7.72 7.72c-.78.78-.78 2.05 0 2.83L4 21.41c.39.39.9.59 1.41.59.51 0 1.02-.2 1.41-.59l7.78-7.78 2.81-2.81c.8-.78.8-2.07 0-2.86zM5.41 20L4 18.59l7.72-7.72 1.47 1.35L5.41 20z\"/>\n",
              "  </svg>\n",
              "      </button>\n",
              "      \n",
              "  <style>\n",
              "    .colab-df-container {\n",
              "      display:flex;\n",
              "      flex-wrap:wrap;\n",
              "      gap: 12px;\n",
              "    }\n",
              "\n",
              "    .colab-df-convert {\n",
              "      background-color: #E8F0FE;\n",
              "      border: none;\n",
              "      border-radius: 50%;\n",
              "      cursor: pointer;\n",
              "      display: none;\n",
              "      fill: #1967D2;\n",
              "      height: 32px;\n",
              "      padding: 0 0 0 0;\n",
              "      width: 32px;\n",
              "    }\n",
              "\n",
              "    .colab-df-convert:hover {\n",
              "      background-color: #E2EBFA;\n",
              "      box-shadow: 0px 1px 2px rgba(60, 64, 67, 0.3), 0px 1px 3px 1px rgba(60, 64, 67, 0.15);\n",
              "      fill: #174EA6;\n",
              "    }\n",
              "\n",
              "    [theme=dark] .colab-df-convert {\n",
              "      background-color: #3B4455;\n",
              "      fill: #D2E3FC;\n",
              "    }\n",
              "\n",
              "    [theme=dark] .colab-df-convert:hover {\n",
              "      background-color: #434B5C;\n",
              "      box-shadow: 0px 1px 3px 1px rgba(0, 0, 0, 0.15);\n",
              "      filter: drop-shadow(0px 1px 2px rgba(0, 0, 0, 0.3));\n",
              "      fill: #FFFFFF;\n",
              "    }\n",
              "  </style>\n",
              "\n",
              "      <script>\n",
              "        const buttonEl =\n",
              "          document.querySelector('#df-f3b51328-7ca6-4105-871d-270fd65460e6 button.colab-df-convert');\n",
              "        buttonEl.style.display =\n",
              "          google.colab.kernel.accessAllowed ? 'block' : 'none';\n",
              "\n",
              "        async function convertToInteractive(key) {\n",
              "          const element = document.querySelector('#df-f3b51328-7ca6-4105-871d-270fd65460e6');\n",
              "          const dataTable =\n",
              "            await google.colab.kernel.invokeFunction('convertToInteractive',\n",
              "                                                     [key], {});\n",
              "          if (!dataTable) return;\n",
              "\n",
              "          const docLinkHtml = 'Like what you see? Visit the ' +\n",
              "            '<a target=\"_blank\" href=https://colab.research.google.com/notebooks/data_table.ipynb>data table notebook</a>'\n",
              "            + ' to learn more about interactive tables.';\n",
              "          element.innerHTML = '';\n",
              "          dataTable['output_type'] = 'display_data';\n",
              "          await google.colab.output.renderOutput(dataTable, element);\n",
              "          const docLink = document.createElement('div');\n",
              "          docLink.innerHTML = docLinkHtml;\n",
              "          element.appendChild(docLink);\n",
              "        }\n",
              "      </script>\n",
              "    </div>\n",
              "  </div>\n",
              "  "
            ]
          },
          "metadata": {},
          "execution_count": 57
        }
      ]
    },
    {
      "cell_type": "markdown",
      "source": [
        "## Exploratory Data Analysis (EDA) & Feature Engineering"
      ],
      "metadata": {
        "id": "X_4H6OWDAQ6e"
      }
    },
    {
      "cell_type": "code",
      "source": [
        "df.info()"
      ],
      "metadata": {
        "colab": {
          "base_uri": "https://localhost:8080/"
        },
        "id": "g02b_kIjZASq",
        "outputId": "7103af4a-fc64-4041-f677-c16a9b95a3be"
      },
      "execution_count": 58,
      "outputs": [
        {
          "output_type": "stream",
          "name": "stdout",
          "text": [
            "<class 'pandas.core.frame.DataFrame'>\n",
            "Index: 2593799 entries, 618 to 2964438\n",
            "Data columns (total 17 columns):\n",
            " #   Column                       Dtype  \n",
            "---  ------                       -----  \n",
            " 0   order_id                     object \n",
            " 1   order_value                  float64\n",
            " 2   order_items_count            int64  \n",
            " 3   customer_id                  object \n",
            " 4   created_timestamp_local      object \n",
            " 5   has_instruction              bool   \n",
            " 6   logistics_dropoff_distance   float64\n",
            " 7   delivery_postal_code         object \n",
            " 8   delivery_geohash_precision8  object \n",
            " 9   has_phone_number             bool   \n",
            " 10  has_call_instruction         bool   \n",
            " 11  has_leave_instruction        bool   \n",
            " 12  has_lift_instruction         bool   \n",
            " 13  has_lobby_instruction        bool   \n",
            " 14  has_gate_instruction         bool   \n",
            " 15  has_knock_instruction        bool   \n",
            " 16  has_bell_instruction         bool   \n",
            "dtypes: bool(9), float64(2), int64(1), object(5)\n",
            "memory usage: 200.4+ MB\n"
          ]
        }
      ]
    },
    {
      "cell_type": "code",
      "source": [
        "print(\"shape of df is {} \".format(df.shape))"
      ],
      "metadata": {
        "colab": {
          "base_uri": "https://localhost:8080/"
        },
        "id": "6S_v6eEAZGCX",
        "outputId": "6c14e182-d4f4-4f71-f5c1-bbea3f704e1c"
      },
      "execution_count": 59,
      "outputs": [
        {
          "output_type": "stream",
          "name": "stdout",
          "text": [
            "shape of df is (2593799, 17) \n"
          ]
        }
      ]
    },
    {
      "cell_type": "code",
      "source": [
        "#convert two float columns(order_value and logistics_dropoff_distance ) into int ,this will save space , also doesn't affect model performance much\n",
        "df['logistics_dropoff_distance'] = np.floor(pd.to_numeric(df['logistics_dropoff_distance'], errors='coerce')).astype('Int64')\n",
        "df['order_value'] = np.floor(pd.to_numeric(df['order_value'], errors='coerce')).astype('Int64')"
      ],
      "metadata": {
        "id": "99ysUoBM9wGl"
      },
      "execution_count": 60,
      "outputs": []
    },
    {
      "cell_type": "code",
      "source": [
        "#Checking for null values \n",
        "print(df.isna().sum())"
      ],
      "metadata": {
        "colab": {
          "base_uri": "https://localhost:8080/"
        },
        "id": "JstQb5R4ftA_",
        "outputId": "cb342b50-7ffc-404a-fc1e-3d035baa907e"
      },
      "execution_count": 61,
      "outputs": [
        {
          "output_type": "stream",
          "name": "stdout",
          "text": [
            "order_id                       0\n",
            "order_value                    0\n",
            "order_items_count              0\n",
            "customer_id                    0\n",
            "created_timestamp_local        0\n",
            "has_instruction                0\n",
            "logistics_dropoff_distance     0\n",
            "delivery_postal_code           0\n",
            "delivery_geohash_precision8    0\n",
            "has_phone_number               0\n",
            "has_call_instruction           0\n",
            "has_leave_instruction          0\n",
            "has_lift_instruction           0\n",
            "has_lobby_instruction          0\n",
            "has_gate_instruction           0\n",
            "has_knock_instruction          0\n",
            "has_bell_instruction           0\n",
            "dtype: int64\n"
          ]
        }
      ]
    },
    {
      "cell_type": "code",
      "source": [
        "df.describe()"
      ],
      "metadata": {
        "colab": {
          "base_uri": "https://localhost:8080/",
          "height": 300
        },
        "id": "E5tFA9jqHnxO",
        "outputId": "4efb281e-b911-4819-c93f-3861aff95d37"
      },
      "execution_count": 62,
      "outputs": [
        {
          "output_type": "execute_result",
          "data": {
            "text/plain": [
              "       order_value  order_items_count  logistics_dropoff_distance\n",
              "count  2593799.000        2593799.000                 2593799.000\n",
              "mean        20.631              2.607                      93.040\n",
              "std         16.008              1.975                   16524.893\n",
              "min          0.000              1.000                       0.000\n",
              "25%         11.000              1.000                      21.000\n",
              "50%         16.000              2.000                      37.000\n",
              "75%         25.000              3.000                      63.000\n",
              "max        872.000             61.000                15328253.000"
            ],
            "text/html": [
              "\n",
              "  <div id=\"df-6088d4a7-9db3-45fb-8328-4acf3c46b3a4\">\n",
              "    <div class=\"colab-df-container\">\n",
              "      <div>\n",
              "<style scoped>\n",
              "    .dataframe tbody tr th:only-of-type {\n",
              "        vertical-align: middle;\n",
              "    }\n",
              "\n",
              "    .dataframe tbody tr th {\n",
              "        vertical-align: top;\n",
              "    }\n",
              "\n",
              "    .dataframe thead th {\n",
              "        text-align: right;\n",
              "    }\n",
              "</style>\n",
              "<table border=\"1\" class=\"dataframe\">\n",
              "  <thead>\n",
              "    <tr style=\"text-align: right;\">\n",
              "      <th></th>\n",
              "      <th>order_value</th>\n",
              "      <th>order_items_count</th>\n",
              "      <th>logistics_dropoff_distance</th>\n",
              "    </tr>\n",
              "  </thead>\n",
              "  <tbody>\n",
              "    <tr>\n",
              "      <th>count</th>\n",
              "      <td>2593799.000</td>\n",
              "      <td>2593799.000</td>\n",
              "      <td>2593799.000</td>\n",
              "    </tr>\n",
              "    <tr>\n",
              "      <th>mean</th>\n",
              "      <td>20.631</td>\n",
              "      <td>2.607</td>\n",
              "      <td>93.040</td>\n",
              "    </tr>\n",
              "    <tr>\n",
              "      <th>std</th>\n",
              "      <td>16.008</td>\n",
              "      <td>1.975</td>\n",
              "      <td>16524.893</td>\n",
              "    </tr>\n",
              "    <tr>\n",
              "      <th>min</th>\n",
              "      <td>0.000</td>\n",
              "      <td>1.000</td>\n",
              "      <td>0.000</td>\n",
              "    </tr>\n",
              "    <tr>\n",
              "      <th>25%</th>\n",
              "      <td>11.000</td>\n",
              "      <td>1.000</td>\n",
              "      <td>21.000</td>\n",
              "    </tr>\n",
              "    <tr>\n",
              "      <th>50%</th>\n",
              "      <td>16.000</td>\n",
              "      <td>2.000</td>\n",
              "      <td>37.000</td>\n",
              "    </tr>\n",
              "    <tr>\n",
              "      <th>75%</th>\n",
              "      <td>25.000</td>\n",
              "      <td>3.000</td>\n",
              "      <td>63.000</td>\n",
              "    </tr>\n",
              "    <tr>\n",
              "      <th>max</th>\n",
              "      <td>872.000</td>\n",
              "      <td>61.000</td>\n",
              "      <td>15328253.000</td>\n",
              "    </tr>\n",
              "  </tbody>\n",
              "</table>\n",
              "</div>\n",
              "      <button class=\"colab-df-convert\" onclick=\"convertToInteractive('df-6088d4a7-9db3-45fb-8328-4acf3c46b3a4')\"\n",
              "              title=\"Convert this dataframe to an interactive table.\"\n",
              "              style=\"display:none;\">\n",
              "        \n",
              "  <svg xmlns=\"http://www.w3.org/2000/svg\" height=\"24px\"viewBox=\"0 0 24 24\"\n",
              "       width=\"24px\">\n",
              "    <path d=\"M0 0h24v24H0V0z\" fill=\"none\"/>\n",
              "    <path d=\"M18.56 5.44l.94 2.06.94-2.06 2.06-.94-2.06-.94-.94-2.06-.94 2.06-2.06.94zm-11 1L8.5 8.5l.94-2.06 2.06-.94-2.06-.94L8.5 2.5l-.94 2.06-2.06.94zm10 10l.94 2.06.94-2.06 2.06-.94-2.06-.94-.94-2.06-.94 2.06-2.06.94z\"/><path d=\"M17.41 7.96l-1.37-1.37c-.4-.4-.92-.59-1.43-.59-.52 0-1.04.2-1.43.59L10.3 9.45l-7.72 7.72c-.78.78-.78 2.05 0 2.83L4 21.41c.39.39.9.59 1.41.59.51 0 1.02-.2 1.41-.59l7.78-7.78 2.81-2.81c.8-.78.8-2.07 0-2.86zM5.41 20L4 18.59l7.72-7.72 1.47 1.35L5.41 20z\"/>\n",
              "  </svg>\n",
              "      </button>\n",
              "      \n",
              "  <style>\n",
              "    .colab-df-container {\n",
              "      display:flex;\n",
              "      flex-wrap:wrap;\n",
              "      gap: 12px;\n",
              "    }\n",
              "\n",
              "    .colab-df-convert {\n",
              "      background-color: #E8F0FE;\n",
              "      border: none;\n",
              "      border-radius: 50%;\n",
              "      cursor: pointer;\n",
              "      display: none;\n",
              "      fill: #1967D2;\n",
              "      height: 32px;\n",
              "      padding: 0 0 0 0;\n",
              "      width: 32px;\n",
              "    }\n",
              "\n",
              "    .colab-df-convert:hover {\n",
              "      background-color: #E2EBFA;\n",
              "      box-shadow: 0px 1px 2px rgba(60, 64, 67, 0.3), 0px 1px 3px 1px rgba(60, 64, 67, 0.15);\n",
              "      fill: #174EA6;\n",
              "    }\n",
              "\n",
              "    [theme=dark] .colab-df-convert {\n",
              "      background-color: #3B4455;\n",
              "      fill: #D2E3FC;\n",
              "    }\n",
              "\n",
              "    [theme=dark] .colab-df-convert:hover {\n",
              "      background-color: #434B5C;\n",
              "      box-shadow: 0px 1px 3px 1px rgba(0, 0, 0, 0.15);\n",
              "      filter: drop-shadow(0px 1px 2px rgba(0, 0, 0, 0.3));\n",
              "      fill: #FFFFFF;\n",
              "    }\n",
              "  </style>\n",
              "\n",
              "      <script>\n",
              "        const buttonEl =\n",
              "          document.querySelector('#df-6088d4a7-9db3-45fb-8328-4acf3c46b3a4 button.colab-df-convert');\n",
              "        buttonEl.style.display =\n",
              "          google.colab.kernel.accessAllowed ? 'block' : 'none';\n",
              "\n",
              "        async function convertToInteractive(key) {\n",
              "          const element = document.querySelector('#df-6088d4a7-9db3-45fb-8328-4acf3c46b3a4');\n",
              "          const dataTable =\n",
              "            await google.colab.kernel.invokeFunction('convertToInteractive',\n",
              "                                                     [key], {});\n",
              "          if (!dataTable) return;\n",
              "\n",
              "          const docLinkHtml = 'Like what you see? Visit the ' +\n",
              "            '<a target=\"_blank\" href=https://colab.research.google.com/notebooks/data_table.ipynb>data table notebook</a>'\n",
              "            + ' to learn more about interactive tables.';\n",
              "          element.innerHTML = '';\n",
              "          dataTable['output_type'] = 'display_data';\n",
              "          await google.colab.output.renderOutput(dataTable, element);\n",
              "          const docLink = document.createElement('div');\n",
              "          docLink.innerHTML = docLinkHtml;\n",
              "          element.appendChild(docLink);\n",
              "        }\n",
              "      </script>\n",
              "    </div>\n",
              "  </div>\n",
              "  "
            ]
          },
          "metadata": {},
          "execution_count": 62
        }
      ]
    },
    {
      "cell_type": "code",
      "source": [
        "df.nunique()"
      ],
      "metadata": {
        "colab": {
          "base_uri": "https://localhost:8080/"
        },
        "id": "L5NttlYa3_pi",
        "outputId": "904dac3d-05f1-4b7b-d147-b9d2163f9e08"
      },
      "execution_count": 63,
      "outputs": [
        {
          "output_type": "execute_result",
          "data": {
            "text/plain": [
              "order_id                       2593799\n",
              "order_value                        413\n",
              "order_items_count                   53\n",
              "customer_id                     565549\n",
              "created_timestamp_local        1376285\n",
              "has_instruction                      2\n",
              "logistics_dropoff_distance        5854\n",
              "delivery_postal_code             47891\n",
              "delivery_geohash_precision8     119673\n",
              "has_phone_number                     2\n",
              "has_call_instruction                 2\n",
              "has_leave_instruction                2\n",
              "has_lift_instruction                 2\n",
              "has_lobby_instruction                2\n",
              "has_gate_instruction                 2\n",
              "has_knock_instruction                2\n",
              "has_bell_instruction                 2\n",
              "dtype: int64"
            ]
          },
          "metadata": {},
          "execution_count": 63
        }
      ]
    },
    {
      "cell_type": "markdown",
      "source": [
        "###EDA on logistics_dropoff_distance"
      ],
      "metadata": {
        "id": "DbAvNN-0sVgP"
      }
    },
    {
      "cell_type": "code",
      "source": [
        "#dividing relevance scores into two categories for easier analysis if logistics_dropoff_distance > 10km(10000 mtrs) we say distance is \"huge\", between 1000 and 10000 \"large\" otherwise \"small\"\n",
        "df['class'] = df['logistics_dropoff_distance'].apply(lambda x: 'small' if x<1000.0 else ('large' if x<10000 else \"huge\"))\n",
        "# lambda x : x*2 if x < 10 else (x*3 if x < 20 else x)"
      ],
      "metadata": {
        "id": "sJLCEu6IDo-_"
      },
      "execution_count": 64,
      "outputs": []
    },
    {
      "cell_type": "code",
      "source": [
        "df['class'].value_counts()"
      ],
      "metadata": {
        "colab": {
          "base_uri": "https://localhost:8080/"
        },
        "id": "l5AMHmhREjEl",
        "outputId": "f03243b4-419b-4f16-c2af-a037aea81144"
      },
      "execution_count": 65,
      "outputs": [
        {
          "output_type": "execute_result",
          "data": {
            "text/plain": [
              "small    2576369\n",
              "large      16489\n",
              "huge         941\n",
              "Name: class, dtype: int64"
            ]
          },
          "metadata": {},
          "execution_count": 65
        }
      ]
    },
    {
      "cell_type": "code",
      "source": [
        "sns.catplot(x='class', kind='count', data=df, height=5, aspect=2)\n",
        "plt.show()"
      ],
      "metadata": {
        "colab": {
          "base_uri": "https://localhost:8080/",
          "height": 365
        },
        "id": "yfC2joEHFohR",
        "outputId": "de5ab47b-9c1d-4901-c0e3-e74c967c8301"
      },
      "execution_count": 66,
      "outputs": [
        {
          "output_type": "display_data",
          "data": {
            "text/plain": [
              "<Figure size 720x360 with 1 Axes>"
            ],
            "image/png": "[encoded data removed]"
          },
          "metadata": {}
        }
      ]
    },
    {
      "cell_type": "markdown",
      "source": [
        "\n",
        "\n",
        "*   There is a significant class imbalance here\n",
        "*   Orders where logistics_dropoff_distance is greater than 10 km is just 0.03% of total orders\n",
        "*   Orders where logistics_dropoff_distance is greater than 1 km but less than 10 km is around 0.6% of total orders\n",
        "\n",
        "\n",
        "\n",
        "\n"
      ],
      "metadata": {
        "id": "M-DDObPuGVUG"
      }
    },
    {
      "cell_type": "code",
      "source": [
        "sns.boxplot(df['logistics_dropoff_distance'])"
      ],
      "metadata": {
        "colab": {
          "base_uri": "https://localhost:8080/",
          "height": 302
        },
        "id": "2hOufBsK7wgU",
        "outputId": "5d7f240e-c342-452b-eedc-a00f83c10bfb"
      },
      "execution_count": 67,
      "outputs": [
        {
          "output_type": "execute_result",
          "data": {
            "text/plain": [
              "<matplotlib.axes._subplots.AxesSubplot at 0x7f26c7e00e90>"
            ]
          },
          "metadata": {},
          "execution_count": 67
        },
        {
          "output_type": "display_data",
          "data": {
            "text/plain": [
              "<Figure size 432x288 with 1 Axes>"
            ],
            "image/png": "[encoded data removed]"
          },
          "metadata": {}
        }
      ]
    },
    {
      "cell_type": "markdown",
      "source": [
        "There are some outliers present in data , having a logistics dropoff distance greater than 10km is unusual "
      ],
      "metadata": {
        "id": "K9HMknxxjms_"
      }
    },
    {
      "cell_type": "code",
      "source": [
        "# # remove outliers from data based on target column \n",
        "# def remove_outlier(df_in, col_name):\n",
        "#     q1 = df_in[col_name].quantile(0.25)\n",
        "#     q3 = df_in[col_name].quantile(0.75)\n",
        "#     iqr = q3-q1 #Interquartile range\n",
        "#     fence_low  = q1-1.5*iqr\n",
        "#     fence_high = q3+1.5*iqr\n",
        "#     df_out = df_in.loc[(df_in[col_name] > fence_low) & (df_in[col_name] < fence_high)]\n",
        "#     return df_out"
      ],
      "metadata": {
        "id": "Kx5E0KYkhxbl"
      },
      "execution_count": 68,
      "outputs": []
    },
    {
      "cell_type": "markdown",
      "source": [
        "###Removing outliers"
      ],
      "metadata": {
        "id": "CYSJCE8qpbWg"
      }
    },
    {
      "cell_type": "code",
      "source": [
        "#remove outliers with quantile filter\n",
        "\n",
        "q_hi  = df[\"logistics_dropoff_distance\"].quantile(0.995) # remove top .005 quantile\n",
        "\n",
        "cleaned_df = df[df[\"logistics_dropoff_distance\"] < q_hi]"
      ],
      "metadata": {
        "id": "FVooO887kyfe"
      },
      "execution_count": 84,
      "outputs": []
    },
    {
      "cell_type": "code",
      "source": [
        "cleaned_df.describe()"
      ],
      "metadata": {
        "colab": {
          "base_uri": "https://localhost:8080/",
          "height": 300
        },
        "id": "CGtC_72OiRHU",
        "outputId": "9019a54d-eac8-483d-e775-b7d17c4e9431"
      },
      "execution_count": 85,
      "outputs": [
        {
          "output_type": "execute_result",
          "data": {
            "text/plain": [
              "       order_value  order_items_count  logistics_dropoff_distance\n",
              "count  2580826.000        2580826.000                 2580826.000\n",
              "mean        20.619              2.607                      56.952\n",
              "std         15.981              1.974                      88.653\n",
              "min          0.000              1.000                       0.000\n",
              "25%         11.000              1.000                      21.000\n",
              "50%         16.000              2.000                      37.000\n",
              "75%         25.000              3.000                      63.000\n",
              "max        872.000             61.000                    1274.000"
            ],
            "text/html": [
              "\n",
              "  <div id=\"df-a15d9598-c5fb-488b-a408-1384fb72e6db\">\n",
              "    <div class=\"colab-df-container\">\n",
              "      <div>\n",
              "<style scoped>\n",
              "    .dataframe tbody tr th:only-of-type {\n",
              "        vertical-align: middle;\n",
              "    }\n",
              "\n",
              "    .dataframe tbody tr th {\n",
              "        vertical-align: top;\n",
              "    }\n",
              "\n",
              "    .dataframe thead th {\n",
              "        text-align: right;\n",
              "    }\n",
              "</style>\n",
              "<table border=\"1\" class=\"dataframe\">\n",
              "  <thead>\n",
              "    <tr style=\"text-align: right;\">\n",
              "      <th></th>\n",
              "      <th>order_value</th>\n",
              "      <th>order_items_count</th>\n",
              "      <th>logistics_dropoff_distance</th>\n",
              "    </tr>\n",
              "  </thead>\n",
              "  <tbody>\n",
              "    <tr>\n",
              "      <th>count</th>\n",
              "      <td>2580826.000</td>\n",
              "      <td>2580826.000</td>\n",
              "      <td>2580826.000</td>\n",
              "    </tr>\n",
              "    <tr>\n",
              "      <th>mean</th>\n",
              "      <td>20.619</td>\n",
              "      <td>2.607</td>\n",
              "      <td>56.952</td>\n",
              "    </tr>\n",
              "    <tr>\n",
              "      <th>std</th>\n",
              "      <td>15.981</td>\n",
              "      <td>1.974</td>\n",
              "      <td>88.653</td>\n",
              "    </tr>\n",
              "    <tr>\n",
              "      <th>min</th>\n",
              "      <td>0.000</td>\n",
              "      <td>1.000</td>\n",
              "      <td>0.000</td>\n",
              "    </tr>\n",
              "    <tr>\n",
              "      <th>25%</th>\n",
              "      <td>11.000</td>\n",
              "      <td>1.000</td>\n",
              "      <td>21.000</td>\n",
              "    </tr>\n",
              "    <tr>\n",
              "      <th>50%</th>\n",
              "      <td>16.000</td>\n",
              "      <td>2.000</td>\n",
              "      <td>37.000</td>\n",
              "    </tr>\n",
              "    <tr>\n",
              "      <th>75%</th>\n",
              "      <td>25.000</td>\n",
              "      <td>3.000</td>\n",
              "      <td>63.000</td>\n",
              "    </tr>\n",
              "    <tr>\n",
              "      <th>max</th>\n",
              "      <td>872.000</td>\n",
              "      <td>61.000</td>\n",
              "      <td>1274.000</td>\n",
              "    </tr>\n",
              "  </tbody>\n",
              "</table>\n",
              "</div>\n",
              "      <button class=\"colab-df-convert\" onclick=\"convertToInteractive('df-a15d9598-c5fb-488b-a408-1384fb72e6db')\"\n",
              "              title=\"Convert this dataframe to an interactive table.\"\n",
              "              style=\"display:none;\">\n",
              "        \n",
              "  <svg xmlns=\"http://www.w3.org/2000/svg\" height=\"24px\"viewBox=\"0 0 24 24\"\n",
              "       width=\"24px\">\n",
              "    <path d=\"M0 0h24v24H0V0z\" fill=\"none\"/>\n",
              "    <path d=\"M18.56 5.44l.94 2.06.94-2.06 2.06-.94-2.06-.94-.94-2.06-.94 2.06-2.06.94zm-11 1L8.5 8.5l.94-2.06 2.06-.94-2.06-.94L8.5 2.5l-.94 2.06-2.06.94zm10 10l.94 2.06.94-2.06 2.06-.94-2.06-.94-.94-2.06-.94 2.06-2.06.94z\"/><path d=\"M17.41 7.96l-1.37-1.37c-.4-.4-.92-.59-1.43-.59-.52 0-1.04.2-1.43.59L10.3 9.45l-7.72 7.72c-.78.78-.78 2.05 0 2.83L4 21.41c.39.39.9.59 1.41.59.51 0 1.02-.2 1.41-.59l7.78-7.78 2.81-2.81c.8-.78.8-2.07 0-2.86zM5.41 20L4 18.59l7.72-7.72 1.47 1.35L5.41 20z\"/>\n",
              "  </svg>\n",
              "      </button>\n",
              "      \n",
              "  <style>\n",
              "    .colab-df-container {\n",
              "      display:flex;\n",
              "      flex-wrap:wrap;\n",
              "      gap: 12px;\n",
              "    }\n",
              "\n",
              "    .colab-df-convert {\n",
              "      background-color: #E8F0FE;\n",
              "      border: none;\n",
              "      border-radius: 50%;\n",
              "      cursor: pointer;\n",
              "      display: none;\n",
              "      fill: #1967D2;\n",
              "      height: 32px;\n",
              "      padding: 0 0 0 0;\n",
              "      width: 32px;\n",
              "    }\n",
              "\n",
              "    .colab-df-convert:hover {\n",
              "      background-color: #E2EBFA;\n",
              "      box-shadow: 0px 1px 2px rgba(60, 64, 67, 0.3), 0px 1px 3px 1px rgba(60, 64, 67, 0.15);\n",
              "      fill: #174EA6;\n",
              "    }\n",
              "\n",
              "    [theme=dark] .colab-df-convert {\n",
              "      background-color: #3B4455;\n",
              "      fill: #D2E3FC;\n",
              "    }\n",
              "\n",
              "    [theme=dark] .colab-df-convert:hover {\n",
              "      background-color: #434B5C;\n",
              "      box-shadow: 0px 1px 3px 1px rgba(0, 0, 0, 0.15);\n",
              "      filter: drop-shadow(0px 1px 2px rgba(0, 0, 0, 0.3));\n",
              "      fill: #FFFFFF;\n",
              "    }\n",
              "  </style>\n",
              "\n",
              "      <script>\n",
              "        const buttonEl =\n",
              "          document.querySelector('#df-a15d9598-c5fb-488b-a408-1384fb72e6db button.colab-df-convert');\n",
              "        buttonEl.style.display =\n",
              "          google.colab.kernel.accessAllowed ? 'block' : 'none';\n",
              "\n",
              "        async function convertToInteractive(key) {\n",
              "          const element = document.querySelector('#df-a15d9598-c5fb-488b-a408-1384fb72e6db');\n",
              "          const dataTable =\n",
              "            await google.colab.kernel.invokeFunction('convertToInteractive',\n",
              "                                                     [key], {});\n",
              "          if (!dataTable) return;\n",
              "\n",
              "          const docLinkHtml = 'Like what you see? Visit the ' +\n",
              "            '<a target=\"_blank\" href=https://colab.research.google.com/notebooks/data_table.ipynb>data table notebook</a>'\n",
              "            + ' to learn more about interactive tables.';\n",
              "          element.innerHTML = '';\n",
              "          dataTable['output_type'] = 'display_data';\n",
              "          await google.colab.output.renderOutput(dataTable, element);\n",
              "          const docLink = document.createElement('div');\n",
              "          docLink.innerHTML = docLinkHtml;\n",
              "          element.appendChild(docLink);\n",
              "        }\n",
              "      </script>\n",
              "    </div>\n",
              "  </div>\n",
              "  "
            ]
          },
          "metadata": {},
          "execution_count": 85
        }
      ]
    },
    {
      "cell_type": "markdown",
      "source": [
        "\n",
        "\n",
        "*   Now the maximum value in logistics_dropoff_distance is 1274m (~ 1km) which does not seem unusual for dropoff distance\n",
        "\n",
        "\n"
      ],
      "metadata": {
        "id": "Dq3xVI0Xmdqw"
      }
    },
    {
      "cell_type": "code",
      "source": [
        "cleaned_df.columns"
      ],
      "metadata": {
        "colab": {
          "base_uri": "https://localhost:8080/"
        },
        "id": "GKw_2uxTrh6g",
        "outputId": "ba9fcc93-4c17-4f60-ced5-3892f660f7f0"
      },
      "execution_count": 86,
      "outputs": [
        {
          "output_type": "execute_result",
          "data": {
            "text/plain": [
              "Index(['order_id', 'order_value', 'order_items_count', 'customer_id',\n",
              "       'created_timestamp_local', 'has_instruction',\n",
              "       'logistics_dropoff_distance', 'delivery_postal_code',\n",
              "       'delivery_geohash_precision8', 'has_phone_number',\n",
              "       'has_call_instruction', 'has_leave_instruction', 'has_lift_instruction',\n",
              "       'has_lobby_instruction', 'has_gate_instruction',\n",
              "       'has_knock_instruction', 'has_bell_instruction', 'class'],\n",
              "      dtype='object')"
            ]
          },
          "metadata": {},
          "execution_count": 86
        }
      ]
    },
    {
      "cell_type": "markdown",
      "source": [
        "###Removing redundant columns"
      ],
      "metadata": {
        "id": "43JrhNCFJl70"
      }
    },
    {
      "cell_type": "code",
      "source": [
        "# The attributes \"delivery_postal_code\",\"customer_id\"  and \"delivery_geohash_precision8\"  can be removed\n",
        "# Since they are not important factor affecting the logistics_dropoff_distance\n",
        "cleaned_df = cleaned_df[['order_id', 'order_value', 'order_items_count', 'created_timestamp_local', 'has_instruction',\n",
        "       'logistics_dropoff_distance', 'has_phone_number',\n",
        "       'has_call_instruction', 'has_leave_instruction', 'has_lift_instruction',\n",
        "       'has_lobby_instruction', 'has_gate_instruction',\n",
        "       'has_knock_instruction', 'has_bell_instruction', 'class']]\n",
        "\n"
      ],
      "metadata": {
        "id": "fhd5YVZNrWz3"
      },
      "execution_count": 87,
      "outputs": []
    },
    {
      "cell_type": "markdown",
      "source": [
        "###EDA on  numerical features "
      ],
      "metadata": {
        "id": "NHk67veJqy7d"
      }
    },
    {
      "cell_type": "code",
      "source": [
        "#check Numerical variables distribution\n",
        "Numerical_column = ['order_value',  'order_items_count']\n",
        "fig, axes = plt.subplots(1,2, figsize=(20,10))\n",
        "for i,n in enumerate(Numerical_column):\n",
        "    axes[i].hist(cleaned_df[n],bins=50)\n",
        "    axes[i].set_title(n)"
      ],
      "metadata": {
        "colab": {
          "base_uri": "https://localhost:8080/",
          "height": 610
        },
        "id": "P7BAsyp3Hxtb",
        "outputId": "10a67989-07ad-4545-b896-d15f02093c3a"
      },
      "execution_count": 110,
      "outputs": [
        {
          "output_type": "display_data",
          "data": {
            "text/plain": [
              "<Figure size 1440x720 with 2 Axes>"
            ],
            "image/png": "[encoded data removed]"
          },
          "metadata": {}
        }
      ]
    },
    {
      "cell_type": "markdown",
      "source": [
        "\n",
        "\n",
        "*   Most of the times order value is less than 100\n",
        "\n",
        "*   Most of the times order count is less than 15\n",
        "\n"
      ],
      "metadata": {
        "id": "L1qmAFeNJHdM"
      }
    },
    {
      "cell_type": "code",
      "source": [
        "sns.boxplot(cleaned_df['order_value'])"
      ],
      "metadata": {
        "colab": {
          "base_uri": "https://localhost:8080/",
          "height": 302
        },
        "id": "zQ1QPpkonCcP",
        "outputId": "03a4995c-6ce0-4be0-ac51-7cb44803a274"
      },
      "execution_count": 88,
      "outputs": [
        {
          "output_type": "execute_result",
          "data": {
            "text/plain": [
              "<matplotlib.axes._subplots.AxesSubplot at 0x7f268fd7c750>"
            ]
          },
          "metadata": {},
          "execution_count": 88
        },
        {
          "output_type": "display_data",
          "data": {
            "text/plain": [
              "<Figure size 432x288 with 1 Axes>"
            ],
            "image/png": "[encoded data removed]"
          },
          "metadata": {}
        }
      ]
    },
    {
      "cell_type": "code",
      "source": [
        "sns.boxplot(cleaned_df['order_items_count'])"
      ],
      "metadata": {
        "colab": {
          "base_uri": "https://localhost:8080/",
          "height": 302
        },
        "id": "AO_Tz58-sgjO",
        "outputId": "5fa2d606-3d32-4fef-c5ed-b6f6277c02c7"
      },
      "execution_count": 89,
      "outputs": [
        {
          "output_type": "execute_result",
          "data": {
            "text/plain": [
              "<matplotlib.axes._subplots.AxesSubplot at 0x7f2693d80690>"
            ]
          },
          "metadata": {},
          "execution_count": 89
        },
        {
          "output_type": "display_data",
          "data": {
            "text/plain": [
              "<Figure size 432x288 with 1 Axes>"
            ],
            "image/png": "[encoded data removed]"
          },
          "metadata": {}
        }
      ]
    },
    {
      "cell_type": "markdown",
      "source": [
        "###EDA on boolean features"
      ],
      "metadata": {
        "id": "db2usbRVHPyY"
      }
    },
    {
      "cell_type": "code",
      "source": [
        "# Proceed to perform EDA on the remaining binary attributes\n",
        "\n",
        "columns_binary = ['has_instruction','has_phone_number',\n",
        "       'has_call_instruction', 'has_leave_instruction', 'has_lift_instruction',\n",
        "       'has_lobby_instruction', 'has_gate_instruction',\n",
        "       'has_knock_instruction', 'has_bell_instruction']\n",
        "\n",
        "fig, ax = plt.subplots(1, 9, figsize=(30, 5))\n",
        "for i, column in enumerate(columns_binary):\n",
        "    sns.boxplot(x=column, y='logistics_dropoff_distance', data=cleaned_df, ax=ax[i])\n",
        "plt.show()"
      ],
      "metadata": {
        "colab": {
          "base_uri": "https://localhost:8080/",
          "height": 278
        },
        "id": "1oqf4KX2s2h7",
        "outputId": "9b50dc77-7463-4c41-d881-60da762c8d43"
      },
      "execution_count": 91,
      "outputs": [
        {
          "output_type": "display_data",
          "data": {
            "text/plain": [
              "<Figure size 2160x360 with 9 Axes>"
            ],
            "image/png": "[encoded data removed]"
          },
          "metadata": {}
        }
      ]
    },
    {
      "cell_type": "code",
      "source": [
        "sns.catplot(x='has_instruction', kind='count', data=cleaned_df, height=5, aspect=2)\n",
        "plt.show()\n",
        "cleaned_df['has_instruction'].value_counts()"
      ],
      "metadata": {
        "colab": {
          "base_uri": "https://localhost:8080/",
          "height": 417
        },
        "id": "o6pScN28sjx3",
        "outputId": "36af7426-909a-4889-d046-1c23c11fd500"
      },
      "execution_count": 90,
      "outputs": [
        {
          "output_type": "display_data",
          "data": {
            "text/plain": [
              "<Figure size 720x360 with 1 Axes>"
            ],
            "image/png": "[encoded data removed]"
          },
          "metadata": {}
        },
        {
          "output_type": "execute_result",
          "data": {
            "text/plain": [
              "True     2297973\n",
              "False     282853\n",
              "Name: has_instruction, dtype: int64"
            ]
          },
          "metadata": {},
          "execution_count": 90
        }
      ]
    },
    {
      "cell_type": "markdown",
      "source": [
        "Most of them have delivery instructions"
      ],
      "metadata": {
        "id": "fnIqgVpDs1_h"
      }
    },
    {
      "cell_type": "markdown",
      "source": [
        "###Feature engineering using the order create date timestamp"
      ],
      "metadata": {
        "id": "pYTMOVT2wIO4"
      }
    },
    {
      "cell_type": "markdown",
      "source": [
        "\n",
        "\n",
        "\n",
        "From the dataset, there is one datetime attributes available - 'created_timestamp_local'. The attribute 'created_timestamp_local' is important since the schedule of delivery only starts after the order is created. To extract information from the attribute, the feature engineering is performed and the new attributes 'Month', 'Day', 'Day of week' and 'Weekend','Hour' are created as there might be peak period during certain month, day, hour or on weekend."
      ],
      "metadata": {
        "id": "ajkJeckCuxn_"
      }
    },
    {
      "cell_type": "code",
      "source": [
        "cleaned_df['created_timestamp_local'] = pd.to_datetime(cleaned_df.created_timestamp_local)"
      ],
      "metadata": {
        "id": "ExIHl-uevSfE"
      },
      "execution_count": 92,
      "outputs": []
    },
    {
      "cell_type": "code",
      "source": [
        "cleaned_df['Month'] = cleaned_df['created_timestamp_local'].apply(lambda x: x.month)\n",
        "cleaned_df['Day'] = cleaned_df['created_timestamp_local'].apply(lambda x: x.day)\n",
        "cleaned_df['Hour'] = cleaned_df['created_timestamp_local'].apply(lambda x: x.hour)\n",
        "cleaned_df['DOW'] = cleaned_df['created_timestamp_local'].dt.dayofweek\n",
        "cleaned_df['Weekend'] = cleaned_df['created_timestamp_local'].apply(lambda x: 1 if x.weekday() >=5 else 0)"
      ],
      "metadata": {
        "id": "q3pLyD8Lu22Z"
      },
      "execution_count": 93,
      "outputs": []
    },
    {
      "cell_type": "code",
      "source": [
        "cleaned_df.head()"
      ],
      "metadata": {
        "colab": {
          "base_uri": "https://localhost:8080/",
          "height": 305
        },
        "id": "BmEIt16_z5Vj",
        "outputId": "afa885d1-e823-432d-84e9-71aa98fe9bb3"
      },
      "execution_count": 94,
      "outputs": [
        {
          "output_type": "execute_result",
          "data": {
            "text/plain": [
              "      order_id  order_value  order_items_count created_timestamp_local  \\\n",
              "618  b8ds-tqhf           40                 10     2021-03-11 20:19:50   \n",
              "619  x5xx-j2d2           35                 10     2021-03-12 18:42:48   \n",
              "620  x6qu-14kt           42                 12     2021-03-27 11:29:17   \n",
              "621  x3yw-rhc5           14                 11     2021-03-02 22:08:52   \n",
              "622  y9zp-58q7           38                 10     2021-03-23 20:35:26   \n",
              "\n",
              "     has_instruction  logistics_dropoff_distance  has_phone_number  \\\n",
              "618             True                          58             False   \n",
              "619             True                          39             False   \n",
              "620             True                          40             False   \n",
              "621             True                          44             False   \n",
              "622             True                          71             False   \n",
              "\n",
              "     has_call_instruction  has_leave_instruction  has_lift_instruction  \\\n",
              "618                 False                  False                 False   \n",
              "619                 False                  False                 False   \n",
              "620                 False                   True                 False   \n",
              "621                 False                  False                 False   \n",
              "622                 False                  False                 False   \n",
              "\n",
              "     has_lobby_instruction  has_gate_instruction  has_knock_instruction  \\\n",
              "618                  False                 False                  False   \n",
              "619                  False                 False                  False   \n",
              "620                  False                 False                  False   \n",
              "621                  False                 False                  False   \n",
              "622                  False                 False                  False   \n",
              "\n",
              "     has_bell_instruction  class  Month  Day  Hour  DOW  Weekend  \n",
              "618                 False  small      3   11    20    3        0  \n",
              "619                 False  small      3   12    18    4        0  \n",
              "620                 False  small      3   27    11    5        1  \n",
              "621                 False  small      3    2    22    1        0  \n",
              "622                 False  small      3   23    20    1        0  "
            ],
            "text/html": [
              "\n",
              "  <div id=\"df-1b4569ec-d178-4475-bfbc-5b0b8d286c53\">\n",
              "    <div class=\"colab-df-container\">\n",
              "      <div>\n",
              "<style scoped>\n",
              "    .dataframe tbody tr th:only-of-type {\n",
              "        vertical-align: middle;\n",
              "    }\n",
              "\n",
              "    .dataframe tbody tr th {\n",
              "        vertical-align: top;\n",
              "    }\n",
              "\n",
              "    .dataframe thead th {\n",
              "        text-align: right;\n",
              "    }\n",
              "</style>\n",
              "<table border=\"1\" class=\"dataframe\">\n",
              "  <thead>\n",
              "    <tr style=\"text-align: right;\">\n",
              "      <th></th>\n",
              "      <th>order_id</th>\n",
              "      <th>order_value</th>\n",
              "      <th>order_items_count</th>\n",
              "      <th>created_timestamp_local</th>\n",
              "      <th>has_instruction</th>\n",
              "      <th>logistics_dropoff_distance</th>\n",
              "      <th>has_phone_number</th>\n",
              "      <th>has_call_instruction</th>\n",
              "      <th>has_leave_instruction</th>\n",
              "      <th>has_lift_instruction</th>\n",
              "      <th>has_lobby_instruction</th>\n",
              "      <th>has_gate_instruction</th>\n",
              "      <th>has_knock_instruction</th>\n",
              "      <th>has_bell_instruction</th>\n",
              "      <th>class</th>\n",
              "      <th>Month</th>\n",
              "      <th>Day</th>\n",
              "      <th>Hour</th>\n",
              "      <th>DOW</th>\n",
              "      <th>Weekend</th>\n",
              "    </tr>\n",
              "  </thead>\n",
              "  <tbody>\n",
              "    <tr>\n",
              "      <th>618</th>\n",
              "      <td>b8ds-tqhf</td>\n",
              "      <td>40</td>\n",
              "      <td>10</td>\n",
              "      <td>2021-03-11 20:19:50</td>\n",
              "      <td>True</td>\n",
              "      <td>58</td>\n",
              "      <td>False</td>\n",
              "      <td>False</td>\n",
              "      <td>False</td>\n",
              "      <td>False</td>\n",
              "      <td>False</td>\n",
              "      <td>False</td>\n",
              "      <td>False</td>\n",
              "      <td>False</td>\n",
              "      <td>small</td>\n",
              "      <td>3</td>\n",
              "      <td>11</td>\n",
              "      <td>20</td>\n",
              "      <td>3</td>\n",
              "      <td>0</td>\n",
              "    </tr>\n",
              "    <tr>\n",
              "      <th>619</th>\n",
              "      <td>x5xx-j2d2</td>\n",
              "      <td>35</td>\n",
              "      <td>10</td>\n",
              "      <td>2021-03-12 18:42:48</td>\n",
              "      <td>True</td>\n",
              "      <td>39</td>\n",
              "      <td>False</td>\n",
              "      <td>False</td>\n",
              "      <td>False</td>\n",
              "      <td>False</td>\n",
              "      <td>False</td>\n",
              "      <td>False</td>\n",
              "      <td>False</td>\n",
              "      <td>False</td>\n",
              "      <td>small</td>\n",
              "      <td>3</td>\n",
              "      <td>12</td>\n",
              "      <td>18</td>\n",
              "      <td>4</td>\n",
              "      <td>0</td>\n",
              "    </tr>\n",
              "    <tr>\n",
              "      <th>620</th>\n",
              "      <td>x6qu-14kt</td>\n",
              "      <td>42</td>\n",
              "      <td>12</td>\n",
              "      <td>2021-03-27 11:29:17</td>\n",
              "      <td>True</td>\n",
              "      <td>40</td>\n",
              "      <td>False</td>\n",
              "      <td>False</td>\n",
              "      <td>True</td>\n",
              "      <td>False</td>\n",
              "      <td>False</td>\n",
              "      <td>False</td>\n",
              "      <td>False</td>\n",
              "      <td>False</td>\n",
              "      <td>small</td>\n",
              "      <td>3</td>\n",
              "      <td>27</td>\n",
              "      <td>11</td>\n",
              "      <td>5</td>\n",
              "      <td>1</td>\n",
              "    </tr>\n",
              "    <tr>\n",
              "      <th>621</th>\n",
              "      <td>x3yw-rhc5</td>\n",
              "      <td>14</td>\n",
              "      <td>11</td>\n",
              "      <td>2021-03-02 22:08:52</td>\n",
              "      <td>True</td>\n",
              "      <td>44</td>\n",
              "      <td>False</td>\n",
              "      <td>False</td>\n",
              "      <td>False</td>\n",
              "      <td>False</td>\n",
              "      <td>False</td>\n",
              "      <td>False</td>\n",
              "      <td>False</td>\n",
              "      <td>False</td>\n",
              "      <td>small</td>\n",
              "      <td>3</td>\n",
              "      <td>2</td>\n",
              "      <td>22</td>\n",
              "      <td>1</td>\n",
              "      <td>0</td>\n",
              "    </tr>\n",
              "    <tr>\n",
              "      <th>622</th>\n",
              "      <td>y9zp-58q7</td>\n",
              "      <td>38</td>\n",
              "      <td>10</td>\n",
              "      <td>2021-03-23 20:35:26</td>\n",
              "      <td>True</td>\n",
              "      <td>71</td>\n",
              "      <td>False</td>\n",
              "      <td>False</td>\n",
              "      <td>False</td>\n",
              "      <td>False</td>\n",
              "      <td>False</td>\n",
              "      <td>False</td>\n",
              "      <td>False</td>\n",
              "      <td>False</td>\n",
              "      <td>small</td>\n",
              "      <td>3</td>\n",
              "      <td>23</td>\n",
              "      <td>20</td>\n",
              "      <td>1</td>\n",
              "      <td>0</td>\n",
              "    </tr>\n",
              "  </tbody>\n",
              "</table>\n",
              "</div>\n",
              "      <button class=\"colab-df-convert\" onclick=\"convertToInteractive('df-1b4569ec-d178-4475-bfbc-5b0b8d286c53')\"\n",
              "              title=\"Convert this dataframe to an interactive table.\"\n",
              "              style=\"display:none;\">\n",
              "        \n",
              "  <svg xmlns=\"http://www.w3.org/2000/svg\" height=\"24px\"viewBox=\"0 0 24 24\"\n",
              "       width=\"24px\">\n",
              "    <path d=\"M0 0h24v24H0V0z\" fill=\"none\"/>\n",
              "    <path d=\"M18.56 5.44l.94 2.06.94-2.06 2.06-.94-2.06-.94-.94-2.06-.94 2.06-2.06.94zm-11 1L8.5 8.5l.94-2.06 2.06-.94-2.06-.94L8.5 2.5l-.94 2.06-2.06.94zm10 10l.94 2.06.94-2.06 2.06-.94-2.06-.94-.94-2.06-.94 2.06-2.06.94z\"/><path d=\"M17.41 7.96l-1.37-1.37c-.4-.4-.92-.59-1.43-.59-.52 0-1.04.2-1.43.59L10.3 9.45l-7.72 7.72c-.78.78-.78 2.05 0 2.83L4 21.41c.39.39.9.59 1.41.59.51 0 1.02-.2 1.41-.59l7.78-7.78 2.81-2.81c.8-.78.8-2.07 0-2.86zM5.41 20L4 18.59l7.72-7.72 1.47 1.35L5.41 20z\"/>\n",
              "  </svg>\n",
              "      </button>\n",
              "      \n",
              "  <style>\n",
              "    .colab-df-container {\n",
              "      display:flex;\n",
              "      flex-wrap:wrap;\n",
              "      gap: 12px;\n",
              "    }\n",
              "\n",
              "    .colab-df-convert {\n",
              "      background-color: #E8F0FE;\n",
              "      border: none;\n",
              "      border-radius: 50%;\n",
              "      cursor: pointer;\n",
              "      display: none;\n",
              "      fill: #1967D2;\n",
              "      height: 32px;\n",
              "      padding: 0 0 0 0;\n",
              "      width: 32px;\n",
              "    }\n",
              "\n",
              "    .colab-df-convert:hover {\n",
              "      background-color: #E2EBFA;\n",
              "      box-shadow: 0px 1px 2px rgba(60, 64, 67, 0.3), 0px 1px 3px 1px rgba(60, 64, 67, 0.15);\n",
              "      fill: #174EA6;\n",
              "    }\n",
              "\n",
              "    [theme=dark] .colab-df-convert {\n",
              "      background-color: #3B4455;\n",
              "      fill: #D2E3FC;\n",
              "    }\n",
              "\n",
              "    [theme=dark] .colab-df-convert:hover {\n",
              "      background-color: #434B5C;\n",
              "      box-shadow: 0px 1px 3px 1px rgba(0, 0, 0, 0.15);\n",
              "      filter: drop-shadow(0px 1px 2px rgba(0, 0, 0, 0.3));\n",
              "      fill: #FFFFFF;\n",
              "    }\n",
              "  </style>\n",
              "\n",
              "      <script>\n",
              "        const buttonEl =\n",
              "          document.querySelector('#df-1b4569ec-d178-4475-bfbc-5b0b8d286c53 button.colab-df-convert');\n",
              "        buttonEl.style.display =\n",
              "          google.colab.kernel.accessAllowed ? 'block' : 'none';\n",
              "\n",
              "        async function convertToInteractive(key) {\n",
              "          const element = document.querySelector('#df-1b4569ec-d178-4475-bfbc-5b0b8d286c53');\n",
              "          const dataTable =\n",
              "            await google.colab.kernel.invokeFunction('convertToInteractive',\n",
              "                                                     [key], {});\n",
              "          if (!dataTable) return;\n",
              "\n",
              "          const docLinkHtml = 'Like what you see? Visit the ' +\n",
              "            '<a target=\"_blank\" href=https://colab.research.google.com/notebooks/data_table.ipynb>data table notebook</a>'\n",
              "            + ' to learn more about interactive tables.';\n",
              "          element.innerHTML = '';\n",
              "          dataTable['output_type'] = 'display_data';\n",
              "          await google.colab.output.renderOutput(dataTable, element);\n",
              "          const docLink = document.createElement('div');\n",
              "          docLink.innerHTML = docLinkHtml;\n",
              "          element.appendChild(docLink);\n",
              "        }\n",
              "      </script>\n",
              "    </div>\n",
              "  </div>\n",
              "  "
            ]
          },
          "metadata": {},
          "execution_count": 94
        }
      ]
    },
    {
      "cell_type": "code",
      "source": [
        "for col in columns_binary:\n",
        "  cleaned_df[col] = cleaned_df[col].astype(int)\n",
        "  cleaned_df[col] = cleaned_df[col].astype(int)"
      ],
      "metadata": {
        "id": "L0toSy948Rvg"
      },
      "execution_count": 95,
      "outputs": []
    },
    {
      "cell_type": "code",
      "source": [
        "cleaned_df.head()"
      ],
      "metadata": {
        "colab": {
          "base_uri": "https://localhost:8080/",
          "height": 305
        },
        "id": "7kl1ul3N8qhZ",
        "outputId": "e32163b1-6de7-43c0-d7b5-5369881bc87b"
      },
      "execution_count": 96,
      "outputs": [
        {
          "output_type": "execute_result",
          "data": {
            "text/plain": [
              "      order_id  order_value  order_items_count created_timestamp_local  \\\n",
              "618  b8ds-tqhf           40                 10     2021-03-11 20:19:50   \n",
              "619  x5xx-j2d2           35                 10     2021-03-12 18:42:48   \n",
              "620  x6qu-14kt           42                 12     2021-03-27 11:29:17   \n",
              "621  x3yw-rhc5           14                 11     2021-03-02 22:08:52   \n",
              "622  y9zp-58q7           38                 10     2021-03-23 20:35:26   \n",
              "\n",
              "     has_instruction  logistics_dropoff_distance  has_phone_number  \\\n",
              "618                1                          58                 0   \n",
              "619                1                          39                 0   \n",
              "620                1                          40                 0   \n",
              "621                1                          44                 0   \n",
              "622                1                          71                 0   \n",
              "\n",
              "     has_call_instruction  has_leave_instruction  has_lift_instruction  \\\n",
              "618                     0                      0                     0   \n",
              "619                     0                      0                     0   \n",
              "620                     0                      1                     0   \n",
              "621                     0                      0                     0   \n",
              "622                     0                      0                     0   \n",
              "\n",
              "     has_lobby_instruction  has_gate_instruction  has_knock_instruction  \\\n",
              "618                      0                     0                      0   \n",
              "619                      0                     0                      0   \n",
              "620                      0                     0                      0   \n",
              "621                      0                     0                      0   \n",
              "622                      0                     0                      0   \n",
              "\n",
              "     has_bell_instruction  class  Month  Day  Hour  DOW  Weekend  \n",
              "618                     0  small      3   11    20    3        0  \n",
              "619                     0  small      3   12    18    4        0  \n",
              "620                     0  small      3   27    11    5        1  \n",
              "621                     0  small      3    2    22    1        0  \n",
              "622                     0  small      3   23    20    1        0  "
            ],
            "text/html": [
              "\n",
              "  <div id=\"df-6248cc66-9b4d-405b-bb3f-2749fba97b78\">\n",
              "    <div class=\"colab-df-container\">\n",
              "      <div>\n",
              "<style scoped>\n",
              "    .dataframe tbody tr th:only-of-type {\n",
              "        vertical-align: middle;\n",
              "    }\n",
              "\n",
              "    .dataframe tbody tr th {\n",
              "        vertical-align: top;\n",
              "    }\n",
              "\n",
              "    .dataframe thead th {\n",
              "        text-align: right;\n",
              "    }\n",
              "</style>\n",
              "<table border=\"1\" class=\"dataframe\">\n",
              "  <thead>\n",
              "    <tr style=\"text-align: right;\">\n",
              "      <th></th>\n",
              "      <th>order_id</th>\n",
              "      <th>order_value</th>\n",
              "      <th>order_items_count</th>\n",
              "      <th>created_timestamp_local</th>\n",
              "      <th>has_instruction</th>\n",
              "      <th>logistics_dropoff_distance</th>\n",
              "      <th>has_phone_number</th>\n",
              "      <th>has_call_instruction</th>\n",
              "      <th>has_leave_instruction</th>\n",
              "      <th>has_lift_instruction</th>\n",
              "      <th>has_lobby_instruction</th>\n",
              "      <th>has_gate_instruction</th>\n",
              "      <th>has_knock_instruction</th>\n",
              "      <th>has_bell_instruction</th>\n",
              "      <th>class</th>\n",
              "      <th>Month</th>\n",
              "      <th>Day</th>\n",
              "      <th>Hour</th>\n",
              "      <th>DOW</th>\n",
              "      <th>Weekend</th>\n",
              "    </tr>\n",
              "  </thead>\n",
              "  <tbody>\n",
              "    <tr>\n",
              "      <th>618</th>\n",
              "      <td>b8ds-tqhf</td>\n",
              "      <td>40</td>\n",
              "      <td>10</td>\n",
              "      <td>2021-03-11 20:19:50</td>\n",
              "      <td>1</td>\n",
              "      <td>58</td>\n",
              "      <td>0</td>\n",
              "      <td>0</td>\n",
              "      <td>0</td>\n",
              "      <td>0</td>\n",
              "      <td>0</td>\n",
              "      <td>0</td>\n",
              "      <td>0</td>\n",
              "      <td>0</td>\n",
              "      <td>small</td>\n",
              "      <td>3</td>\n",
              "      <td>11</td>\n",
              "      <td>20</td>\n",
              "      <td>3</td>\n",
              "      <td>0</td>\n",
              "    </tr>\n",
              "    <tr>\n",
              "      <th>619</th>\n",
              "      <td>x5xx-j2d2</td>\n",
              "      <td>35</td>\n",
              "      <td>10</td>\n",
              "      <td>2021-03-12 18:42:48</td>\n",
              "      <td>1</td>\n",
              "      <td>39</td>\n",
              "      <td>0</td>\n",
              "      <td>0</td>\n",
              "      <td>0</td>\n",
              "      <td>0</td>\n",
              "      <td>0</td>\n",
              "      <td>0</td>\n",
              "      <td>0</td>\n",
              "      <td>0</td>\n",
              "      <td>small</td>\n",
              "      <td>3</td>\n",
              "      <td>12</td>\n",
              "      <td>18</td>\n",
              "      <td>4</td>\n",
              "      <td>0</td>\n",
              "    </tr>\n",
              "    <tr>\n",
              "      <th>620</th>\n",
              "      <td>x6qu-14kt</td>\n",
              "      <td>42</td>\n",
              "      <td>12</td>\n",
              "      <td>2021-03-27 11:29:17</td>\n",
              "      <td>1</td>\n",
              "      <td>40</td>\n",
              "      <td>0</td>\n",
              "      <td>0</td>\n",
              "      <td>1</td>\n",
              "      <td>0</td>\n",
              "      <td>0</td>\n",
              "      <td>0</td>\n",
              "      <td>0</td>\n",
              "      <td>0</td>\n",
              "      <td>small</td>\n",
              "      <td>3</td>\n",
              "      <td>27</td>\n",
              "      <td>11</td>\n",
              "      <td>5</td>\n",
              "      <td>1</td>\n",
              "    </tr>\n",
              "    <tr>\n",
              "      <th>621</th>\n",
              "      <td>x3yw-rhc5</td>\n",
              "      <td>14</td>\n",
              "      <td>11</td>\n",
              "      <td>2021-03-02 22:08:52</td>\n",
              "      <td>1</td>\n",
              "      <td>44</td>\n",
              "      <td>0</td>\n",
              "      <td>0</td>\n",
              "      <td>0</td>\n",
              "      <td>0</td>\n",
              "      <td>0</td>\n",
              "      <td>0</td>\n",
              "      <td>0</td>\n",
              "      <td>0</td>\n",
              "      <td>small</td>\n",
              "      <td>3</td>\n",
              "      <td>2</td>\n",
              "      <td>22</td>\n",
              "      <td>1</td>\n",
              "      <td>0</td>\n",
              "    </tr>\n",
              "    <tr>\n",
              "      <th>622</th>\n",
              "      <td>y9zp-58q7</td>\n",
              "      <td>38</td>\n",
              "      <td>10</td>\n",
              "      <td>2021-03-23 20:35:26</td>\n",
              "      <td>1</td>\n",
              "      <td>71</td>\n",
              "      <td>0</td>\n",
              "      <td>0</td>\n",
              "      <td>0</td>\n",
              "      <td>0</td>\n",
              "      <td>0</td>\n",
              "      <td>0</td>\n",
              "      <td>0</td>\n",
              "      <td>0</td>\n",
              "      <td>small</td>\n",
              "      <td>3</td>\n",
              "      <td>23</td>\n",
              "      <td>20</td>\n",
              "      <td>1</td>\n",
              "      <td>0</td>\n",
              "    </tr>\n",
              "  </tbody>\n",
              "</table>\n",
              "</div>\n",
              "      <button class=\"colab-df-convert\" onclick=\"convertToInteractive('df-6248cc66-9b4d-405b-bb3f-2749fba97b78')\"\n",
              "              title=\"Convert this dataframe to an interactive table.\"\n",
              "              style=\"display:none;\">\n",
              "        \n",
              "  <svg xmlns=\"http://www.w3.org/2000/svg\" height=\"24px\"viewBox=\"0 0 24 24\"\n",
              "       width=\"24px\">\n",
              "    <path d=\"M0 0h24v24H0V0z\" fill=\"none\"/>\n",
              "    <path d=\"M18.56 5.44l.94 2.06.94-2.06 2.06-.94-2.06-.94-.94-2.06-.94 2.06-2.06.94zm-11 1L8.5 8.5l.94-2.06 2.06-.94-2.06-.94L8.5 2.5l-.94 2.06-2.06.94zm10 10l.94 2.06.94-2.06 2.06-.94-2.06-.94-.94-2.06-.94 2.06-2.06.94z\"/><path d=\"M17.41 7.96l-1.37-1.37c-.4-.4-.92-.59-1.43-.59-.52 0-1.04.2-1.43.59L10.3 9.45l-7.72 7.72c-.78.78-.78 2.05 0 2.83L4 21.41c.39.39.9.59 1.41.59.51 0 1.02-.2 1.41-.59l7.78-7.78 2.81-2.81c.8-.78.8-2.07 0-2.86zM5.41 20L4 18.59l7.72-7.72 1.47 1.35L5.41 20z\"/>\n",
              "  </svg>\n",
              "      </button>\n",
              "      \n",
              "  <style>\n",
              "    .colab-df-container {\n",
              "      display:flex;\n",
              "      flex-wrap:wrap;\n",
              "      gap: 12px;\n",
              "    }\n",
              "\n",
              "    .colab-df-convert {\n",
              "      background-color: #E8F0FE;\n",
              "      border: none;\n",
              "      border-radius: 50%;\n",
              "      cursor: pointer;\n",
              "      display: none;\n",
              "      fill: #1967D2;\n",
              "      height: 32px;\n",
              "      padding: 0 0 0 0;\n",
              "      width: 32px;\n",
              "    }\n",
              "\n",
              "    .colab-df-convert:hover {\n",
              "      background-color: #E2EBFA;\n",
              "      box-shadow: 0px 1px 2px rgba(60, 64, 67, 0.3), 0px 1px 3px 1px rgba(60, 64, 67, 0.15);\n",
              "      fill: #174EA6;\n",
              "    }\n",
              "\n",
              "    [theme=dark] .colab-df-convert {\n",
              "      background-color: #3B4455;\n",
              "      fill: #D2E3FC;\n",
              "    }\n",
              "\n",
              "    [theme=dark] .colab-df-convert:hover {\n",
              "      background-color: #434B5C;\n",
              "      box-shadow: 0px 1px 3px 1px rgba(0, 0, 0, 0.15);\n",
              "      filter: drop-shadow(0px 1px 2px rgba(0, 0, 0, 0.3));\n",
              "      fill: #FFFFFF;\n",
              "    }\n",
              "  </style>\n",
              "\n",
              "      <script>\n",
              "        const buttonEl =\n",
              "          document.querySelector('#df-6248cc66-9b4d-405b-bb3f-2749fba97b78 button.colab-df-convert');\n",
              "        buttonEl.style.display =\n",
              "          google.colab.kernel.accessAllowed ? 'block' : 'none';\n",
              "\n",
              "        async function convertToInteractive(key) {\n",
              "          const element = document.querySelector('#df-6248cc66-9b4d-405b-bb3f-2749fba97b78');\n",
              "          const dataTable =\n",
              "            await google.colab.kernel.invokeFunction('convertToInteractive',\n",
              "                                                     [key], {});\n",
              "          if (!dataTable) return;\n",
              "\n",
              "          const docLinkHtml = 'Like what you see? Visit the ' +\n",
              "            '<a target=\"_blank\" href=https://colab.research.google.com/notebooks/data_table.ipynb>data table notebook</a>'\n",
              "            + ' to learn more about interactive tables.';\n",
              "          element.innerHTML = '';\n",
              "          dataTable['output_type'] = 'display_data';\n",
              "          await google.colab.output.renderOutput(dataTable, element);\n",
              "          const docLink = document.createElement('div');\n",
              "          docLink.innerHTML = docLinkHtml;\n",
              "          element.appendChild(docLink);\n",
              "        }\n",
              "      </script>\n",
              "    </div>\n",
              "  </div>\n",
              "  "
            ]
          },
          "metadata": {},
          "execution_count": 96
        }
      ]
    },
    {
      "cell_type": "markdown",
      "source": [
        "###EDA on categorical columns"
      ],
      "metadata": {
        "id": "Kwh0O2dhHEjR"
      }
    },
    {
      "cell_type": "code",
      "source": [
        "categorical_columns = ['Month','Day','Hour','Weekend','DOW']\n",
        "for i,c in enumerate(categorical_columns):\n",
        "    df_cat = cleaned_df[c].value_counts().to_frame().reset_index()\n",
        "    df_cat.columns = [c,\"count\"]\n",
        "    plt.figure(i)\n",
        "    sns.barplot(df_cat[c],df_cat[\"count\"])\n",
        "    plt.xticks(rotation=35)\n",
        "    #plt.figure(figsize = (10,8))\n",
        "    print(cleaned_df[c].value_counts())\n",
        "    print(\"------------------\")"
      ],
      "metadata": {
        "colab": {
          "base_uri": "https://localhost:8080/",
          "height": 1000
        },
        "id": "P2cI8Oz6EBQB",
        "outputId": "c06312ad-18a8-4db2-a5c0-ca4e3c476133"
      },
      "execution_count": 99,
      "outputs": [
        {
          "output_type": "stream",
          "name": "stdout",
          "text": [
            "3    2576189\n",
            "4       4637\n",
            "Name: Month, dtype: int64\n",
            "------------------\n",
            "6     99277\n",
            "13    98415\n",
            "14    97029\n",
            "21    95326\n",
            "20    94056\n",
            "7     92254\n",
            "5     91674\n",
            "12    90584\n",
            "28    90581\n",
            "27    88406\n",
            "4     85541\n",
            "19    85222\n",
            "11    84698\n",
            "3     81516\n",
            "18    81437\n",
            "10    80755\n",
            "9     80380\n",
            "26    79262\n",
            "2     78998\n",
            "17    78933\n",
            "16    78396\n",
            "8     77396\n",
            "15    77100\n",
            "1     76322\n",
            "31    76083\n",
            "23    75387\n",
            "24    75095\n",
            "30    74804\n",
            "25    73858\n",
            "22    72057\n",
            "29    69984\n",
            "Name: Day, dtype: int64\n",
            "------------------\n",
            "18    248231\n",
            "11    247653\n",
            "12    243180\n",
            "19    241186\n",
            "17    192395\n",
            "20    178752\n",
            "13    175150\n",
            "14    133363\n",
            "10    125991\n",
            "16    125613\n",
            "15    115426\n",
            "21    110672\n",
            "9      91891\n",
            "22     73761\n",
            "8      64966\n",
            "23     61062\n",
            "0      45218\n",
            "1      29271\n",
            "7      27829\n",
            "2      17008\n",
            "6      10218\n",
            "3      10082\n",
            "4       6606\n",
            "5       5302\n",
            "Name: Hour, dtype: int64\n",
            "------------------\n",
            "0    1825482\n",
            "1     755344\n",
            "Name: Weekend, dtype: int64\n",
            "------------------\n",
            "2    392382\n",
            "1    387965\n",
            "5    380154\n",
            "6    375190\n",
            "0    368222\n",
            "4    346742\n",
            "3    330171\n",
            "Name: DOW, dtype: int64\n",
            "------------------\n"
          ]
        },
        {
          "output_type": "display_data",
          "data": {
            "text/plain": [
              "<Figure size 432x288 with 1 Axes>"
            ],
            "image/png": "[encoded data removed]"
          },
          "metadata": {}
        },
        {
          "output_type": "display_data",
          "data": {
            "text/plain": [
              "<Figure size 432x288 with 1 Axes>"
            ],
            "image/png": "[encoded data removed]"
          },
          "metadata": {}
        },
        {
          "output_type": "display_data",
          "data": {
            "text/plain": [
              "<Figure size 432x288 with 1 Axes>"
            ],
            "image/png": "[encoded data removed]"
          },
          "metadata": {}
        },
        {
          "output_type": "display_data",
          "data": {
            "text/plain": [
              "<Figure size 432x288 with 1 Axes>"
            ],
            "image/png": "[encoded data removed]"
          },
          "metadata": {}
        },
        {
          "output_type": "display_data",
          "data": {
            "text/plain": [
              "<Figure size 432x288 with 1 Axes>"
            ],
            "image/png": "[encoded data removed]"
          },
          "metadata": {}
        }
      ]
    },
    {
      "cell_type": "markdown",
      "source": [
        "\n",
        "\n",
        "*  Most of demands are from the weekend\n",
        "\n",
        "*   There are three obvious patterns in demand by the created hour: 0am - 5am, 6am-3pm, 4pm-11pm.\n",
        "\n",
        "*   Most of our data is from March 2021 as given in description and there are very few from April\n",
        "\n",
        "\n"
      ],
      "metadata": {
        "id": "8yMgt8WOEr-D"
      }
    },
    {
      "cell_type": "markdown",
      "source": [
        "### Final feature set"
      ],
      "metadata": {
        "id": "dPU3SQaYK3xE"
      }
    },
    {
      "cell_type": "code",
      "source": [
        "cleaned_df.columns"
      ],
      "metadata": {
        "colab": {
          "base_uri": "https://localhost:8080/"
        },
        "id": "rqNSi5lmK_Rk",
        "outputId": "124f04bc-06e5-435d-b1b0-3371ef41071e"
      },
      "execution_count": 111,
      "outputs": [
        {
          "output_type": "execute_result",
          "data": {
            "text/plain": [
              "Index(['order_id', 'order_value', 'order_items_count',\n",
              "       'created_timestamp_local', 'has_instruction',\n",
              "       'logistics_dropoff_distance', 'has_phone_number',\n",
              "       'has_call_instruction', 'has_leave_instruction', 'has_lift_instruction',\n",
              "       'has_lobby_instruction', 'has_gate_instruction',\n",
              "       'has_knock_instruction', 'has_bell_instruction', 'class', 'Month',\n",
              "       'Day', 'Hour', 'DOW', 'Weekend'],\n",
              "      dtype='object')"
            ]
          },
          "metadata": {},
          "execution_count": 111
        }
      ]
    },
    {
      "cell_type": "code",
      "source": [
        "\n",
        "# plotting correlation heatmap\n",
        "plt.figure(figsize=(15,20))\n",
        "corrMatrix = cleaned_df.corr()\n",
        "sns.heatmap(corrMatrix, cmap=\"YlGnBu\", annot=True)  \n",
        "plt.show()"
      ],
      "metadata": {
        "colab": {
          "base_uri": "https://localhost:8080/",
          "height": 1000
        },
        "id": "0OpHokaML6Rv",
        "outputId": "a2ea47b2-efd6-4d50-bcd1-ef269164febe"
      },
      "execution_count": 117,
      "outputs": [
        {
          "output_type": "display_data",
          "data": {
            "text/plain": [
              "<Figure size 1080x1440 with 2 Axes>"
            ],
            "image/png": "[encoded data removed]"
          },
          "metadata": {}
        }
      ]
    },
    {
      "cell_type": "code",
      "source": [
        "thresh = 0.8\n",
        "t1 = corrMatrix.abs()\n",
        "t1 = t1.unstack()\n",
        "T = t1.sort_values(kind=\"quicksort\")\n",
        "print('Features with correlation greater than {}'.format(thresh))\n",
        "print(T[(T>thresh) & (T<1.0)].drop_duplicates())"
      ],
      "metadata": {
        "colab": {
          "base_uri": "https://localhost:8080/"
        },
        "id": "Dl-hbwOwMzAV",
        "outputId": "f329af93-a354-4cf3-cc0e-2b5ab5567392"
      },
      "execution_count": 120,
      "outputs": [
        {
          "output_type": "stream",
          "name": "stdout",
          "text": [
            "Features with correlation greater than 0.8\n",
            "DOW  Weekend   0.801\n",
            "dtype: float64\n"
          ]
        }
      ]
    },
    {
      "cell_type": "markdown",
      "source": [
        "There isn't much correlated variables in pur feature set apart from DOW and weekend"
      ],
      "metadata": {
        "id": "VcRvCX3lNSfG"
      }
    },
    {
      "cell_type": "code",
      "source": [
        "print('Most correlated features to relevance')\n",
        "print('-'*50)\n",
        "corrMatrix.abs()['logistics_dropoff_distance'].sort_values(ascending=False)"
      ],
      "metadata": {
        "colab": {
          "base_uri": "https://localhost:8080/"
        },
        "id": "u3z79FwuNIRn",
        "outputId": "bbf56784-4ad4-4f38-b7ec-17f71193c34b"
      },
      "execution_count": 121,
      "outputs": [
        {
          "output_type": "stream",
          "name": "stdout",
          "text": [
            "Most correlated features to relevance\n",
            "--------------------------------------------------\n"
          ]
        },
        {
          "output_type": "execute_result",
          "data": {
            "text/plain": [
              "logistics_dropoff_distance   1.000\n",
              "order_value                  0.016\n",
              "has_lobby_instruction        0.012\n",
              "Hour                         0.009\n",
              "has_bell_instruction         0.008\n",
              "has_gate_instruction         0.008\n",
              "has_phone_number             0.006\n",
              "has_knock_instruction        0.005\n",
              "has_leave_instruction        0.005\n",
              "has_instruction              0.004\n",
              "has_call_instruction         0.004\n",
              "Day                          0.002\n",
              "has_lift_instruction         0.002\n",
              "Month                        0.001\n",
              "DOW                          0.001\n",
              "order_items_count            0.000\n",
              "Weekend                      0.000\n",
              "Name: logistics_dropoff_distance, dtype: float64"
            ]
          },
          "metadata": {},
          "execution_count": 121
        }
      ]
    },
    {
      "cell_type": "markdown",
      "source": [
        "\n",
        "*  We can eliminate \"created_timestamp_local\" feature now as we have extracted \n",
        "enough features from it \n",
        "*   Will remove \"Month\" as well as the variance is very low\n",
        "\n",
        "\n"
      ],
      "metadata": {
        "id": "tBHiAHLANd8n"
      }
    },
    {
      "cell_type": "code",
      "source": [
        "\n",
        "final_df = cleaned_df[['order_id', 'order_value', 'order_items_count',\n",
        "        'has_instruction','has_phone_number', 'has_call_instruction', 'has_leave_instruction', 'has_lift_instruction',\n",
        "       'has_lobby_instruction', 'has_gate_instruction','has_knock_instruction', 'has_bell_instruction', \n",
        "       'Day', 'Hour', 'DOW', 'Weekend','logistics_dropoff_distance']].reset_index(drop=True)\n"
      ],
      "metadata": {
        "id": "_CuoO-hf87ib"
      },
      "execution_count": 122,
      "outputs": []
    },
    {
      "cell_type": "code",
      "source": [
        "final_df.head()"
      ],
      "metadata": {
        "colab": {
          "base_uri": "https://localhost:8080/",
          "height": 305
        },
        "id": "o8dzow4HLdup",
        "outputId": "54ed2120-131c-4879-c648-472f035bb9c0"
      },
      "execution_count": 123,
      "outputs": [
        {
          "output_type": "execute_result",
          "data": {
            "text/plain": [
              "    order_id  order_value  order_items_count  has_instruction  \\\n",
              "0  b8ds-tqhf           40                 10                1   \n",
              "1  x5xx-j2d2           35                 10                1   \n",
              "2  x6qu-14kt           42                 12                1   \n",
              "3  x3yw-rhc5           14                 11                1   \n",
              "4  y9zp-58q7           38                 10                1   \n",
              "\n",
              "   has_phone_number  has_call_instruction  has_leave_instruction  \\\n",
              "0                 0                     0                      0   \n",
              "1                 0                     0                      0   \n",
              "2                 0                     0                      1   \n",
              "3                 0                     0                      0   \n",
              "4                 0                     0                      0   \n",
              "\n",
              "   has_lift_instruction  has_lobby_instruction  has_gate_instruction  \\\n",
              "0                     0                      0                     0   \n",
              "1                     0                      0                     0   \n",
              "2                     0                      0                     0   \n",
              "3                     0                      0                     0   \n",
              "4                     0                      0                     0   \n",
              "\n",
              "   has_knock_instruction  has_bell_instruction  Day  Hour  DOW  Weekend  \\\n",
              "0                      0                     0   11    20    3        0   \n",
              "1                      0                     0   12    18    4        0   \n",
              "2                      0                     0   27    11    5        1   \n",
              "3                      0                     0    2    22    1        0   \n",
              "4                      0                     0   23    20    1        0   \n",
              "\n",
              "   logistics_dropoff_distance  \n",
              "0                          58  \n",
              "1                          39  \n",
              "2                          40  \n",
              "3                          44  \n",
              "4                          71  "
            ],
            "text/html": [
              "\n",
              "  <div id=\"df-7ef28ab1-ecba-44c8-a9cb-ef2d4899d56f\">\n",
              "    <div class=\"colab-df-container\">\n",
              "      <div>\n",
              "<style scoped>\n",
              "    .dataframe tbody tr th:only-of-type {\n",
              "        vertical-align: middle;\n",
              "    }\n",
              "\n",
              "    .dataframe tbody tr th {\n",
              "        vertical-align: top;\n",
              "    }\n",
              "\n",
              "    .dataframe thead th {\n",
              "        text-align: right;\n",
              "    }\n",
              "</style>\n",
              "<table border=\"1\" class=\"dataframe\">\n",
              "  <thead>\n",
              "    <tr style=\"text-align: right;\">\n",
              "      <th></th>\n",
              "      <th>order_id</th>\n",
              "      <th>order_value</th>\n",
              "      <th>order_items_count</th>\n",
              "      <th>has_instruction</th>\n",
              "      <th>has_phone_number</th>\n",
              "      <th>has_call_instruction</th>\n",
              "      <th>has_leave_instruction</th>\n",
              "      <th>has_lift_instruction</th>\n",
              "      <th>has_lobby_instruction</th>\n",
              "      <th>has_gate_instruction</th>\n",
              "      <th>has_knock_instruction</th>\n",
              "      <th>has_bell_instruction</th>\n",
              "      <th>Day</th>\n",
              "      <th>Hour</th>\n",
              "      <th>DOW</th>\n",
              "      <th>Weekend</th>\n",
              "      <th>logistics_dropoff_distance</th>\n",
              "    </tr>\n",
              "  </thead>\n",
              "  <tbody>\n",
              "    <tr>\n",
              "      <th>0</th>\n",
              "      <td>b8ds-tqhf</td>\n",
              "      <td>40</td>\n",
              "      <td>10</td>\n",
              "      <td>1</td>\n",
              "      <td>0</td>\n",
              "      <td>0</td>\n",
              "      <td>0</td>\n",
              "      <td>0</td>\n",
              "      <td>0</td>\n",
              "      <td>0</td>\n",
              "      <td>0</td>\n",
              "      <td>0</td>\n",
              "      <td>11</td>\n",
              "      <td>20</td>\n",
              "      <td>3</td>\n",
              "      <td>0</td>\n",
              "      <td>58</td>\n",
              "    </tr>\n",
              "    <tr>\n",
              "      <th>1</th>\n",
              "      <td>x5xx-j2d2</td>\n",
              "      <td>35</td>\n",
              "      <td>10</td>\n",
              "      <td>1</td>\n",
              "      <td>0</td>\n",
              "      <td>0</td>\n",
              "      <td>0</td>\n",
              "      <td>0</td>\n",
              "      <td>0</td>\n",
              "      <td>0</td>\n",
              "      <td>0</td>\n",
              "      <td>0</td>\n",
              "      <td>12</td>\n",
              "      <td>18</td>\n",
              "      <td>4</td>\n",
              "      <td>0</td>\n",
              "      <td>39</td>\n",
              "    </tr>\n",
              "    <tr>\n",
              "      <th>2</th>\n",
              "      <td>x6qu-14kt</td>\n",
              "      <td>42</td>\n",
              "      <td>12</td>\n",
              "      <td>1</td>\n",
              "      <td>0</td>\n",
              "      <td>0</td>\n",
              "      <td>1</td>\n",
              "      <td>0</td>\n",
              "      <td>0</td>\n",
              "      <td>0</td>\n",
              "      <td>0</td>\n",
              "      <td>0</td>\n",
              "      <td>27</td>\n",
              "      <td>11</td>\n",
              "      <td>5</td>\n",
              "      <td>1</td>\n",
              "      <td>40</td>\n",
              "    </tr>\n",
              "    <tr>\n",
              "      <th>3</th>\n",
              "      <td>x3yw-rhc5</td>\n",
              "      <td>14</td>\n",
              "      <td>11</td>\n",
              "      <td>1</td>\n",
              "      <td>0</td>\n",
              "      <td>0</td>\n",
              "      <td>0</td>\n",
              "      <td>0</td>\n",
              "      <td>0</td>\n",
              "      <td>0</td>\n",
              "      <td>0</td>\n",
              "      <td>0</td>\n",
              "      <td>2</td>\n",
              "      <td>22</td>\n",
              "      <td>1</td>\n",
              "      <td>0</td>\n",
              "      <td>44</td>\n",
              "    </tr>\n",
              "    <tr>\n",
              "      <th>4</th>\n",
              "      <td>y9zp-58q7</td>\n",
              "      <td>38</td>\n",
              "      <td>10</td>\n",
              "      <td>1</td>\n",
              "      <td>0</td>\n",
              "      <td>0</td>\n",
              "      <td>0</td>\n",
              "      <td>0</td>\n",
              "      <td>0</td>\n",
              "      <td>0</td>\n",
              "      <td>0</td>\n",
              "      <td>0</td>\n",
              "      <td>23</td>\n",
              "      <td>20</td>\n",
              "      <td>1</td>\n",
              "      <td>0</td>\n",
              "      <td>71</td>\n",
              "    </tr>\n",
              "  </tbody>\n",
              "</table>\n",
              "</div>\n",
              "      <button class=\"colab-df-convert\" onclick=\"convertToInteractive('df-7ef28ab1-ecba-44c8-a9cb-ef2d4899d56f')\"\n",
              "              title=\"Convert this dataframe to an interactive table.\"\n",
              "              style=\"display:none;\">\n",
              "        \n",
              "  <svg xmlns=\"http://www.w3.org/2000/svg\" height=\"24px\"viewBox=\"0 0 24 24\"\n",
              "       width=\"24px\">\n",
              "    <path d=\"M0 0h24v24H0V0z\" fill=\"none\"/>\n",
              "    <path d=\"M18.56 5.44l.94 2.06.94-2.06 2.06-.94-2.06-.94-.94-2.06-.94 2.06-2.06.94zm-11 1L8.5 8.5l.94-2.06 2.06-.94-2.06-.94L8.5 2.5l-.94 2.06-2.06.94zm10 10l.94 2.06.94-2.06 2.06-.94-2.06-.94-.94-2.06-.94 2.06-2.06.94z\"/><path d=\"M17.41 7.96l-1.37-1.37c-.4-.4-.92-.59-1.43-.59-.52 0-1.04.2-1.43.59L10.3 9.45l-7.72 7.72c-.78.78-.78 2.05 0 2.83L4 21.41c.39.39.9.59 1.41.59.51 0 1.02-.2 1.41-.59l7.78-7.78 2.81-2.81c.8-.78.8-2.07 0-2.86zM5.41 20L4 18.59l7.72-7.72 1.47 1.35L5.41 20z\"/>\n",
              "  </svg>\n",
              "      </button>\n",
              "      \n",
              "  <style>\n",
              "    .colab-df-container {\n",
              "      display:flex;\n",
              "      flex-wrap:wrap;\n",
              "      gap: 12px;\n",
              "    }\n",
              "\n",
              "    .colab-df-convert {\n",
              "      background-color: #E8F0FE;\n",
              "      border: none;\n",
              "      border-radius: 50%;\n",
              "      cursor: pointer;\n",
              "      display: none;\n",
              "      fill: #1967D2;\n",
              "      height: 32px;\n",
              "      padding: 0 0 0 0;\n",
              "      width: 32px;\n",
              "    }\n",
              "\n",
              "    .colab-df-convert:hover {\n",
              "      background-color: #E2EBFA;\n",
              "      box-shadow: 0px 1px 2px rgba(60, 64, 67, 0.3), 0px 1px 3px 1px rgba(60, 64, 67, 0.15);\n",
              "      fill: #174EA6;\n",
              "    }\n",
              "\n",
              "    [theme=dark] .colab-df-convert {\n",
              "      background-color: #3B4455;\n",
              "      fill: #D2E3FC;\n",
              "    }\n",
              "\n",
              "    [theme=dark] .colab-df-convert:hover {\n",
              "      background-color: #434B5C;\n",
              "      box-shadow: 0px 1px 3px 1px rgba(0, 0, 0, 0.15);\n",
              "      filter: drop-shadow(0px 1px 2px rgba(0, 0, 0, 0.3));\n",
              "      fill: #FFFFFF;\n",
              "    }\n",
              "  </style>\n",
              "\n",
              "      <script>\n",
              "        const buttonEl =\n",
              "          document.querySelector('#df-7ef28ab1-ecba-44c8-a9cb-ef2d4899d56f button.colab-df-convert');\n",
              "        buttonEl.style.display =\n",
              "          google.colab.kernel.accessAllowed ? 'block' : 'none';\n",
              "\n",
              "        async function convertToInteractive(key) {\n",
              "          const element = document.querySelector('#df-7ef28ab1-ecba-44c8-a9cb-ef2d4899d56f');\n",
              "          const dataTable =\n",
              "            await google.colab.kernel.invokeFunction('convertToInteractive',\n",
              "                                                     [key], {});\n",
              "          if (!dataTable) return;\n",
              "\n",
              "          const docLinkHtml = 'Like what you see? Visit the ' +\n",
              "            '<a target=\"_blank\" href=https://colab.research.google.com/notebooks/data_table.ipynb>data table notebook</a>'\n",
              "            + ' to learn more about interactive tables.';\n",
              "          element.innerHTML = '';\n",
              "          dataTable['output_type'] = 'display_data';\n",
              "          await google.colab.output.renderOutput(dataTable, element);\n",
              "          const docLink = document.createElement('div');\n",
              "          docLink.innerHTML = docLinkHtml;\n",
              "          element.appendChild(docLink);\n",
              "        }\n",
              "      </script>\n",
              "    </div>\n",
              "  </div>\n",
              "  "
            ]
          },
          "metadata": {},
          "execution_count": 123
        }
      ]
    },
    {
      "cell_type": "markdown",
      "source": [
        "##Modeling"
      ],
      "metadata": {
        "id": "h_L_x3O3N2z2"
      }
    },
    {
      "cell_type": "markdown",
      "source": [
        "Lets split the dataset as train and test , and keep data from April for testing"
      ],
      "metadata": {
        "id": "WwcKcjdnOL4v"
      }
    },
    {
      "cell_type": "code",
      "source": [
        ""
      ],
      "metadata": {
        "id": "H-scGcSeN5wh"
      },
      "execution_count": null,
      "outputs": []
    }
  ]
}