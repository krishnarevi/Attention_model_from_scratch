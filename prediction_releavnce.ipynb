{
  "cells": [
    {
      "cell_type": "markdown",
      "metadata": {
        "id": "view-in-github",
        "colab_type": "text"
      },
      "source": [
        "<a href=\"https://colab.research.google.com/github/krishnarevi/Attention_model_from_scratch/blob/main/prediction_releavnce.ipynb\" target=\"_parent\"><img src=\"https://colab.research.google.com/assets/colab-badge.svg\" alt=\"Open In Colab\"/></a>"
      ]
    },
    {
      "cell_type": "code",
      "source": [
        "\n",
        "\n",
        "import pandas as pd \n",
        "import numpy as np \n",
        "import matplotlib.pyplot as plt \n",
        "import seaborn as sns\n",
        "from matplotlib_venn import venn2\n",
        "import regex as re\n",
        "from collections import Counter\n",
        "!pip install nltk \n",
        "import nltk\n",
        "nltk.download('stopwords')\n",
        "from nltk.corpus import stopwords\n",
        "import re\n",
        "from collections import Counter\n",
        "from nltk.stem import PorterStemmer \n",
        "from wordcloud import WordCloud, STOPWORDS \n",
        "from prettytable import PrettyTable\n",
        "from sklearn.feature_extraction.text import CountVectorizer \n",
        "from textblob import TextBlob\n",
        "from scipy.stats import spearmanr\n",
        "\n"
      ],
      "metadata": {
        "colab": {
          "base_uri": "https://localhost:8080/"
        },
        "id": "38d_6Bxr9feq",
        "outputId": "bc9188db-f1ef-4577-f2ce-0d7bbe1e2b38"
      },
      "id": "38d_6Bxr9feq",
      "execution_count": 4,
      "outputs": [
        {
          "output_type": "stream",
          "name": "stdout",
          "text": [
            "Looking in indexes: https://pypi.org/simple, https://us-python.pkg.dev/colab-wheels/public/simple/\n",
            "Requirement already satisfied: nltk in /usr/local/lib/python3.7/dist-packages (3.2.5)\n",
            "Requirement already satisfied: six in /usr/local/lib/python3.7/dist-packages (from nltk) (1.15.0)\n",
            "[nltk_data] Downloading package stopwords to /root/nltk_data...\n",
            "[nltk_data]   Package stopwords is already up-to-date!\n"
          ]
        }
      ]
    },
    {
      "cell_type": "code",
      "source": [
        "\n",
        "\n",
        "# mount g-drive to access datafiles\n",
        "from google.colab import drive\n",
        "drive.mount('/content/drive')\n"
      ],
      "metadata": {
        "colab": {
          "base_uri": "https://localhost:8080/"
        },
        "id": "M0mFyqS3stoG",
        "outputId": "527abfe9-9628-4e14-e97a-62869b393302"
      },
      "id": "M0mFyqS3stoG",
      "execution_count": 5,
      "outputs": [
        {
          "output_type": "stream",
          "name": "stdout",
          "text": [
            "Drive already mounted at /content/drive; to attempt to forcibly remount, call drive.mount(\"/content/drive\", force_remount=True).\n"
          ]
        }
      ]
    },
    {
      "cell_type": "code",
      "source": [
        "path= '/content/drive/MyDrive/data'"
      ],
      "metadata": {
        "id": "ItoZzuxDtm8d"
      },
      "id": "ItoZzuxDtm8d",
      "execution_count": 6,
      "outputs": []
    },
    {
      "cell_type": "code",
      "execution_count": null,
      "id": "c7f2ac16",
      "metadata": {
        "colab": {
          "base_uri": "https://localhost:8080/",
          "height": 206
        },
        "id": "c7f2ac16",
        "outputId": "0eac747a-3b3e-4496-e82d-7880cb96ebbe"
      },
      "outputs": [
        {
          "output_type": "execute_result",
          "data": {
            "text/plain": [
              "   query_id                      query               query_class\n",
              "0         0                salon chair            Massage Chairs\n",
              "1         1         smart coffee table  Coffee & Cocktail Tables\n",
              "2         2                   dinosaur           Kids Wall Décor\n",
              "3         3          turquoise pillows            Accent Pillows\n",
              "4         4  chair and a half recliner                 Recliners"
            ],
            "text/html": [
              "\n",
              "  <div id=\"df-74930530-f22f-4b73-aaf2-2f966c65145c\">\n",
              "    <div class=\"colab-df-container\">\n",
              "      <div>\n",
              "<style scoped>\n",
              "    .dataframe tbody tr th:only-of-type {\n",
              "        vertical-align: middle;\n",
              "    }\n",
              "\n",
              "    .dataframe tbody tr th {\n",
              "        vertical-align: top;\n",
              "    }\n",
              "\n",
              "    .dataframe thead th {\n",
              "        text-align: right;\n",
              "    }\n",
              "</style>\n",
              "<table border=\"1\" class=\"dataframe\">\n",
              "  <thead>\n",
              "    <tr style=\"text-align: right;\">\n",
              "      <th></th>\n",
              "      <th>query_id</th>\n",
              "      <th>query</th>\n",
              "      <th>query_class</th>\n",
              "    </tr>\n",
              "  </thead>\n",
              "  <tbody>\n",
              "    <tr>\n",
              "      <th>0</th>\n",
              "      <td>0</td>\n",
              "      <td>salon chair</td>\n",
              "      <td>Massage Chairs</td>\n",
              "    </tr>\n",
              "    <tr>\n",
              "      <th>1</th>\n",
              "      <td>1</td>\n",
              "      <td>smart coffee table</td>\n",
              "      <td>Coffee &amp; Cocktail Tables</td>\n",
              "    </tr>\n",
              "    <tr>\n",
              "      <th>2</th>\n",
              "      <td>2</td>\n",
              "      <td>dinosaur</td>\n",
              "      <td>Kids Wall Décor</td>\n",
              "    </tr>\n",
              "    <tr>\n",
              "      <th>3</th>\n",
              "      <td>3</td>\n",
              "      <td>turquoise pillows</td>\n",
              "      <td>Accent Pillows</td>\n",
              "    </tr>\n",
              "    <tr>\n",
              "      <th>4</th>\n",
              "      <td>4</td>\n",
              "      <td>chair and a half recliner</td>\n",
              "      <td>Recliners</td>\n",
              "    </tr>\n",
              "  </tbody>\n",
              "</table>\n",
              "</div>\n",
              "      <button class=\"colab-df-convert\" onclick=\"convertToInteractive('df-74930530-f22f-4b73-aaf2-2f966c65145c')\"\n",
              "              title=\"Convert this dataframe to an interactive table.\"\n",
              "              style=\"display:none;\">\n",
              "        \n",
              "  <svg xmlns=\"http://www.w3.org/2000/svg\" height=\"24px\"viewBox=\"0 0 24 24\"\n",
              "       width=\"24px\">\n",
              "    <path d=\"M0 0h24v24H0V0z\" fill=\"none\"/>\n",
              "    <path d=\"M18.56 5.44l.94 2.06.94-2.06 2.06-.94-2.06-.94-.94-2.06-.94 2.06-2.06.94zm-11 1L8.5 8.5l.94-2.06 2.06-.94-2.06-.94L8.5 2.5l-.94 2.06-2.06.94zm10 10l.94 2.06.94-2.06 2.06-.94-2.06-.94-.94-2.06-.94 2.06-2.06.94z\"/><path d=\"M17.41 7.96l-1.37-1.37c-.4-.4-.92-.59-1.43-.59-.52 0-1.04.2-1.43.59L10.3 9.45l-7.72 7.72c-.78.78-.78 2.05 0 2.83L4 21.41c.39.39.9.59 1.41.59.51 0 1.02-.2 1.41-.59l7.78-7.78 2.81-2.81c.8-.78.8-2.07 0-2.86zM5.41 20L4 18.59l7.72-7.72 1.47 1.35L5.41 20z\"/>\n",
              "  </svg>\n",
              "      </button>\n",
              "      \n",
              "  <style>\n",
              "    .colab-df-container {\n",
              "      display:flex;\n",
              "      flex-wrap:wrap;\n",
              "      gap: 12px;\n",
              "    }\n",
              "\n",
              "    .colab-df-convert {\n",
              "      background-color: #E8F0FE;\n",
              "      border: none;\n",
              "      border-radius: 50%;\n",
              "      cursor: pointer;\n",
              "      display: none;\n",
              "      fill: #1967D2;\n",
              "      height: 32px;\n",
              "      padding: 0 0 0 0;\n",
              "      width: 32px;\n",
              "    }\n",
              "\n",
              "    .colab-df-convert:hover {\n",
              "      background-color: #E2EBFA;\n",
              "      box-shadow: 0px 1px 2px rgba(60, 64, 67, 0.3), 0px 1px 3px 1px rgba(60, 64, 67, 0.15);\n",
              "      fill: #174EA6;\n",
              "    }\n",
              "\n",
              "    [theme=dark] .colab-df-convert {\n",
              "      background-color: #3B4455;\n",
              "      fill: #D2E3FC;\n",
              "    }\n",
              "\n",
              "    [theme=dark] .colab-df-convert:hover {\n",
              "      background-color: #434B5C;\n",
              "      box-shadow: 0px 1px 3px 1px rgba(0, 0, 0, 0.15);\n",
              "      filter: drop-shadow(0px 1px 2px rgba(0, 0, 0, 0.3));\n",
              "      fill: #FFFFFF;\n",
              "    }\n",
              "  </style>\n",
              "\n",
              "      <script>\n",
              "        const buttonEl =\n",
              "          document.querySelector('#df-74930530-f22f-4b73-aaf2-2f966c65145c button.colab-df-convert');\n",
              "        buttonEl.style.display =\n",
              "          google.colab.kernel.accessAllowed ? 'block' : 'none';\n",
              "\n",
              "        async function convertToInteractive(key) {\n",
              "          const element = document.querySelector('#df-74930530-f22f-4b73-aaf2-2f966c65145c');\n",
              "          const dataTable =\n",
              "            await google.colab.kernel.invokeFunction('convertToInteractive',\n",
              "                                                     [key], {});\n",
              "          if (!dataTable) return;\n",
              "\n",
              "          const docLinkHtml = 'Like what you see? Visit the ' +\n",
              "            '<a target=\"_blank\" href=https://colab.research.google.com/notebooks/data_table.ipynb>data table notebook</a>'\n",
              "            + ' to learn more about interactive tables.';\n",
              "          element.innerHTML = '';\n",
              "          dataTable['output_type'] = 'display_data';\n",
              "          await google.colab.output.renderOutput(dataTable, element);\n",
              "          const docLink = document.createElement('div');\n",
              "          docLink.innerHTML = docLinkHtml;\n",
              "          element.appendChild(docLink);\n",
              "        }\n",
              "      </script>\n",
              "    </div>\n",
              "  </div>\n",
              "  "
            ]
          },
          "metadata": {},
          "execution_count": 121
        }
      ],
      "source": [
        "# get search queries\n",
        "query_df = pd.read_csv(path+r\"/query.csv\", sep='\\t')\n",
        "query_df.head()"
      ]
    },
    {
      "cell_type": "code",
      "execution_count": null,
      "id": "1f6fdf20",
      "metadata": {
        "id": "1f6fdf20",
        "outputId": "24d4d888-e7e8-4419-947e-ca5ab28c249b",
        "colab": {
          "base_uri": "https://localhost:8080/",
          "height": 528
        }
      },
      "outputs": [
        {
          "output_type": "execute_result",
          "data": {
            "text/plain": [
              "   product_id                                       product_name  \\\n",
              "0           0                            solid wood platform bed   \n",
              "1           1                        all-clad 7 qt . slow cooker   \n",
              "2           2            all-clad electrics 6.5 qt . slow cooker   \n",
              "3           3       all-clad all professional tools pizza cutter   \n",
              "4           4  baldwin prestige alcott passage knob with roun...   \n",
              "\n",
              "                  product_class  \\\n",
              "0                          Beds   \n",
              "1                  Slow Cookers   \n",
              "2                  Slow Cookers   \n",
              "3  Slicers, Peelers And Graters   \n",
              "4                    Door Knobs   \n",
              "\n",
              "                                  category hierarchy  \\\n",
              "0  Furniture / Bedroom Furniture / Beds & Headboa...   \n",
              "1  Kitchen & Tabletop / Small Kitchen Appliances ...   \n",
              "2  Kitchen & Tabletop / Small Kitchen Appliances ...   \n",
              "3                         Browse By Brand / All-Clad   \n",
              "4  Home Improvement / Doors & Door Hardware / Doo...   \n",
              "\n",
              "                                 product_description  \\\n",
              "0  good , deep sleep can be quite difficult to ha...   \n",
              "1  create delicious slow-cooked meals , from tend...   \n",
              "2  prepare home-cooked meals on any schedule with...   \n",
              "3  this original stainless tool was designed to c...   \n",
              "4  the hardware has a rich heritage of delivering...   \n",
              "\n",
              "                                    product_features  rating_count  \\\n",
              "0  overallwidth-sidetoside:64.7|dsprimaryproducts...          15.0   \n",
              "1  capacityquarts:7|producttype : slow cooker|pro...         100.0   \n",
              "2  features : keep warm setting|capacityquarts:6....         208.0   \n",
              "3  overallwidth-sidetoside:3.5|warrantylength : l...          69.0   \n",
              "4  compatibledoorthickness:1.375 '' |countryofori...          70.0   \n",
              "\n",
              "   average_rating  review_count  \n",
              "0             4.5          15.0  \n",
              "1             2.0          98.0  \n",
              "2             3.0         181.0  \n",
              "3             4.5          42.0  \n",
              "4             5.0          42.0  "
            ],
            "text/html": [
              "\n",
              "  <div id=\"df-017dc55a-8553-49e0-bcdd-c2ce940350cb\">\n",
              "    <div class=\"colab-df-container\">\n",
              "      <div>\n",
              "<style scoped>\n",
              "    .dataframe tbody tr th:only-of-type {\n",
              "        vertical-align: middle;\n",
              "    }\n",
              "\n",
              "    .dataframe tbody tr th {\n",
              "        vertical-align: top;\n",
              "    }\n",
              "\n",
              "    .dataframe thead th {\n",
              "        text-align: right;\n",
              "    }\n",
              "</style>\n",
              "<table border=\"1\" class=\"dataframe\">\n",
              "  <thead>\n",
              "    <tr style=\"text-align: right;\">\n",
              "      <th></th>\n",
              "      <th>product_id</th>\n",
              "      <th>product_name</th>\n",
              "      <th>product_class</th>\n",
              "      <th>category hierarchy</th>\n",
              "      <th>product_description</th>\n",
              "      <th>product_features</th>\n",
              "      <th>rating_count</th>\n",
              "      <th>average_rating</th>\n",
              "      <th>review_count</th>\n",
              "    </tr>\n",
              "  </thead>\n",
              "  <tbody>\n",
              "    <tr>\n",
              "      <th>0</th>\n",
              "      <td>0</td>\n",
              "      <td>solid wood platform bed</td>\n",
              "      <td>Beds</td>\n",
              "      <td>Furniture / Bedroom Furniture / Beds &amp; Headboa...</td>\n",
              "      <td>good , deep sleep can be quite difficult to ha...</td>\n",
              "      <td>overallwidth-sidetoside:64.7|dsprimaryproducts...</td>\n",
              "      <td>15.0</td>\n",
              "      <td>4.5</td>\n",
              "      <td>15.0</td>\n",
              "    </tr>\n",
              "    <tr>\n",
              "      <th>1</th>\n",
              "      <td>1</td>\n",
              "      <td>all-clad 7 qt . slow cooker</td>\n",
              "      <td>Slow Cookers</td>\n",
              "      <td>Kitchen &amp; Tabletop / Small Kitchen Appliances ...</td>\n",
              "      <td>create delicious slow-cooked meals , from tend...</td>\n",
              "      <td>capacityquarts:7|producttype : slow cooker|pro...</td>\n",
              "      <td>100.0</td>\n",
              "      <td>2.0</td>\n",
              "      <td>98.0</td>\n",
              "    </tr>\n",
              "    <tr>\n",
              "      <th>2</th>\n",
              "      <td>2</td>\n",
              "      <td>all-clad electrics 6.5 qt . slow cooker</td>\n",
              "      <td>Slow Cookers</td>\n",
              "      <td>Kitchen &amp; Tabletop / Small Kitchen Appliances ...</td>\n",
              "      <td>prepare home-cooked meals on any schedule with...</td>\n",
              "      <td>features : keep warm setting|capacityquarts:6....</td>\n",
              "      <td>208.0</td>\n",
              "      <td>3.0</td>\n",
              "      <td>181.0</td>\n",
              "    </tr>\n",
              "    <tr>\n",
              "      <th>3</th>\n",
              "      <td>3</td>\n",
              "      <td>all-clad all professional tools pizza cutter</td>\n",
              "      <td>Slicers, Peelers And Graters</td>\n",
              "      <td>Browse By Brand / All-Clad</td>\n",
              "      <td>this original stainless tool was designed to c...</td>\n",
              "      <td>overallwidth-sidetoside:3.5|warrantylength : l...</td>\n",
              "      <td>69.0</td>\n",
              "      <td>4.5</td>\n",
              "      <td>42.0</td>\n",
              "    </tr>\n",
              "    <tr>\n",
              "      <th>4</th>\n",
              "      <td>4</td>\n",
              "      <td>baldwin prestige alcott passage knob with roun...</td>\n",
              "      <td>Door Knobs</td>\n",
              "      <td>Home Improvement / Doors &amp; Door Hardware / Doo...</td>\n",
              "      <td>the hardware has a rich heritage of delivering...</td>\n",
              "      <td>compatibledoorthickness:1.375 '' |countryofori...</td>\n",
              "      <td>70.0</td>\n",
              "      <td>5.0</td>\n",
              "      <td>42.0</td>\n",
              "    </tr>\n",
              "  </tbody>\n",
              "</table>\n",
              "</div>\n",
              "      <button class=\"colab-df-convert\" onclick=\"convertToInteractive('df-017dc55a-8553-49e0-bcdd-c2ce940350cb')\"\n",
              "              title=\"Convert this dataframe to an interactive table.\"\n",
              "              style=\"display:none;\">\n",
              "        \n",
              "  <svg xmlns=\"http://www.w3.org/2000/svg\" height=\"24px\"viewBox=\"0 0 24 24\"\n",
              "       width=\"24px\">\n",
              "    <path d=\"M0 0h24v24H0V0z\" fill=\"none\"/>\n",
              "    <path d=\"M18.56 5.44l.94 2.06.94-2.06 2.06-.94-2.06-.94-.94-2.06-.94 2.06-2.06.94zm-11 1L8.5 8.5l.94-2.06 2.06-.94-2.06-.94L8.5 2.5l-.94 2.06-2.06.94zm10 10l.94 2.06.94-2.06 2.06-.94-2.06-.94-.94-2.06-.94 2.06-2.06.94z\"/><path d=\"M17.41 7.96l-1.37-1.37c-.4-.4-.92-.59-1.43-.59-.52 0-1.04.2-1.43.59L10.3 9.45l-7.72 7.72c-.78.78-.78 2.05 0 2.83L4 21.41c.39.39.9.59 1.41.59.51 0 1.02-.2 1.41-.59l7.78-7.78 2.81-2.81c.8-.78.8-2.07 0-2.86zM5.41 20L4 18.59l7.72-7.72 1.47 1.35L5.41 20z\"/>\n",
              "  </svg>\n",
              "      </button>\n",
              "      \n",
              "  <style>\n",
              "    .colab-df-container {\n",
              "      display:flex;\n",
              "      flex-wrap:wrap;\n",
              "      gap: 12px;\n",
              "    }\n",
              "\n",
              "    .colab-df-convert {\n",
              "      background-color: #E8F0FE;\n",
              "      border: none;\n",
              "      border-radius: 50%;\n",
              "      cursor: pointer;\n",
              "      display: none;\n",
              "      fill: #1967D2;\n",
              "      height: 32px;\n",
              "      padding: 0 0 0 0;\n",
              "      width: 32px;\n",
              "    }\n",
              "\n",
              "    .colab-df-convert:hover {\n",
              "      background-color: #E2EBFA;\n",
              "      box-shadow: 0px 1px 2px rgba(60, 64, 67, 0.3), 0px 1px 3px 1px rgba(60, 64, 67, 0.15);\n",
              "      fill: #174EA6;\n",
              "    }\n",
              "\n",
              "    [theme=dark] .colab-df-convert {\n",
              "      background-color: #3B4455;\n",
              "      fill: #D2E3FC;\n",
              "    }\n",
              "\n",
              "    [theme=dark] .colab-df-convert:hover {\n",
              "      background-color: #434B5C;\n",
              "      box-shadow: 0px 1px 3px 1px rgba(0, 0, 0, 0.15);\n",
              "      filter: drop-shadow(0px 1px 2px rgba(0, 0, 0, 0.3));\n",
              "      fill: #FFFFFF;\n",
              "    }\n",
              "  </style>\n",
              "\n",
              "      <script>\n",
              "        const buttonEl =\n",
              "          document.querySelector('#df-017dc55a-8553-49e0-bcdd-c2ce940350cb button.colab-df-convert');\n",
              "        buttonEl.style.display =\n",
              "          google.colab.kernel.accessAllowed ? 'block' : 'none';\n",
              "\n",
              "        async function convertToInteractive(key) {\n",
              "          const element = document.querySelector('#df-017dc55a-8553-49e0-bcdd-c2ce940350cb');\n",
              "          const dataTable =\n",
              "            await google.colab.kernel.invokeFunction('convertToInteractive',\n",
              "                                                     [key], {});\n",
              "          if (!dataTable) return;\n",
              "\n",
              "          const docLinkHtml = 'Like what you see? Visit the ' +\n",
              "            '<a target=\"_blank\" href=https://colab.research.google.com/notebooks/data_table.ipynb>data table notebook</a>'\n",
              "            + ' to learn more about interactive tables.';\n",
              "          element.innerHTML = '';\n",
              "          dataTable['output_type'] = 'display_data';\n",
              "          await google.colab.output.renderOutput(dataTable, element);\n",
              "          const docLink = document.createElement('div');\n",
              "          docLink.innerHTML = docLinkHtml;\n",
              "          element.appendChild(docLink);\n",
              "        }\n",
              "      </script>\n",
              "    </div>\n",
              "  </div>\n",
              "  "
            ]
          },
          "metadata": {},
          "execution_count": 122
        }
      ],
      "source": [
        "# get products\n",
        "product_df = pd.read_csv(path+r\"/product.csv\", sep='\\t')\n",
        "product_df.head()"
      ]
    },
    {
      "cell_type": "code",
      "execution_count": null,
      "id": "f7b7820a",
      "metadata": {
        "id": "f7b7820a",
        "outputId": "0e051027-8a6a-44c8-fc9d-8f6948f26196",
        "colab": {
          "base_uri": "https://localhost:8080/",
          "height": 424
        }
      },
      "outputs": [
        {
          "output_type": "execute_result",
          "data": {
            "text/plain": [
              "            id  query_id  product_id       label\n",
              "0            0         0       25434       Exact\n",
              "1            1         0       12088  Irrelevant\n",
              "2            2         0       42931       Exact\n",
              "3            3         0        2636       Exact\n",
              "4            4         0       42923       Exact\n",
              "...        ...       ...         ...         ...\n",
              "233443  234010       478       15439     Partial\n",
              "233444  234011       478         451     Partial\n",
              "233445  234012       478       30764  Irrelevant\n",
              "233446  234013       478       16796     Partial\n",
              "233447  234014       486       30764     Partial\n",
              "\n",
              "[233448 rows x 4 columns]"
            ],
            "text/html": [
              "\n",
              "  <div id=\"df-46244feb-973a-45ed-ab18-0e8fa527f56e\">\n",
              "    <div class=\"colab-df-container\">\n",
              "      <div>\n",
              "<style scoped>\n",
              "    .dataframe tbody tr th:only-of-type {\n",
              "        vertical-align: middle;\n",
              "    }\n",
              "\n",
              "    .dataframe tbody tr th {\n",
              "        vertical-align: top;\n",
              "    }\n",
              "\n",
              "    .dataframe thead th {\n",
              "        text-align: right;\n",
              "    }\n",
              "</style>\n",
              "<table border=\"1\" class=\"dataframe\">\n",
              "  <thead>\n",
              "    <tr style=\"text-align: right;\">\n",
              "      <th></th>\n",
              "      <th>id</th>\n",
              "      <th>query_id</th>\n",
              "      <th>product_id</th>\n",
              "      <th>label</th>\n",
              "    </tr>\n",
              "  </thead>\n",
              "  <tbody>\n",
              "    <tr>\n",
              "      <th>0</th>\n",
              "      <td>0</td>\n",
              "      <td>0</td>\n",
              "      <td>25434</td>\n",
              "      <td>Exact</td>\n",
              "    </tr>\n",
              "    <tr>\n",
              "      <th>1</th>\n",
              "      <td>1</td>\n",
              "      <td>0</td>\n",
              "      <td>12088</td>\n",
              "      <td>Irrelevant</td>\n",
              "    </tr>\n",
              "    <tr>\n",
              "      <th>2</th>\n",
              "      <td>2</td>\n",
              "      <td>0</td>\n",
              "      <td>42931</td>\n",
              "      <td>Exact</td>\n",
              "    </tr>\n",
              "    <tr>\n",
              "      <th>3</th>\n",
              "      <td>3</td>\n",
              "      <td>0</td>\n",
              "      <td>2636</td>\n",
              "      <td>Exact</td>\n",
              "    </tr>\n",
              "    <tr>\n",
              "      <th>4</th>\n",
              "      <td>4</td>\n",
              "      <td>0</td>\n",
              "      <td>42923</td>\n",
              "      <td>Exact</td>\n",
              "    </tr>\n",
              "    <tr>\n",
              "      <th>...</th>\n",
              "      <td>...</td>\n",
              "      <td>...</td>\n",
              "      <td>...</td>\n",
              "      <td>...</td>\n",
              "    </tr>\n",
              "    <tr>\n",
              "      <th>233443</th>\n",
              "      <td>234010</td>\n",
              "      <td>478</td>\n",
              "      <td>15439</td>\n",
              "      <td>Partial</td>\n",
              "    </tr>\n",
              "    <tr>\n",
              "      <th>233444</th>\n",
              "      <td>234011</td>\n",
              "      <td>478</td>\n",
              "      <td>451</td>\n",
              "      <td>Partial</td>\n",
              "    </tr>\n",
              "    <tr>\n",
              "      <th>233445</th>\n",
              "      <td>234012</td>\n",
              "      <td>478</td>\n",
              "      <td>30764</td>\n",
              "      <td>Irrelevant</td>\n",
              "    </tr>\n",
              "    <tr>\n",
              "      <th>233446</th>\n",
              "      <td>234013</td>\n",
              "      <td>478</td>\n",
              "      <td>16796</td>\n",
              "      <td>Partial</td>\n",
              "    </tr>\n",
              "    <tr>\n",
              "      <th>233447</th>\n",
              "      <td>234014</td>\n",
              "      <td>486</td>\n",
              "      <td>30764</td>\n",
              "      <td>Partial</td>\n",
              "    </tr>\n",
              "  </tbody>\n",
              "</table>\n",
              "<p>233448 rows × 4 columns</p>\n",
              "</div>\n",
              "      <button class=\"colab-df-convert\" onclick=\"convertToInteractive('df-46244feb-973a-45ed-ab18-0e8fa527f56e')\"\n",
              "              title=\"Convert this dataframe to an interactive table.\"\n",
              "              style=\"display:none;\">\n",
              "        \n",
              "  <svg xmlns=\"http://www.w3.org/2000/svg\" height=\"24px\"viewBox=\"0 0 24 24\"\n",
              "       width=\"24px\">\n",
              "    <path d=\"M0 0h24v24H0V0z\" fill=\"none\"/>\n",
              "    <path d=\"M18.56 5.44l.94 2.06.94-2.06 2.06-.94-2.06-.94-.94-2.06-.94 2.06-2.06.94zm-11 1L8.5 8.5l.94-2.06 2.06-.94-2.06-.94L8.5 2.5l-.94 2.06-2.06.94zm10 10l.94 2.06.94-2.06 2.06-.94-2.06-.94-.94-2.06-.94 2.06-2.06.94z\"/><path d=\"M17.41 7.96l-1.37-1.37c-.4-.4-.92-.59-1.43-.59-.52 0-1.04.2-1.43.59L10.3 9.45l-7.72 7.72c-.78.78-.78 2.05 0 2.83L4 21.41c.39.39.9.59 1.41.59.51 0 1.02-.2 1.41-.59l7.78-7.78 2.81-2.81c.8-.78.8-2.07 0-2.86zM5.41 20L4 18.59l7.72-7.72 1.47 1.35L5.41 20z\"/>\n",
              "  </svg>\n",
              "      </button>\n",
              "      \n",
              "  <style>\n",
              "    .colab-df-container {\n",
              "      display:flex;\n",
              "      flex-wrap:wrap;\n",
              "      gap: 12px;\n",
              "    }\n",
              "\n",
              "    .colab-df-convert {\n",
              "      background-color: #E8F0FE;\n",
              "      border: none;\n",
              "      border-radius: 50%;\n",
              "      cursor: pointer;\n",
              "      display: none;\n",
              "      fill: #1967D2;\n",
              "      height: 32px;\n",
              "      padding: 0 0 0 0;\n",
              "      width: 32px;\n",
              "    }\n",
              "\n",
              "    .colab-df-convert:hover {\n",
              "      background-color: #E2EBFA;\n",
              "      box-shadow: 0px 1px 2px rgba(60, 64, 67, 0.3), 0px 1px 3px 1px rgba(60, 64, 67, 0.15);\n",
              "      fill: #174EA6;\n",
              "    }\n",
              "\n",
              "    [theme=dark] .colab-df-convert {\n",
              "      background-color: #3B4455;\n",
              "      fill: #D2E3FC;\n",
              "    }\n",
              "\n",
              "    [theme=dark] .colab-df-convert:hover {\n",
              "      background-color: #434B5C;\n",
              "      box-shadow: 0px 1px 3px 1px rgba(0, 0, 0, 0.15);\n",
              "      filter: drop-shadow(0px 1px 2px rgba(0, 0, 0, 0.3));\n",
              "      fill: #FFFFFF;\n",
              "    }\n",
              "  </style>\n",
              "\n",
              "      <script>\n",
              "        const buttonEl =\n",
              "          document.querySelector('#df-46244feb-973a-45ed-ab18-0e8fa527f56e button.colab-df-convert');\n",
              "        buttonEl.style.display =\n",
              "          google.colab.kernel.accessAllowed ? 'block' : 'none';\n",
              "\n",
              "        async function convertToInteractive(key) {\n",
              "          const element = document.querySelector('#df-46244feb-973a-45ed-ab18-0e8fa527f56e');\n",
              "          const dataTable =\n",
              "            await google.colab.kernel.invokeFunction('convertToInteractive',\n",
              "                                                     [key], {});\n",
              "          if (!dataTable) return;\n",
              "\n",
              "          const docLinkHtml = 'Like what you see? Visit the ' +\n",
              "            '<a target=\"_blank\" href=https://colab.research.google.com/notebooks/data_table.ipynb>data table notebook</a>'\n",
              "            + ' to learn more about interactive tables.';\n",
              "          element.innerHTML = '';\n",
              "          dataTable['output_type'] = 'display_data';\n",
              "          await google.colab.output.renderOutput(dataTable, element);\n",
              "          const docLink = document.createElement('div');\n",
              "          docLink.innerHTML = docLinkHtml;\n",
              "          element.appendChild(docLink);\n",
              "        }\n",
              "      </script>\n",
              "    </div>\n",
              "  </div>\n",
              "  "
            ]
          },
          "metadata": {},
          "execution_count": 123
        }
      ],
      "source": [
        "# get manually labeled groundtruth lables\n",
        "label_df = pd.read_csv(path+r\"/label.csv\", sep='\\t')\n",
        "label_df"
      ]
    },
    {
      "cell_type": "code",
      "source": [
        "#Checking for null values \n",
        "print(product_df.isna().sum())\n",
        "print(label_df.isna().sum())\n",
        "print(query_df.isna().sum())"
      ],
      "metadata": {
        "colab": {
          "base_uri": "https://localhost:8080/"
        },
        "id": "0aLgkSfVOMEL",
        "outputId": "2837e4d6-c947-4ab2-bbcd-ebce9051685e"
      },
      "id": "0aLgkSfVOMEL",
      "execution_count": null,
      "outputs": [
        {
          "output_type": "stream",
          "name": "stdout",
          "text": [
            "product_id                0\n",
            "product_name              0\n",
            "product_class          2852\n",
            "category hierarchy     1556\n",
            "product_description    6008\n",
            "product_features          0\n",
            "rating_count           9452\n",
            "average_rating         9452\n",
            "review_count           9452\n",
            "dtype: int64\n",
            "id            0\n",
            "query_id      0\n",
            "product_id    0\n",
            "label         0\n",
            "dtype: int64\n",
            "query_id       0\n",
            "query          0\n",
            "query_class    6\n",
            "dtype: int64\n"
          ]
        }
      ]
    },
    {
      "cell_type": "code",
      "source": [
        "print(\"shape of label_df is {} \".format(label_df.shape))\n",
        "print(\"shape of query_df is {} \".format(query_df.shape))\n",
        "print(\"shape of product_df is {} \".format(product_df.shape))"
      ],
      "metadata": {
        "colab": {
          "base_uri": "https://localhost:8080/"
        },
        "id": "_lGzHH8h2y54",
        "outputId": "b6de5c78-9ab8-48a8-921f-c37d17cb10bd"
      },
      "id": "_lGzHH8h2y54",
      "execution_count": null,
      "outputs": [
        {
          "output_type": "stream",
          "name": "stdout",
          "text": [
            "shape of label_df is (233448, 4) \n",
            "shape of query_df is (480, 3) \n",
            "shape of product_df is (42994, 9) \n"
          ]
        }
      ]
    },
    {
      "cell_type": "markdown",
      "source": [
        "###EDA Labels"
      ],
      "metadata": {
        "id": "aiv-43cI3SUp"
      },
      "id": "aiv-43cI3SUp"
    },
    {
      "cell_type": "code",
      "source": [
        "label_df['label'].value_counts()"
      ],
      "metadata": {
        "colab": {
          "base_uri": "https://localhost:8080/"
        },
        "id": "hG-vcZd6QeQf",
        "outputId": "69553e88-3270-41bd-ea09-d50a75b961da"
      },
      "id": "hG-vcZd6QeQf",
      "execution_count": null,
      "outputs": [
        {
          "output_type": "execute_result",
          "data": {
            "text/plain": [
              "Partial       146633\n",
              "Irrelevant     61201\n",
              "Exact          25614\n",
              "Name: label, dtype: int64"
            ]
          },
          "metadata": {},
          "execution_count": 126
        }
      ]
    },
    {
      "cell_type": "code",
      "source": [
        "sns.catplot(x='label', kind='count', data=label_df, height=5, aspect=2)\n",
        "plt.show()"
      ],
      "metadata": {
        "colab": {
          "base_uri": "https://localhost:8080/",
          "height": 369
        },
        "id": "vJrghQDrQqve",
        "outputId": "2577d73f-e5a2-4c9c-c1a6-b95e854d3b7d"
      },
      "id": "vJrghQDrQqve",
      "execution_count": null,
      "outputs": [
        {
          "output_type": "display_data",
          "data": {
            "text/plain": [
              "<Figure size 720x360 with 1 Axes>"
            ],
            "image/png": "[encoded data removed]"
          },
          "metadata": {
            "needs_background": "light"
          }
        }
      ]
    },
    {
      "cell_type": "markdown",
      "source": [
        "\n",
        "\n",
        "*   Majority of product had a partial relevance  i.e most of the products are partially relevant.\n",
        "* We will solve this as a classification problem because that will help us in ranking our products easily. \n",
        "* Fewer items had irrelevant lables,Very few products had exact match\n",
        "* There is a class imbalance present in the data\n",
        "\n",
        "\n",
        "\n"
      ],
      "metadata": {
        "id": "VuwBHD3kREug"
      },
      "id": "VuwBHD3kREug"
    },
    {
      "cell_type": "markdown",
      "source": [
        "\n",
        "###EDA Product_uid"
      ],
      "metadata": {
        "id": "K0dYioNS16pG"
      },
      "id": "K0dYioNS16pG"
    },
    {
      "cell_type": "code",
      "source": [
        "\n",
        "\n",
        "prod_counts=label_df['product_id'].value_counts()\n",
        "print('max times a product has occured', max(prod_counts))\n",
        "print('min times a product has occured', min(prod_counts))\n",
        "print('Total number of unique products', len(prod_counts))\n",
        "print('')\n",
        "\n",
        "plt.figure(figsize=(15,8))\n",
        "plt.title('product_frequency vs product_index')\n",
        "plt.plot(prod_counts.values)\n",
        "plt.yticks(np.arange(min(prod_counts.values), max(prod_counts.values)+1, 2.0))\n",
        "plt.show()\n",
        "\n"
      ],
      "metadata": {
        "colab": {
          "base_uri": "https://localhost:8080/",
          "height": 573
        },
        "id": "VDseub2kRZ41",
        "outputId": "4bed688e-3486-4dfb-dcc9-71e2cd0ceeab"
      },
      "id": "VDseub2kRZ41",
      "execution_count": null,
      "outputs": [
        {
          "output_type": "stream",
          "name": "stdout",
          "text": [
            "max times a product has occured 46\n",
            "min times a product has occured 1\n",
            "Total number of unique products 42986\n",
            "\n"
          ]
        },
        {
          "output_type": "display_data",
          "data": {
            "text/plain": [
              "<Figure size 1080x576 with 1 Axes>"
            ],
            "image/png": "[encoded data removed]"
          },
          "metadata": {
            "needs_background": "light"
          }
        }
      ]
    },
    {
      "cell_type": "markdown",
      "source": [
        "There are more than 35000 products that occur multiple times i.e we have multiple search queries for the same product and corresponding relevance label for them "
      ],
      "metadata": {
        "id": "ubQUPtrO4j8e"
      },
      "id": "ubQUPtrO4j8e"
    },
    {
      "cell_type": "markdown",
      "source": [
        "###Merging the product_df, label_df and query_df"
      ],
      "metadata": {
        "id": "RPEk9Vi05CJG"
      },
      "id": "RPEk9Vi05CJG"
    },
    {
      "cell_type": "code",
      "source": [
        "temp_df = pd.merge(label_df, query_df, on='query_id', how='left')\n",
        "temp_df = temp_df.reset_index(drop=True)\n",
        "temp_df"
      ],
      "metadata": {
        "colab": {
          "base_uri": "https://localhost:8080/",
          "height": 424
        },
        "id": "3mAHO4f74N0d",
        "outputId": "78ebbd57-c625-4142-de68-037cb469165f"
      },
      "id": "3mAHO4f74N0d",
      "execution_count": null,
      "outputs": [
        {
          "output_type": "execute_result",
          "data": {
            "text/plain": [
              "            id  query_id  product_id       label                      query  \\\n",
              "0            0         0       25434       Exact                salon chair   \n",
              "1            1         0       12088  Irrelevant                salon chair   \n",
              "2            2         0       42931       Exact                salon chair   \n",
              "3            3         0        2636       Exact                salon chair   \n",
              "4            4         0       42923       Exact                salon chair   \n",
              "...        ...       ...         ...         ...                        ...   \n",
              "233443  234010       478       15439     Partial  worn leather office chair   \n",
              "233444  234011       478         451     Partial  worn leather office chair   \n",
              "233445  234012       478       30764  Irrelevant  worn leather office chair   \n",
              "233446  234013       478       16796     Partial  worn leather office chair   \n",
              "233447  234014       486       30764     Partial        54 in bench cushion   \n",
              "\n",
              "               query_class  \n",
              "0           Massage Chairs  \n",
              "1           Massage Chairs  \n",
              "2           Massage Chairs  \n",
              "3           Massage Chairs  \n",
              "4           Massage Chairs  \n",
              "...                    ...  \n",
              "233443       Office Chairs  \n",
              "233444       Office Chairs  \n",
              "233445       Office Chairs  \n",
              "233446       Office Chairs  \n",
              "233447  Furniture Cushions  \n",
              "\n",
              "[233448 rows x 6 columns]"
            ],
            "text/html": [
              "\n",
              "  <div id=\"df-e905ff55-beb3-488d-abc8-892dc80b0f61\">\n",
              "    <div class=\"colab-df-container\">\n",
              "      <div>\n",
              "<style scoped>\n",
              "    .dataframe tbody tr th:only-of-type {\n",
              "        vertical-align: middle;\n",
              "    }\n",
              "\n",
              "    .dataframe tbody tr th {\n",
              "        vertical-align: top;\n",
              "    }\n",
              "\n",
              "    .dataframe thead th {\n",
              "        text-align: right;\n",
              "    }\n",
              "</style>\n",
              "<table border=\"1\" class=\"dataframe\">\n",
              "  <thead>\n",
              "    <tr style=\"text-align: right;\">\n",
              "      <th></th>\n",
              "      <th>id</th>\n",
              "      <th>query_id</th>\n",
              "      <th>product_id</th>\n",
              "      <th>label</th>\n",
              "      <th>query</th>\n",
              "      <th>query_class</th>\n",
              "    </tr>\n",
              "  </thead>\n",
              "  <tbody>\n",
              "    <tr>\n",
              "      <th>0</th>\n",
              "      <td>0</td>\n",
              "      <td>0</td>\n",
              "      <td>25434</td>\n",
              "      <td>Exact</td>\n",
              "      <td>salon chair</td>\n",
              "      <td>Massage Chairs</td>\n",
              "    </tr>\n",
              "    <tr>\n",
              "      <th>1</th>\n",
              "      <td>1</td>\n",
              "      <td>0</td>\n",
              "      <td>12088</td>\n",
              "      <td>Irrelevant</td>\n",
              "      <td>salon chair</td>\n",
              "      <td>Massage Chairs</td>\n",
              "    </tr>\n",
              "    <tr>\n",
              "      <th>2</th>\n",
              "      <td>2</td>\n",
              "      <td>0</td>\n",
              "      <td>42931</td>\n",
              "      <td>Exact</td>\n",
              "      <td>salon chair</td>\n",
              "      <td>Massage Chairs</td>\n",
              "    </tr>\n",
              "    <tr>\n",
              "      <th>3</th>\n",
              "      <td>3</td>\n",
              "      <td>0</td>\n",
              "      <td>2636</td>\n",
              "      <td>Exact</td>\n",
              "      <td>salon chair</td>\n",
              "      <td>Massage Chairs</td>\n",
              "    </tr>\n",
              "    <tr>\n",
              "      <th>4</th>\n",
              "      <td>4</td>\n",
              "      <td>0</td>\n",
              "      <td>42923</td>\n",
              "      <td>Exact</td>\n",
              "      <td>salon chair</td>\n",
              "      <td>Massage Chairs</td>\n",
              "    </tr>\n",
              "    <tr>\n",
              "      <th>...</th>\n",
              "      <td>...</td>\n",
              "      <td>...</td>\n",
              "      <td>...</td>\n",
              "      <td>...</td>\n",
              "      <td>...</td>\n",
              "      <td>...</td>\n",
              "    </tr>\n",
              "    <tr>\n",
              "      <th>233443</th>\n",
              "      <td>234010</td>\n",
              "      <td>478</td>\n",
              "      <td>15439</td>\n",
              "      <td>Partial</td>\n",
              "      <td>worn leather office chair</td>\n",
              "      <td>Office Chairs</td>\n",
              "    </tr>\n",
              "    <tr>\n",
              "      <th>233444</th>\n",
              "      <td>234011</td>\n",
              "      <td>478</td>\n",
              "      <td>451</td>\n",
              "      <td>Partial</td>\n",
              "      <td>worn leather office chair</td>\n",
              "      <td>Office Chairs</td>\n",
              "    </tr>\n",
              "    <tr>\n",
              "      <th>233445</th>\n",
              "      <td>234012</td>\n",
              "      <td>478</td>\n",
              "      <td>30764</td>\n",
              "      <td>Irrelevant</td>\n",
              "      <td>worn leather office chair</td>\n",
              "      <td>Office Chairs</td>\n",
              "    </tr>\n",
              "    <tr>\n",
              "      <th>233446</th>\n",
              "      <td>234013</td>\n",
              "      <td>478</td>\n",
              "      <td>16796</td>\n",
              "      <td>Partial</td>\n",
              "      <td>worn leather office chair</td>\n",
              "      <td>Office Chairs</td>\n",
              "    </tr>\n",
              "    <tr>\n",
              "      <th>233447</th>\n",
              "      <td>234014</td>\n",
              "      <td>486</td>\n",
              "      <td>30764</td>\n",
              "      <td>Partial</td>\n",
              "      <td>54 in bench cushion</td>\n",
              "      <td>Furniture Cushions</td>\n",
              "    </tr>\n",
              "  </tbody>\n",
              "</table>\n",
              "<p>233448 rows × 6 columns</p>\n",
              "</div>\n",
              "      <button class=\"colab-df-convert\" onclick=\"convertToInteractive('df-e905ff55-beb3-488d-abc8-892dc80b0f61')\"\n",
              "              title=\"Convert this dataframe to an interactive table.\"\n",
              "              style=\"display:none;\">\n",
              "        \n",
              "  <svg xmlns=\"http://www.w3.org/2000/svg\" height=\"24px\"viewBox=\"0 0 24 24\"\n",
              "       width=\"24px\">\n",
              "    <path d=\"M0 0h24v24H0V0z\" fill=\"none\"/>\n",
              "    <path d=\"M18.56 5.44l.94 2.06.94-2.06 2.06-.94-2.06-.94-.94-2.06-.94 2.06-2.06.94zm-11 1L8.5 8.5l.94-2.06 2.06-.94-2.06-.94L8.5 2.5l-.94 2.06-2.06.94zm10 10l.94 2.06.94-2.06 2.06-.94-2.06-.94-.94-2.06-.94 2.06-2.06.94z\"/><path d=\"M17.41 7.96l-1.37-1.37c-.4-.4-.92-.59-1.43-.59-.52 0-1.04.2-1.43.59L10.3 9.45l-7.72 7.72c-.78.78-.78 2.05 0 2.83L4 21.41c.39.39.9.59 1.41.59.51 0 1.02-.2 1.41-.59l7.78-7.78 2.81-2.81c.8-.78.8-2.07 0-2.86zM5.41 20L4 18.59l7.72-7.72 1.47 1.35L5.41 20z\"/>\n",
              "  </svg>\n",
              "      </button>\n",
              "      \n",
              "  <style>\n",
              "    .colab-df-container {\n",
              "      display:flex;\n",
              "      flex-wrap:wrap;\n",
              "      gap: 12px;\n",
              "    }\n",
              "\n",
              "    .colab-df-convert {\n",
              "      background-color: #E8F0FE;\n",
              "      border: none;\n",
              "      border-radius: 50%;\n",
              "      cursor: pointer;\n",
              "      display: none;\n",
              "      fill: #1967D2;\n",
              "      height: 32px;\n",
              "      padding: 0 0 0 0;\n",
              "      width: 32px;\n",
              "    }\n",
              "\n",
              "    .colab-df-convert:hover {\n",
              "      background-color: #E2EBFA;\n",
              "      box-shadow: 0px 1px 2px rgba(60, 64, 67, 0.3), 0px 1px 3px 1px rgba(60, 64, 67, 0.15);\n",
              "      fill: #174EA6;\n",
              "    }\n",
              "\n",
              "    [theme=dark] .colab-df-convert {\n",
              "      background-color: #3B4455;\n",
              "      fill: #D2E3FC;\n",
              "    }\n",
              "\n",
              "    [theme=dark] .colab-df-convert:hover {\n",
              "      background-color: #434B5C;\n",
              "      box-shadow: 0px 1px 3px 1px rgba(0, 0, 0, 0.15);\n",
              "      filter: drop-shadow(0px 1px 2px rgba(0, 0, 0, 0.3));\n",
              "      fill: #FFFFFF;\n",
              "    }\n",
              "  </style>\n",
              "\n",
              "      <script>\n",
              "        const buttonEl =\n",
              "          document.querySelector('#df-e905ff55-beb3-488d-abc8-892dc80b0f61 button.colab-df-convert');\n",
              "        buttonEl.style.display =\n",
              "          google.colab.kernel.accessAllowed ? 'block' : 'none';\n",
              "\n",
              "        async function convertToInteractive(key) {\n",
              "          const element = document.querySelector('#df-e905ff55-beb3-488d-abc8-892dc80b0f61');\n",
              "          const dataTable =\n",
              "            await google.colab.kernel.invokeFunction('convertToInteractive',\n",
              "                                                     [key], {});\n",
              "          if (!dataTable) return;\n",
              "\n",
              "          const docLinkHtml = 'Like what you see? Visit the ' +\n",
              "            '<a target=\"_blank\" href=https://colab.research.google.com/notebooks/data_table.ipynb>data table notebook</a>'\n",
              "            + ' to learn more about interactive tables.';\n",
              "          element.innerHTML = '';\n",
              "          dataTable['output_type'] = 'display_data';\n",
              "          await google.colab.output.renderOutput(dataTable, element);\n",
              "          const docLink = document.createElement('div');\n",
              "          docLink.innerHTML = docLinkHtml;\n",
              "          element.appendChild(docLink);\n",
              "        }\n",
              "      </script>\n",
              "    </div>\n",
              "  </div>\n",
              "  "
            ]
          },
          "metadata": {},
          "execution_count": 129
        }
      ]
    },
    {
      "cell_type": "code",
      "source": [
        "temp_df.isna().sum()"
      ],
      "metadata": {
        "colab": {
          "base_uri": "https://localhost:8080/"
        },
        "id": "0Enb0oSrWmn7",
        "outputId": "fbfc70cf-ed91-40d5-d92f-ddf8eb38ca31"
      },
      "id": "0Enb0oSrWmn7",
      "execution_count": null,
      "outputs": [
        {
          "output_type": "execute_result",
          "data": {
            "text/plain": [
              "id               0\n",
              "query_id         0\n",
              "product_id       0\n",
              "label            0\n",
              "query            0\n",
              "query_class    328\n",
              "dtype: int64"
            ]
          },
          "metadata": {},
          "execution_count": 130
        }
      ]
    },
    {
      "cell_type": "code",
      "source": [
        "combined_df = pd.merge(temp_df, product_df, on='product_id', how='left')\n",
        "combined_df = combined_df.reset_index(drop=True)\n",
        "combined_df\n"
      ],
      "metadata": {
        "colab": {
          "base_uri": "https://localhost:8080/",
          "height": 1000
        },
        "id": "qiae3HKm9QRu",
        "outputId": "4785c01f-b764-416f-eae9-3d1ef5bd9c36"
      },
      "id": "qiae3HKm9QRu",
      "execution_count": null,
      "outputs": [
        {
          "output_type": "execute_result",
          "data": {
            "text/plain": [
              "            id  query_id  product_id       label                      query  \\\n",
              "0            0         0       25434       Exact                salon chair   \n",
              "1            1         0       12088  Irrelevant                salon chair   \n",
              "2            2         0       42931       Exact                salon chair   \n",
              "3            3         0        2636       Exact                salon chair   \n",
              "4            4         0       42923       Exact                salon chair   \n",
              "...        ...       ...         ...         ...                        ...   \n",
              "233443  234010       478       15439     Partial  worn leather office chair   \n",
              "233444  234011       478         451     Partial  worn leather office chair   \n",
              "233445  234012       478       30764  Irrelevant  worn leather office chair   \n",
              "233446  234013       478       16796     Partial  worn leather office chair   \n",
              "233447  234014       486       30764     Partial        54 in bench cushion   \n",
              "\n",
              "               query_class                                       product_name  \\\n",
              "0           Massage Chairs       21.7 '' w waiting room chair with wood frame   \n",
              "1           Massage Chairs                  22.5 '' wide polyester side chair   \n",
              "2           Massage Chairs      24.4 '' w metal lounge chair with metal frame   \n",
              "3           Massage Chairs  25 '' wide faux leather manual swivel standard...   \n",
              "4           Massage Chairs  27.6 '' w antimicrobial leather seat waiting r...   \n",
              "...                    ...                                                ...   \n",
              "233443       Office Chairs          fellsburg linen upholstered parsons chair   \n",
              "233444       Office Chairs                        olin upholstered side chair   \n",
              "233445       Office Chairs                        barbay lounge chair cushion   \n",
              "233446       Office Chairs                   haings upholstered parsons chair   \n",
              "233447  Furniture Cushions                        barbay lounge chair cushion   \n",
              "\n",
              "                      product_class  \\\n",
              "0               Waiting Room Chairs   \n",
              "1                     Accent Chairs   \n",
              "2          Reception Seating Chairs   \n",
              "3                         Recliners   \n",
              "4               Waiting Room Chairs   \n",
              "...                             ...   \n",
              "233443  Accent Chairs|Dining Chairs   \n",
              "233444                Dining Chairs   \n",
              "233445           Furniture Cushions   \n",
              "233446  Accent Chairs|Dining Chairs   \n",
              "233447           Furniture Cushions   \n",
              "\n",
              "                                       category hierarchy  \\\n",
              "0       Commercial Business Furniture / Commercial Off...   \n",
              "1       Furniture / Living Room Furniture / Chairs & S...   \n",
              "2       Shop Product Type / Chairs / Guest & Reception...   \n",
              "3       Furniture / Living Room Furniture / Chairs & S...   \n",
              "4       Commercial Business Furniture / Commercial Off...   \n",
              "...                                                   ...   \n",
              "233443  Furniture / Kitchen & Dining Furniture / Dinin...   \n",
              "233444  Furniture / Kitchen & Dining Furniture / Dinin...   \n",
              "233445                                                NaN   \n",
              "233446  Furniture / Kitchen & Dining Furniture / Dinin...   \n",
              "233447                                                NaN   \n",
              "\n",
              "                                      product_description  \\\n",
              "0       this is a salon chair , barber chair for a hai...   \n",
              "1       add a beautiful accent to any room with this m...   \n",
              "2       the heavy duty barber chair is built to last ....   \n",
              "3       this is a chair designed for your barbershop ....   \n",
              "4                                                     NaN   \n",
              "...                                                   ...   \n",
              "233443                                                NaN   \n",
              "233444  if you are looking for a simple yet sleek dini...   \n",
              "233445                                                NaN   \n",
              "233446  this set of 2 armless side chairs boasts an up...   \n",
              "233447                                                NaN   \n",
              "\n",
              "                                         product_features  rating_count  \\\n",
              "0       backupholsterycolor : champagne|primarymateria...           NaN   \n",
              "1       overalldepth-fronttoback:27.5|design : side ch...           NaN   \n",
              "2       color : black|seatcushionorupholsteryfillmater...           1.0   \n",
              "3       design : standard recliner|warrantylength:60 d...           5.0   \n",
              "4       backupholsterymaterial : leather|armsincluded ...           NaN   \n",
              "...                                                   ...           ...   \n",
              "233443  numberofchairsincluded:4|legmaterial : solid w...        1729.0   \n",
              "233444  productcare : wipe with damp cloth|legcolor : ...        2880.0   \n",
              "233445  durability : mildew resistant|furnituretype : ...          74.0   \n",
              "233446  dssecondaryproductstyle : transitional traditi...          50.0   \n",
              "233447  durability : mildew resistant|furnituretype : ...          74.0   \n",
              "\n",
              "        average_rating  review_count  \n",
              "0                  NaN           NaN  \n",
              "1                  NaN           NaN  \n",
              "2                  4.0           0.0  \n",
              "3                  5.0           3.0  \n",
              "4                  NaN           NaN  \n",
              "...                ...           ...  \n",
              "233443             4.0        1193.0  \n",
              "233444             4.5        1921.0  \n",
              "233445             4.5          51.0  \n",
              "233446             4.5          39.0  \n",
              "233447             4.5          51.0  \n",
              "\n",
              "[233448 rows x 14 columns]"
            ],
            "text/html": [
              "\n",
              "  <div id=\"df-17d7dfd1-b644-4abc-8241-63fc3ec931a5\">\n",
              "    <div class=\"colab-df-container\">\n",
              "      <div>\n",
              "<style scoped>\n",
              "    .dataframe tbody tr th:only-of-type {\n",
              "        vertical-align: middle;\n",
              "    }\n",
              "\n",
              "    .dataframe tbody tr th {\n",
              "        vertical-align: top;\n",
              "    }\n",
              "\n",
              "    .dataframe thead th {\n",
              "        text-align: right;\n",
              "    }\n",
              "</style>\n",
              "<table border=\"1\" class=\"dataframe\">\n",
              "  <thead>\n",
              "    <tr style=\"text-align: right;\">\n",
              "      <th></th>\n",
              "      <th>id</th>\n",
              "      <th>query_id</th>\n",
              "      <th>product_id</th>\n",
              "      <th>label</th>\n",
              "      <th>query</th>\n",
              "      <th>query_class</th>\n",
              "      <th>product_name</th>\n",
              "      <th>product_class</th>\n",
              "      <th>category hierarchy</th>\n",
              "      <th>product_description</th>\n",
              "      <th>product_features</th>\n",
              "      <th>rating_count</th>\n",
              "      <th>average_rating</th>\n",
              "      <th>review_count</th>\n",
              "    </tr>\n",
              "  </thead>\n",
              "  <tbody>\n",
              "    <tr>\n",
              "      <th>0</th>\n",
              "      <td>0</td>\n",
              "      <td>0</td>\n",
              "      <td>25434</td>\n",
              "      <td>Exact</td>\n",
              "      <td>salon chair</td>\n",
              "      <td>Massage Chairs</td>\n",
              "      <td>21.7 '' w waiting room chair with wood frame</td>\n",
              "      <td>Waiting Room Chairs</td>\n",
              "      <td>Commercial Business Furniture / Commercial Off...</td>\n",
              "      <td>this is a salon chair , barber chair for a hai...</td>\n",
              "      <td>backupholsterycolor : champagne|primarymateria...</td>\n",
              "      <td>NaN</td>\n",
              "      <td>NaN</td>\n",
              "      <td>NaN</td>\n",
              "    </tr>\n",
              "    <tr>\n",
              "      <th>1</th>\n",
              "      <td>1</td>\n",
              "      <td>0</td>\n",
              "      <td>12088</td>\n",
              "      <td>Irrelevant</td>\n",
              "      <td>salon chair</td>\n",
              "      <td>Massage Chairs</td>\n",
              "      <td>22.5 '' wide polyester side chair</td>\n",
              "      <td>Accent Chairs</td>\n",
              "      <td>Furniture / Living Room Furniture / Chairs &amp; S...</td>\n",
              "      <td>add a beautiful accent to any room with this m...</td>\n",
              "      <td>overalldepth-fronttoback:27.5|design : side ch...</td>\n",
              "      <td>NaN</td>\n",
              "      <td>NaN</td>\n",
              "      <td>NaN</td>\n",
              "    </tr>\n",
              "    <tr>\n",
              "      <th>2</th>\n",
              "      <td>2</td>\n",
              "      <td>0</td>\n",
              "      <td>42931</td>\n",
              "      <td>Exact</td>\n",
              "      <td>salon chair</td>\n",
              "      <td>Massage Chairs</td>\n",
              "      <td>24.4 '' w metal lounge chair with metal frame</td>\n",
              "      <td>Reception Seating Chairs</td>\n",
              "      <td>Shop Product Type / Chairs / Guest &amp; Reception...</td>\n",
              "      <td>the heavy duty barber chair is built to last ....</td>\n",
              "      <td>color : black|seatcushionorupholsteryfillmater...</td>\n",
              "      <td>1.0</td>\n",
              "      <td>4.0</td>\n",
              "      <td>0.0</td>\n",
              "    </tr>\n",
              "    <tr>\n",
              "      <th>3</th>\n",
              "      <td>3</td>\n",
              "      <td>0</td>\n",
              "      <td>2636</td>\n",
              "      <td>Exact</td>\n",
              "      <td>salon chair</td>\n",
              "      <td>Massage Chairs</td>\n",
              "      <td>25 '' wide faux leather manual swivel standard...</td>\n",
              "      <td>Recliners</td>\n",
              "      <td>Furniture / Living Room Furniture / Chairs &amp; S...</td>\n",
              "      <td>this is a chair designed for your barbershop ....</td>\n",
              "      <td>design : standard recliner|warrantylength:60 d...</td>\n",
              "      <td>5.0</td>\n",
              "      <td>5.0</td>\n",
              "      <td>3.0</td>\n",
              "    </tr>\n",
              "    <tr>\n",
              "      <th>4</th>\n",
              "      <td>4</td>\n",
              "      <td>0</td>\n",
              "      <td>42923</td>\n",
              "      <td>Exact</td>\n",
              "      <td>salon chair</td>\n",
              "      <td>Massage Chairs</td>\n",
              "      <td>27.6 '' w antimicrobial leather seat waiting r...</td>\n",
              "      <td>Waiting Room Chairs</td>\n",
              "      <td>Commercial Business Furniture / Commercial Off...</td>\n",
              "      <td>NaN</td>\n",
              "      <td>backupholsterymaterial : leather|armsincluded ...</td>\n",
              "      <td>NaN</td>\n",
              "      <td>NaN</td>\n",
              "      <td>NaN</td>\n",
              "    </tr>\n",
              "    <tr>\n",
              "      <th>...</th>\n",
              "      <td>...</td>\n",
              "      <td>...</td>\n",
              "      <td>...</td>\n",
              "      <td>...</td>\n",
              "      <td>...</td>\n",
              "      <td>...</td>\n",
              "      <td>...</td>\n",
              "      <td>...</td>\n",
              "      <td>...</td>\n",
              "      <td>...</td>\n",
              "      <td>...</td>\n",
              "      <td>...</td>\n",
              "      <td>...</td>\n",
              "      <td>...</td>\n",
              "    </tr>\n",
              "    <tr>\n",
              "      <th>233443</th>\n",
              "      <td>234010</td>\n",
              "      <td>478</td>\n",
              "      <td>15439</td>\n",
              "      <td>Partial</td>\n",
              "      <td>worn leather office chair</td>\n",
              "      <td>Office Chairs</td>\n",
              "      <td>fellsburg linen upholstered parsons chair</td>\n",
              "      <td>Accent Chairs|Dining Chairs</td>\n",
              "      <td>Furniture / Kitchen &amp; Dining Furniture / Dinin...</td>\n",
              "      <td>NaN</td>\n",
              "      <td>numberofchairsincluded:4|legmaterial : solid w...</td>\n",
              "      <td>1729.0</td>\n",
              "      <td>4.0</td>\n",
              "      <td>1193.0</td>\n",
              "    </tr>\n",
              "    <tr>\n",
              "      <th>233444</th>\n",
              "      <td>234011</td>\n",
              "      <td>478</td>\n",
              "      <td>451</td>\n",
              "      <td>Partial</td>\n",
              "      <td>worn leather office chair</td>\n",
              "      <td>Office Chairs</td>\n",
              "      <td>olin upholstered side chair</td>\n",
              "      <td>Dining Chairs</td>\n",
              "      <td>Furniture / Kitchen &amp; Dining Furniture / Dinin...</td>\n",
              "      <td>if you are looking for a simple yet sleek dini...</td>\n",
              "      <td>productcare : wipe with damp cloth|legcolor : ...</td>\n",
              "      <td>2880.0</td>\n",
              "      <td>4.5</td>\n",
              "      <td>1921.0</td>\n",
              "    </tr>\n",
              "    <tr>\n",
              "      <th>233445</th>\n",
              "      <td>234012</td>\n",
              "      <td>478</td>\n",
              "      <td>30764</td>\n",
              "      <td>Irrelevant</td>\n",
              "      <td>worn leather office chair</td>\n",
              "      <td>Office Chairs</td>\n",
              "      <td>barbay lounge chair cushion</td>\n",
              "      <td>Furniture Cushions</td>\n",
              "      <td>NaN</td>\n",
              "      <td>NaN</td>\n",
              "      <td>durability : mildew resistant|furnituretype : ...</td>\n",
              "      <td>74.0</td>\n",
              "      <td>4.5</td>\n",
              "      <td>51.0</td>\n",
              "    </tr>\n",
              "    <tr>\n",
              "      <th>233446</th>\n",
              "      <td>234013</td>\n",
              "      <td>478</td>\n",
              "      <td>16796</td>\n",
              "      <td>Partial</td>\n",
              "      <td>worn leather office chair</td>\n",
              "      <td>Office Chairs</td>\n",
              "      <td>haings upholstered parsons chair</td>\n",
              "      <td>Accent Chairs|Dining Chairs</td>\n",
              "      <td>Furniture / Kitchen &amp; Dining Furniture / Dinin...</td>\n",
              "      <td>this set of 2 armless side chairs boasts an up...</td>\n",
              "      <td>dssecondaryproductstyle : transitional traditi...</td>\n",
              "      <td>50.0</td>\n",
              "      <td>4.5</td>\n",
              "      <td>39.0</td>\n",
              "    </tr>\n",
              "    <tr>\n",
              "      <th>233447</th>\n",
              "      <td>234014</td>\n",
              "      <td>486</td>\n",
              "      <td>30764</td>\n",
              "      <td>Partial</td>\n",
              "      <td>54 in bench cushion</td>\n",
              "      <td>Furniture Cushions</td>\n",
              "      <td>barbay lounge chair cushion</td>\n",
              "      <td>Furniture Cushions</td>\n",
              "      <td>NaN</td>\n",
              "      <td>NaN</td>\n",
              "      <td>durability : mildew resistant|furnituretype : ...</td>\n",
              "      <td>74.0</td>\n",
              "      <td>4.5</td>\n",
              "      <td>51.0</td>\n",
              "    </tr>\n",
              "  </tbody>\n",
              "</table>\n",
              "<p>233448 rows × 14 columns</p>\n",
              "</div>\n",
              "      <button class=\"colab-df-convert\" onclick=\"convertToInteractive('df-17d7dfd1-b644-4abc-8241-63fc3ec931a5')\"\n",
              "              title=\"Convert this dataframe to an interactive table.\"\n",
              "              style=\"display:none;\">\n",
              "        \n",
              "  <svg xmlns=\"http://www.w3.org/2000/svg\" height=\"24px\"viewBox=\"0 0 24 24\"\n",
              "       width=\"24px\">\n",
              "    <path d=\"M0 0h24v24H0V0z\" fill=\"none\"/>\n",
              "    <path d=\"M18.56 5.44l.94 2.06.94-2.06 2.06-.94-2.06-.94-.94-2.06-.94 2.06-2.06.94zm-11 1L8.5 8.5l.94-2.06 2.06-.94-2.06-.94L8.5 2.5l-.94 2.06-2.06.94zm10 10l.94 2.06.94-2.06 2.06-.94-2.06-.94-.94-2.06-.94 2.06-2.06.94z\"/><path d=\"M17.41 7.96l-1.37-1.37c-.4-.4-.92-.59-1.43-.59-.52 0-1.04.2-1.43.59L10.3 9.45l-7.72 7.72c-.78.78-.78 2.05 0 2.83L4 21.41c.39.39.9.59 1.41.59.51 0 1.02-.2 1.41-.59l7.78-7.78 2.81-2.81c.8-.78.8-2.07 0-2.86zM5.41 20L4 18.59l7.72-7.72 1.47 1.35L5.41 20z\"/>\n",
              "  </svg>\n",
              "      </button>\n",
              "      \n",
              "  <style>\n",
              "    .colab-df-container {\n",
              "      display:flex;\n",
              "      flex-wrap:wrap;\n",
              "      gap: 12px;\n",
              "    }\n",
              "\n",
              "    .colab-df-convert {\n",
              "      background-color: #E8F0FE;\n",
              "      border: none;\n",
              "      border-radius: 50%;\n",
              "      cursor: pointer;\n",
              "      display: none;\n",
              "      fill: #1967D2;\n",
              "      height: 32px;\n",
              "      padding: 0 0 0 0;\n",
              "      width: 32px;\n",
              "    }\n",
              "\n",
              "    .colab-df-convert:hover {\n",
              "      background-color: #E2EBFA;\n",
              "      box-shadow: 0px 1px 2px rgba(60, 64, 67, 0.3), 0px 1px 3px 1px rgba(60, 64, 67, 0.15);\n",
              "      fill: #174EA6;\n",
              "    }\n",
              "\n",
              "    [theme=dark] .colab-df-convert {\n",
              "      background-color: #3B4455;\n",
              "      fill: #D2E3FC;\n",
              "    }\n",
              "\n",
              "    [theme=dark] .colab-df-convert:hover {\n",
              "      background-color: #434B5C;\n",
              "      box-shadow: 0px 1px 3px 1px rgba(0, 0, 0, 0.15);\n",
              "      filter: drop-shadow(0px 1px 2px rgba(0, 0, 0, 0.3));\n",
              "      fill: #FFFFFF;\n",
              "    }\n",
              "  </style>\n",
              "\n",
              "      <script>\n",
              "        const buttonEl =\n",
              "          document.querySelector('#df-17d7dfd1-b644-4abc-8241-63fc3ec931a5 button.colab-df-convert');\n",
              "        buttonEl.style.display =\n",
              "          google.colab.kernel.accessAllowed ? 'block' : 'none';\n",
              "\n",
              "        async function convertToInteractive(key) {\n",
              "          const element = document.querySelector('#df-17d7dfd1-b644-4abc-8241-63fc3ec931a5');\n",
              "          const dataTable =\n",
              "            await google.colab.kernel.invokeFunction('convertToInteractive',\n",
              "                                                     [key], {});\n",
              "          if (!dataTable) return;\n",
              "\n",
              "          const docLinkHtml = 'Like what you see? Visit the ' +\n",
              "            '<a target=\"_blank\" href=https://colab.research.google.com/notebooks/data_table.ipynb>data table notebook</a>'\n",
              "            + ' to learn more about interactive tables.';\n",
              "          element.innerHTML = '';\n",
              "          dataTable['output_type'] = 'display_data';\n",
              "          await google.colab.output.renderOutput(dataTable, element);\n",
              "          const docLink = document.createElement('div');\n",
              "          docLink.innerHTML = docLinkHtml;\n",
              "          element.appendChild(docLink);\n",
              "        }\n",
              "      </script>\n",
              "    </div>\n",
              "  </div>\n",
              "  "
            ]
          },
          "metadata": {},
          "execution_count": 131
        }
      ]
    },
    {
      "cell_type": "code",
      "source": [
        "combined_df.shape"
      ],
      "metadata": {
        "colab": {
          "base_uri": "https://localhost:8080/"
        },
        "id": "8QByM4VA-n-X",
        "outputId": "453c5fd6-7814-4f80-9519-a9fc4e43ea59"
      },
      "id": "8QByM4VA-n-X",
      "execution_count": null,
      "outputs": [
        {
          "output_type": "execute_result",
          "data": {
            "text/plain": [
              "(233448, 14)"
            ]
          },
          "metadata": {},
          "execution_count": 132
        }
      ]
    },
    {
      "cell_type": "code",
      "source": [
        "from sklearn.model_selection import train_test_split\n",
        "\n",
        "def split_stratified_into_train_val_test(df_input, stratify_colname,\n",
        "                                         frac_train=0.75,frac_test=0.25,\n",
        "                                         random_state=5):\n",
        "    '''\n",
        "    Splits a Pandas dataframe into three subsets (train, val, and test)\n",
        "    following fractional ratios provided by the user, where each subset is\n",
        "    stratified by the values in a specific column (that is, each subset has\n",
        "    the same relative frequency of the values in the column). It performs this\n",
        "    splitting by running train_test_split() twice.\n",
        "\n",
        "    Parameters\n",
        "    ----------\n",
        "    df_input : Pandas dataframe\n",
        "        Input dataframe to be split.\n",
        "    stratify_colname : str\n",
        "        The name of the column that will be used for stratification. Usually\n",
        "        this column would be for the label.\n",
        "    frac_train : float\n",
        "    frac_val   : float\n",
        "    frac_test  : float\n",
        "        The ratios with which the dataframe will be split into train, val, and\n",
        "        test data. The values should be expressed as float fractions and should\n",
        "        sum to 1.0.\n",
        "    random_state : int, None, or RandomStateInstance\n",
        "        Value to be passed to train_test_split().\n",
        "\n",
        "    Returns\n",
        "    -------\n",
        "    df_train, df_val, df_test :\n",
        "        Dataframes containing the three splits.\n",
        "    '''\n",
        "\n",
        "    if frac_train +  frac_test != 1.0:\n",
        "        raise ValueError('fractions %f, %f do not add up to 1.0' % \\\n",
        "                         (frac_train,  frac_test))\n",
        "\n",
        "    if stratify_colname not in df_input.columns:\n",
        "        raise ValueError('%s is not a column in the dataframe' % (stratify_colname))\n",
        "\n",
        "    X = df_input # Contains all columns.\n",
        "    y = df_input[[stratify_colname]] # Dataframe of just the column on which to stratify.\n",
        "\n",
        "    # Split original dataframe into train and temp dataframes.\n",
        "    df_train, df_test, y_train, y_test = train_test_split(X,\n",
        "                                                          y,\n",
        "                                                          stratify=y,\n",
        "                                                          test_size=(1.0 - frac_train),\n",
        "                                                          random_state=random_state)\n",
        "\n",
        "    # Split the temp dataframe into val and test dataframes.\n",
        "    # relative_frac_test = frac_test / (frac_val + frac_test)\n",
        "    # df_val, df_test, y_val, y_test = train_test_split(df_temp,\n",
        "    #                                                   y_temp,\n",
        "    #                                                   stratify=y_temp,\n",
        "    #                                                   test_size=relative_frac_test,\n",
        "    #                                                   random_state=random_state)\n",
        "\n",
        "    assert len(df_input) == len(df_train) + len(df_test)\n",
        "\n",
        "    return df_train, df_test\n",
        "train_df, test_df=split_stratified_into_train_val_test(combined_df, stratify_colname='label')"
      ],
      "metadata": {
        "id": "3ZUK8QcyOkwc"
      },
      "id": "3ZUK8QcyOkwc",
      "execution_count": null,
      "outputs": []
    },
    {
      "cell_type": "code",
      "source": [
        "train_df= train_df.reset_index(drop=True)\n",
        "test_df =  test_df.reset_index(drop=True)"
      ],
      "metadata": {
        "id": "21B5QHI9R04-"
      },
      "id": "21B5QHI9R04-",
      "execution_count": null,
      "outputs": []
    },
    {
      "cell_type": "code",
      "source": [
        "train_df.isna().sum()"
      ],
      "metadata": {
        "colab": {
          "base_uri": "https://localhost:8080/"
        },
        "id": "OLCyt5aoRX2y",
        "outputId": "0a3d4d70-9cf3-4fa6-80c2-dfc3b9e3057e"
      },
      "id": "OLCyt5aoRX2y",
      "execution_count": null,
      "outputs": [
        {
          "output_type": "execute_result",
          "data": {
            "text/plain": [
              "id                         0\n",
              "query_id                   0\n",
              "product_id                 0\n",
              "label                      0\n",
              "query                      0\n",
              "query_class              226\n",
              "product_name               0\n",
              "product_class          13482\n",
              "category hierarchy      5246\n",
              "product_description    23110\n",
              "product_features           0\n",
              "rating_count           39550\n",
              "average_rating         39550\n",
              "review_count           39550\n",
              "dtype: int64"
            ]
          },
          "metadata": {},
          "execution_count": 135
        }
      ]
    },
    {
      "cell_type": "code",
      "source": [
        "\n",
        "test_df.isna().sum()"
      ],
      "metadata": {
        "colab": {
          "base_uri": "https://localhost:8080/"
        },
        "id": "_WzjI7afUUAB",
        "outputId": "c851f8e4-cb09-4f14-ff64-cb2b30d491cb"
      },
      "id": "_WzjI7afUUAB",
      "execution_count": null,
      "outputs": [
        {
          "output_type": "execute_result",
          "data": {
            "text/plain": [
              "id                         0\n",
              "query_id                   0\n",
              "product_id                 0\n",
              "label                      0\n",
              "query                      0\n",
              "query_class              102\n",
              "product_name               0\n",
              "product_class           4481\n",
              "category hierarchy      1825\n",
              "product_description     7674\n",
              "product_features           0\n",
              "rating_count           13168\n",
              "average_rating         13168\n",
              "review_count           13168\n",
              "dtype: int64"
            ]
          },
          "metadata": {},
          "execution_count": 136
        }
      ]
    },
    {
      "cell_type": "markdown",
      "source": [
        "### Cleaning product features\n",
        "product_features column has | delimited string of attribute:value pairs which describe the product. Attributes seems to be clustered without space between words. As a quick workaround , we can omit attributes and select only value part for further processing.\n",
        "As a future step we can try including attributes as well after extensive cleaning"
      ],
      "metadata": {
        "id": "NPXy-Yuv2sii"
      },
      "id": "NPXy-Yuv2sii"
    },
    {
      "cell_type": "code",
      "source": [
        "train_df['product_features'] = train_df['product_features'].str.split('|')\n",
        "test_df['product_features'] = test_df['product_features'].str.split('|')"
      ],
      "metadata": {
        "id": "HLQJLqjj7WgD"
      },
      "id": "HLQJLqjj7WgD",
      "execution_count": null,
      "outputs": []
    },
    {
      "cell_type": "code",
      "source": [
        "train_df['product_features'][100]"
      ],
      "metadata": {
        "colab": {
          "base_uri": "https://localhost:8080/"
        },
        "id": "EEA955kK4Lqc",
        "outputId": "555e6f89-0ea9-4144-8e42-2bb4e8907bc3"
      },
      "id": "EEA955kK4Lqc",
      "execution_count": null,
      "outputs": [
        {
          "output_type": "execute_result",
          "data": {
            "text/plain": [
              "['pattern : solid color',\n",
              " 'upholsterymaterial : velvet',\n",
              " 'legmaterial : wood',\n",
              " 'loveseatdepth-fronttoback:28.5',\n",
              " 'legcolor : natural',\n",
              " 'backfillmaterialdetails : polyurethane foam',\n",
              " 'levelofassembly : partial assembly',\n",
              " 'chairseatheightfloortoseat:18.5',\n",
              " 'design : standard',\n",
              " 'loveseatwidth-sidetoside:50',\n",
              " 'minimumdoorwidth-sidetoside:27.75',\n",
              " 'woodspecies : birch',\n",
              " 'chairheight-toptobottom:28',\n",
              " 'chairseatwidth-sidetoside:20.5',\n",
              " 'dssecondaryproductstyle : contemporary boho',\n",
              " 'weightcapacity:250',\n",
              " 'piecesincludednew : armchair',\n",
              " 'armtype : recessed arms',\n",
              " 'chairbackheight-seattotopofback:9.5',\n",
              " 'framematerial : solid wood',\n",
              " 'seatingcapacity:4',\n",
              " 'chairweightcapacity:200',\n",
              " 'loveseatbackheight-seattotopofback:9.5',\n",
              " 'chairwidth-sidetoside:27.75',\n",
              " 'chairdepth-fronttoback:28.5',\n",
              " 'seatfillmaterial : foam',\n",
              " 'loveseatseatdepth-fronttoback:20',\n",
              " 'loveseatseatheight-floortoseat:18.5',\n",
              " 'loveseatweight:48.6',\n",
              " 'waterrepellant : no resiliency',\n",
              " 'piecesincludednew : loveseat',\n",
              " 'backtype : tight back',\n",
              " 'style : modern & contemporary',\n",
              " 'seatfillmaterialdetails : polyurethane foam',\n",
              " 'loveseatseatwidth-sidetoside:43',\n",
              " 'backfillmaterial : foam',\n",
              " 'loveseatheight-toptobottom:28',\n",
              " 'loveseatweightcapacity:400',\n",
              " 'numberofpiecesincluded:3',\n",
              " 'chairseatdepth-fronttoback:20',\n",
              " 'chairweight:30.64',\n",
              " 'noofloveseats:1',\n",
              " 'noofchairs:2',\n",
              " 'storageincluded : no',\n",
              " 'ottoman : no',\n",
              " 'removablecushions : no',\n",
              " 'customproduct : no',\n",
              " 'compositewoodproductcwp : no',\n",
              " 'chaise : no',\n",
              " 'sofa : no',\n",
              " 'nailheadtrim : no',\n",
              " 'sleeperarea : no',\n",
              " 'table : no',\n",
              " 'tuftedcushions : no',\n",
              " 'loveseat : yes',\n",
              " 'adultassemblyrequired : yes',\n",
              " 'generalcertificateofconformitygcc : yes',\n",
              " 'certifications : yes',\n",
              " 'chair : yes',\n",
              " 'countryoforigin : china',\n",
              " 'supplierintendedandapproveduse : residential use']"
            ]
          },
          "metadata": {},
          "execution_count": 138
        }
      ]
    },
    {
      "cell_type": "code",
      "source": [
        "\n",
        "def preprocess_pf(x):\n",
        "  regexp = re.compile(\":(.*)$\")\n",
        "\n",
        "  k = [regexp.search(s).group(1).strip() for s in x if regexp.search(s) ]\n",
        "  cleaned =list(set(k))\n",
        "  cleaned = ' '.join(map(str, cleaned))\n",
        "  \n",
        "  return cleaned\n",
        "train_df['product_features'] = train_df['product_features'].apply(lambda x:preprocess_pf(x)) \n",
        "test_df['product_features'] = test_df['product_features'].apply(lambda x:preprocess_pf(x))"
      ],
      "metadata": {
        "id": "1ggjyh3h-enS"
      },
      "id": "1ggjyh3h-enS",
      "execution_count": null,
      "outputs": []
    },
    {
      "cell_type": "code",
      "source": [
        "train_df['product_features'][100]\n"
      ],
      "metadata": {
        "colab": {
          "base_uri": "https://localhost:8080/",
          "height": 54
        },
        "id": "TfwGxv1w6TNb",
        "outputId": "73d1f8c0-c173-4554-fb8e-9b922786e9b4"
      },
      "id": "TfwGxv1w6TNb",
      "execution_count": null,
      "outputs": [
        {
          "output_type": "execute_result",
          "data": {
            "text/plain": [
              "'30.64 residential use 50 loveseat 9.5 natural birch no resiliency polyurethane foam contemporary boho 200 250 standard 3 1 27.75 28 china 400 wood no 4 43 modern & contemporary 20.5 armchair yes tight back 28.5 recessed arms 20 partial assembly 48.6 18.5 2 velvet solid wood solid color foam'"
            ],
            "application/vnd.google.colaboratory.intrinsic+json": {
              "type": "string"
            }
          },
          "metadata": {},
          "execution_count": 140
        }
      ]
    },
    {
      "cell_type": "code",
      "source": [
        "test_df['product_features'][100]"
      ],
      "metadata": {
        "colab": {
          "base_uri": "https://localhost:8080/",
          "height": 54
        },
        "id": "jtMQGLzjQ01o",
        "outputId": "9717c818-b6f1-463a-8298-29499e8454c5"
      },
      "id": "jtMQGLzjQ01o",
      "execution_count": null,
      "outputs": [
        {
          "output_type": "execute_result",
          "data": {
            "text/plain": [
              "'16 300 stainless steel residential use 18 black red faux leather none brown white solid back modern gray china no natural variation no side chair metal modern & contemporary transitional modern yes 18.5 2 sliver no distressing foam'"
            ],
            "application/vnd.google.colaboratory.intrinsic+json": {
              "type": "string"
            }
          },
          "metadata": {},
          "execution_count": 141
        }
      ]
    },
    {
      "cell_type": "markdown",
      "source": [
        "###Missing value imputation"
      ],
      "metadata": {
        "id": "U5pjX7pCTOCQ"
      },
      "id": "U5pjX7pCTOCQ"
    },
    {
      "cell_type": "code",
      "source": [
        "train_df['rating_count'] = train_df['rating_count'].fillna(0)\n",
        "train_df['average_rating'] = train_df['average_rating'].fillna(0)\n",
        "train_df['review_count'] = train_df['review_count'].fillna(0)\n",
        "test_df['rating_count'] = test_df['rating_count'].fillna(0)\n",
        "test_df['average_rating'] = test_df['average_rating'].fillna(0)\n",
        "test_df['review_count'] = test_df['review_count'].fillna(0)"
      ],
      "metadata": {
        "id": "43jfZ0WuSMM5"
      },
      "id": "43jfZ0WuSMM5",
      "execution_count": null,
      "outputs": []
    },
    {
      "cell_type": "markdown",
      "source": [
        "####Missing value immputation: query class\n",
        "For query_class we will be filling the missing values from query as we will see both query_class and query are very similar"
      ],
      "metadata": {
        "id": "qbu2ltNlaMd3"
      },
      "id": "qbu2ltNlaMd3"
    },
    {
      "cell_type": "code",
      "source": [
        "null_df_tn = train_df[train_df['query_class'].isnull()]\n",
        "null_df_ts = test_df[test_df['query_class'].isnull()]"
      ],
      "metadata": {
        "id": "xubLijl2aOur"
      },
      "id": "xubLijl2aOur",
      "execution_count": null,
      "outputs": []
    },
    {
      "cell_type": "code",
      "source": [
        "null_df_tn['query_class'] =null_df_tn['query'].copy()\n",
        "null_df_ts['query_class'] =null_df_ts['query'].copy()"
      ],
      "metadata": {
        "id": "tKE43hCNbQ6Q",
        "colab": {
          "base_uri": "https://localhost:8080/"
        },
        "outputId": "695a14a7-4937-4d7e-f1f7-06240b8e8bfb"
      },
      "id": "tKE43hCNbQ6Q",
      "execution_count": null,
      "outputs": [
        {
          "output_type": "stream",
          "name": "stderr",
          "text": [
            "/usr/local/lib/python3.7/dist-packages/ipykernel_launcher.py:1: SettingWithCopyWarning: \n",
            "A value is trying to be set on a copy of a slice from a DataFrame.\n",
            "Try using .loc[row_indexer,col_indexer] = value instead\n",
            "\n",
            "See the caveats in the documentation: https://pandas.pydata.org/pandas-docs/stable/user_guide/indexing.html#returning-a-view-versus-a-copy\n",
            "  \"\"\"Entry point for launching an IPython kernel.\n",
            "/usr/local/lib/python3.7/dist-packages/ipykernel_launcher.py:2: SettingWithCopyWarning: \n",
            "A value is trying to be set on a copy of a slice from a DataFrame.\n",
            "Try using .loc[row_indexer,col_indexer] = value instead\n",
            "\n",
            "See the caveats in the documentation: https://pandas.pydata.org/pandas-docs/stable/user_guide/indexing.html#returning-a-view-versus-a-copy\n",
            "  \n"
          ]
        }
      ]
    },
    {
      "cell_type": "code",
      "source": [
        "train_df['query_class'].loc[null_df_tn.index] = null_df_tn['query'].values\n",
        "test_df['query_class'].loc[null_df_ts.index] = null_df_ts['query'].values"
      ],
      "metadata": {
        "id": "FpelCTzvbTj_",
        "colab": {
          "base_uri": "https://localhost:8080/"
        },
        "outputId": "6da6deb3-6712-4f7c-b34d-1e8813c4eb4f"
      },
      "id": "FpelCTzvbTj_",
      "execution_count": null,
      "outputs": [
        {
          "output_type": "stream",
          "name": "stderr",
          "text": [
            "/usr/local/lib/python3.7/dist-packages/pandas/core/indexing.py:1732: SettingWithCopyWarning: \n",
            "A value is trying to be set on a copy of a slice from a DataFrame\n",
            "\n",
            "See the caveats in the documentation: https://pandas.pydata.org/pandas-docs/stable/user_guide/indexing.html#returning-a-view-versus-a-copy\n",
            "  self._setitem_single_block(indexer, value, name)\n"
          ]
        }
      ]
    },
    {
      "cell_type": "code",
      "source": [
        "for col in train_df.columns:\n",
        "  print('{} has {} null values'.format(col, train_df[col].isna().values.sum()))\n",
        "print(\"-------------------------\")\n",
        "for col in test_df.columns:\n",
        "  print('{} has {} null values'.format(col, test_df[col].isna().values.sum()))"
      ],
      "metadata": {
        "id": "3FG7gxWcbW1k",
        "colab": {
          "base_uri": "https://localhost:8080/"
        },
        "outputId": "0a057901-15c4-4b37-a11f-af1abdbc8f27"
      },
      "id": "3FG7gxWcbW1k",
      "execution_count": null,
      "outputs": [
        {
          "output_type": "stream",
          "name": "stdout",
          "text": [
            "id has 0 null values\n",
            "query_id has 0 null values\n",
            "product_id has 0 null values\n",
            "label has 0 null values\n",
            "query has 0 null values\n",
            "query_class has 0 null values\n",
            "product_name has 0 null values\n",
            "product_class has 13482 null values\n",
            "category hierarchy has 5246 null values\n",
            "product_description has 23110 null values\n",
            "product_features has 0 null values\n",
            "rating_count has 0 null values\n",
            "average_rating has 0 null values\n",
            "review_count has 0 null values\n",
            "-------------------------\n",
            "id has 0 null values\n",
            "query_id has 0 null values\n",
            "product_id has 0 null values\n",
            "label has 0 null values\n",
            "query has 0 null values\n",
            "query_class has 0 null values\n",
            "product_name has 0 null values\n",
            "product_class has 4481 null values\n",
            "category hierarchy has 1825 null values\n",
            "product_description has 7674 null values\n",
            "product_features has 0 null values\n",
            "rating_count has 0 null values\n",
            "average_rating has 0 null values\n",
            "review_count has 0 null values\n"
          ]
        }
      ]
    },
    {
      "cell_type": "markdown",
      "source": [
        "####Missing value immputation: product_class\n",
        "For product_class we will be filling the missing values from product_name as we will see both product_class and product_name are very similar"
      ],
      "metadata": {
        "id": "u6HX6dibpJJF"
      },
      "id": "u6HX6dibpJJF"
    },
    {
      "cell_type": "code",
      "source": [
        "null_df_tn = train_df[train_df['product_class'].isnull()]\n",
        "null_df_ts = test_df[test_df['product_class'].isnull()]"
      ],
      "metadata": {
        "id": "0D_APG5QpcdM"
      },
      "id": "0D_APG5QpcdM",
      "execution_count": null,
      "outputs": []
    },
    {
      "cell_type": "code",
      "source": [
        "null_df_tn['product_class'] = null_df_tn['product_name'].copy()\n",
        "null_df_ts['product_class'] = null_df_ts['product_name'].copy()"
      ],
      "metadata": {
        "colab": {
          "base_uri": "https://localhost:8080/"
        },
        "id": "fV9FLI1bprgS",
        "outputId": "cd552430-eb51-4f8a-d81c-07056a17297f"
      },
      "id": "fV9FLI1bprgS",
      "execution_count": null,
      "outputs": [
        {
          "output_type": "stream",
          "name": "stderr",
          "text": [
            "/usr/local/lib/python3.7/dist-packages/ipykernel_launcher.py:1: SettingWithCopyWarning: \n",
            "A value is trying to be set on a copy of a slice from a DataFrame.\n",
            "Try using .loc[row_indexer,col_indexer] = value instead\n",
            "\n",
            "See the caveats in the documentation: https://pandas.pydata.org/pandas-docs/stable/user_guide/indexing.html#returning-a-view-versus-a-copy\n",
            "  \"\"\"Entry point for launching an IPython kernel.\n",
            "/usr/local/lib/python3.7/dist-packages/ipykernel_launcher.py:2: SettingWithCopyWarning: \n",
            "A value is trying to be set on a copy of a slice from a DataFrame.\n",
            "Try using .loc[row_indexer,col_indexer] = value instead\n",
            "\n",
            "See the caveats in the documentation: https://pandas.pydata.org/pandas-docs/stable/user_guide/indexing.html#returning-a-view-versus-a-copy\n",
            "  \n"
          ]
        }
      ]
    },
    {
      "cell_type": "code",
      "source": [
        "train_df['product_class'].loc[null_df_tn.index] = null_df_tn['product_name'].values\n",
        "test_df['product_class'].loc[null_df_ts.index] = null_df_ts['product_name'].values"
      ],
      "metadata": {
        "colab": {
          "base_uri": "https://localhost:8080/"
        },
        "id": "NcB_ELadp2Za",
        "outputId": "380a8f40-390f-4922-c833-c52a34a37556"
      },
      "id": "NcB_ELadp2Za",
      "execution_count": null,
      "outputs": [
        {
          "output_type": "stream",
          "name": "stderr",
          "text": [
            "/usr/local/lib/python3.7/dist-packages/pandas/core/indexing.py:1732: SettingWithCopyWarning: \n",
            "A value is trying to be set on a copy of a slice from a DataFrame\n",
            "\n",
            "See the caveats in the documentation: https://pandas.pydata.org/pandas-docs/stable/user_guide/indexing.html#returning-a-view-versus-a-copy\n",
            "  self._setitem_single_block(indexer, value, name)\n"
          ]
        }
      ]
    },
    {
      "cell_type": "code",
      "source": [
        "for col in train_df.columns:\n",
        "  print('{} has {} null values'.format(col, train_df[col].isna().values.sum()))\n",
        "print(\"--------------------------\")\n",
        "for col in test_df.columns:\n",
        "  print('{} has {} null values'.format(col, test_df[col].isna().values.sum()))"
      ],
      "metadata": {
        "colab": {
          "base_uri": "https://localhost:8080/"
        },
        "id": "O3d_7x46p2lC",
        "outputId": "aaaafe88-20fa-4e46-a3ad-b25bbac650df"
      },
      "id": "O3d_7x46p2lC",
      "execution_count": null,
      "outputs": [
        {
          "output_type": "stream",
          "name": "stdout",
          "text": [
            "id has 0 null values\n",
            "query_id has 0 null values\n",
            "product_id has 0 null values\n",
            "label has 0 null values\n",
            "query has 0 null values\n",
            "query_class has 0 null values\n",
            "product_name has 0 null values\n",
            "product_class has 0 null values\n",
            "category hierarchy has 5246 null values\n",
            "product_description has 23110 null values\n",
            "product_features has 0 null values\n",
            "rating_count has 0 null values\n",
            "average_rating has 0 null values\n",
            "review_count has 0 null values\n",
            "--------------------------\n",
            "id has 0 null values\n",
            "query_id has 0 null values\n",
            "product_id has 0 null values\n",
            "label has 0 null values\n",
            "query has 0 null values\n",
            "query_class has 0 null values\n",
            "product_name has 0 null values\n",
            "product_class has 0 null values\n",
            "category hierarchy has 1825 null values\n",
            "product_description has 7674 null values\n",
            "product_features has 0 null values\n",
            "rating_count has 0 null values\n",
            "average_rating has 0 null values\n",
            "review_count has 0 null values\n"
          ]
        }
      ]
    },
    {
      "cell_type": "markdown",
      "source": [
        "####Missing value immputation: categorical hierarchy\n",
        "Check if category hierarchy is available for any product that belongs to same class. If yes, we will replace with those values"
      ],
      "metadata": {
        "id": "Q9MXcZxnrdUC"
      },
      "id": "Q9MXcZxnrdUC"
    },
    {
      "cell_type": "code",
      "source": [
        "unique_products_tn = np.unique(train_df['product_class'].dropna().values)\n",
        "print('Number of unique product classes in train ', len(unique_products_tn))\n",
        "\n",
        "unique_products_ts = np.unique(test_df['product_class'].dropna().values)\n",
        "print('Number of unique product classes in test ', len(unique_products_ts))"
      ],
      "metadata": {
        "colab": {
          "base_uri": "https://localhost:8080/"
        },
        "id": "EH6tMQ_osUiy",
        "outputId": "5da50ff6-e82a-49ac-d549-44fdfe1fadbb"
      },
      "id": "EH6tMQ_osUiy",
      "execution_count": null,
      "outputs": [
        {
          "output_type": "stream",
          "name": "stdout",
          "text": [
            "Number of unique product classes in train  3585\n",
            "Number of unique product classes in test  2675\n"
          ]
        }
      ]
    },
    {
      "cell_type": "code",
      "source": [
        "null_df_tn = train_df[train_df['category hierarchy'].isnull()]\n",
        "notnull_df_tn = train_df.dropna()\n"
      ],
      "metadata": {
        "id": "UAH_zgGvro1Y"
      },
      "id": "UAH_zgGvro1Y",
      "execution_count": null,
      "outputs": []
    },
    {
      "cell_type": "code",
      "source": [
        "set1 = set(null_df_tn['product_class'].values)\n",
        "set2 = set(notnull_df_tn['product_class'].values)\n",
        "\n",
        "venn2([set1, set2], ('category hierarchy_null_df', 'category hierarchy_notnull_df'))\n",
        "plt.title('distribution of products in category hierarchy null and notnull dataset :Train')\n",
        "plt.show()"
      ],
      "metadata": {
        "colab": {
          "base_uri": "https://localhost:8080/",
          "height": 266
        },
        "id": "VStd9NMHtCpT",
        "outputId": "49ea439c-ccb7-4abc-8c7b-00f24e9a2555"
      },
      "id": "VStd9NMHtCpT",
      "execution_count": null,
      "outputs": [
        {
          "output_type": "display_data",
          "data": {
            "text/plain": [
              "<Figure size 432x288 with 1 Axes>"
            ],
            "image/png": "[encoded data removed]"
          },
          "metadata": {}
        }
      ]
    },
    {
      "cell_type": "code",
      "source": [
        "null_df_ts = test_df[test_df['category hierarchy'].isnull()]\n",
        "notnull_df_ts = test_df.dropna()"
      ],
      "metadata": {
        "id": "-MPhXAsgXD8O"
      },
      "id": "-MPhXAsgXD8O",
      "execution_count": null,
      "outputs": []
    },
    {
      "cell_type": "code",
      "source": [
        "set1 = set(null_df_ts['product_class'].values)\n",
        "set2 = set(notnull_df_ts['product_class'].values)\n",
        "\n",
        "venn2([set1, set2], ('category hierarchy_null_df', 'category hierarchy_notnull_df'))\n",
        "plt.title('distribution of products in category hierarchy null and notnull dataset :Test')\n",
        "plt.show()"
      ],
      "metadata": {
        "colab": {
          "base_uri": "https://localhost:8080/",
          "height": 266
        },
        "id": "MTb58PqzW0pO",
        "outputId": "8ff35007-2099-4d14-a713-e34111fcb774"
      },
      "id": "MTb58PqzW0pO",
      "execution_count": null,
      "outputs": [
        {
          "output_type": "display_data",
          "data": {
            "text/plain": [
              "<Figure size 432x288 with 1 Axes>"
            ],
            "image/png": "[encoded data removed]"
          },
          "metadata": {}
        }
      ]
    },
    {
      "cell_type": "markdown",
      "source": [
        "There are some unique product classes that are present in both data sets where category hierarchy value is null and not null. So, we can use this to replace null values in category hierarchy column"
      ],
      "metadata": {
        "id": "cdcc3KtvtqDb"
      },
      "id": "cdcc3KtvtqDb"
    },
    {
      "cell_type": "code",
      "source": [
        "category_dict_tn = dict(zip(notnull_df_tn['product_class'], notnull_df_tn['category hierarchy']))\n",
        "category_dict_ts = dict(zip(notnull_df_ts['product_class'], notnull_df_ts['category hierarchy']))"
      ],
      "metadata": {
        "id": "EQFkn4YcumJq"
      },
      "id": "EQFkn4YcumJq",
      "execution_count": null,
      "outputs": []
    },
    {
      "cell_type": "code",
      "source": [
        "null_df_tn['category hierarchy']=null_df_tn['product_class'].map(category_dict_tn)\n",
        "null_df_ts['category hierarchy']=null_df_ts['product_class'].map(category_dict_ts)"
      ],
      "metadata": {
        "colab": {
          "base_uri": "https://localhost:8080/"
        },
        "id": "QRFs6cezsEp7",
        "outputId": "9bcbd01a-36f8-4673-8e1b-a8d7ff09a855"
      },
      "id": "QRFs6cezsEp7",
      "execution_count": null,
      "outputs": [
        {
          "output_type": "stream",
          "name": "stderr",
          "text": [
            "/usr/local/lib/python3.7/dist-packages/ipykernel_launcher.py:1: SettingWithCopyWarning: \n",
            "A value is trying to be set on a copy of a slice from a DataFrame.\n",
            "Try using .loc[row_indexer,col_indexer] = value instead\n",
            "\n",
            "See the caveats in the documentation: https://pandas.pydata.org/pandas-docs/stable/user_guide/indexing.html#returning-a-view-versus-a-copy\n",
            "  \"\"\"Entry point for launching an IPython kernel.\n",
            "/usr/local/lib/python3.7/dist-packages/ipykernel_launcher.py:2: SettingWithCopyWarning: \n",
            "A value is trying to be set on a copy of a slice from a DataFrame.\n",
            "Try using .loc[row_indexer,col_indexer] = value instead\n",
            "\n",
            "See the caveats in the documentation: https://pandas.pydata.org/pandas-docs/stable/user_guide/indexing.html#returning-a-view-versus-a-copy\n",
            "  \n"
          ]
        }
      ]
    },
    {
      "cell_type": "code",
      "source": [
        "train_df['category hierarchy'].loc[null_df_tn.index] = null_df_tn['category hierarchy'].values\n",
        "test_df['category hierarchy'].loc[null_df_ts.index] = null_df_ts['category hierarchy'].values"
      ],
      "metadata": {
        "colab": {
          "base_uri": "https://localhost:8080/"
        },
        "id": "1R2D3A7gxf7N",
        "outputId": "bb76e10b-dbe1-494b-edd8-b1a7574ce1a3"
      },
      "id": "1R2D3A7gxf7N",
      "execution_count": null,
      "outputs": [
        {
          "output_type": "stream",
          "name": "stderr",
          "text": [
            "/usr/local/lib/python3.7/dist-packages/pandas/core/indexing.py:1732: SettingWithCopyWarning: \n",
            "A value is trying to be set on a copy of a slice from a DataFrame\n",
            "\n",
            "See the caveats in the documentation: https://pandas.pydata.org/pandas-docs/stable/user_guide/indexing.html#returning-a-view-versus-a-copy\n",
            "  self._setitem_single_block(indexer, value, name)\n"
          ]
        }
      ]
    },
    {
      "cell_type": "code",
      "source": [
        "for col in train_df.columns:\n",
        "  print('{} has {} null values'.format(col, train_df[col].isna().values.sum()))\n",
        "for col in test_df.columns:\n",
        "  print('{} has {} null values'.format(col, test_df[col].isna().values.sum()))"
      ],
      "metadata": {
        "colab": {
          "base_uri": "https://localhost:8080/"
        },
        "id": "j4tI6Aqkxu1a",
        "outputId": "c6a49445-29bc-4744-a215-5f8c040591f3"
      },
      "id": "j4tI6Aqkxu1a",
      "execution_count": null,
      "outputs": [
        {
          "output_type": "stream",
          "name": "stdout",
          "text": [
            "id has 0 null values\n",
            "query_id has 0 null values\n",
            "product_id has 0 null values\n",
            "label has 0 null values\n",
            "query has 0 null values\n",
            "query_class has 0 null values\n",
            "product_name has 0 null values\n",
            "product_class has 0 null values\n",
            "category hierarchy has 533 null values\n",
            "product_description has 23110 null values\n",
            "product_features has 0 null values\n",
            "rating_count has 0 null values\n",
            "average_rating has 0 null values\n",
            "review_count has 0 null values\n",
            "id has 0 null values\n",
            "query_id has 0 null values\n",
            "product_id has 0 null values\n",
            "label has 0 null values\n",
            "query has 0 null values\n",
            "query_class has 0 null values\n",
            "product_name has 0 null values\n",
            "product_class has 0 null values\n",
            "category hierarchy has 193 null values\n",
            "product_description has 7674 null values\n",
            "product_features has 0 null values\n",
            "rating_count has 0 null values\n",
            "average_rating has 0 null values\n",
            "review_count has 0 null values\n"
          ]
        }
      ]
    },
    {
      "cell_type": "markdown",
      "source": [
        "Now we can see our category hierarchy null values went down from 5246 to 533.\n",
        "Remaining null values we will replace with product class itself."
      ],
      "metadata": {
        "id": "uOipOlK2xyUK"
      },
      "id": "uOipOlK2xyUK"
    },
    {
      "cell_type": "code",
      "source": [
        "null_df_tn = train_df[train_df['category hierarchy'].isnull()]\n",
        "null_df_ts = test_df[test_df['category hierarchy'].isnull()]"
      ],
      "metadata": {
        "id": "7O_FEhblx7No"
      },
      "id": "7O_FEhblx7No",
      "execution_count": null,
      "outputs": []
    },
    {
      "cell_type": "code",
      "source": [
        "null_df_tn['category hierarchy'] = null_df_tn['product_class'].copy()\n",
        "null_df_ts['category hierarchy'] = null_df_ts['product_class'].copy()"
      ],
      "metadata": {
        "colab": {
          "base_uri": "https://localhost:8080/"
        },
        "id": "b-CJZC6_y1as",
        "outputId": "f3732c52-b898-4d15-ca6e-6336decae6fd"
      },
      "id": "b-CJZC6_y1as",
      "execution_count": null,
      "outputs": [
        {
          "output_type": "stream",
          "name": "stderr",
          "text": [
            "/usr/local/lib/python3.7/dist-packages/ipykernel_launcher.py:1: SettingWithCopyWarning: \n",
            "A value is trying to be set on a copy of a slice from a DataFrame.\n",
            "Try using .loc[row_indexer,col_indexer] = value instead\n",
            "\n",
            "See the caveats in the documentation: https://pandas.pydata.org/pandas-docs/stable/user_guide/indexing.html#returning-a-view-versus-a-copy\n",
            "  \"\"\"Entry point for launching an IPython kernel.\n",
            "/usr/local/lib/python3.7/dist-packages/ipykernel_launcher.py:2: SettingWithCopyWarning: \n",
            "A value is trying to be set on a copy of a slice from a DataFrame.\n",
            "Try using .loc[row_indexer,col_indexer] = value instead\n",
            "\n",
            "See the caveats in the documentation: https://pandas.pydata.org/pandas-docs/stable/user_guide/indexing.html#returning-a-view-versus-a-copy\n",
            "  \n"
          ]
        }
      ]
    },
    {
      "cell_type": "code",
      "source": [
        "train_df['category hierarchy'].loc[null_df_tn.index] = null_df_tn['category hierarchy'].values\n",
        "test_df['category hierarchy'].loc[null_df_ts.index] = null_df_ts['category hierarchy'].values"
      ],
      "metadata": {
        "colab": {
          "base_uri": "https://localhost:8080/"
        },
        "id": "md_97T36zBkl",
        "outputId": "87d25d17-5c6b-4138-d709-73b1db524164"
      },
      "id": "md_97T36zBkl",
      "execution_count": null,
      "outputs": [
        {
          "output_type": "stream",
          "name": "stderr",
          "text": [
            "/usr/local/lib/python3.7/dist-packages/pandas/core/indexing.py:1732: SettingWithCopyWarning: \n",
            "A value is trying to be set on a copy of a slice from a DataFrame\n",
            "\n",
            "See the caveats in the documentation: https://pandas.pydata.org/pandas-docs/stable/user_guide/indexing.html#returning-a-view-versus-a-copy\n",
            "  self._setitem_single_block(indexer, value, name)\n"
          ]
        }
      ]
    },
    {
      "cell_type": "code",
      "source": [
        "for col in train_df.columns:\n",
        "  print('{} has {} null values'.format(col, train_df[col].isna().values.sum()))"
      ],
      "metadata": {
        "colab": {
          "base_uri": "https://localhost:8080/"
        },
        "id": "yRVFPmIwzE4y",
        "outputId": "d1e9ce84-324a-40aa-cad9-96841206d084"
      },
      "id": "yRVFPmIwzE4y",
      "execution_count": null,
      "outputs": [
        {
          "output_type": "stream",
          "name": "stdout",
          "text": [
            "id has 0 null values\n",
            "query_id has 0 null values\n",
            "product_id has 0 null values\n",
            "label has 0 null values\n",
            "query has 0 null values\n",
            "query_class has 0 null values\n",
            "product_name has 0 null values\n",
            "product_class has 0 null values\n",
            "category hierarchy has 0 null values\n",
            "product_description has 23110 null values\n",
            "product_features has 0 null values\n",
            "rating_count has 0 null values\n",
            "average_rating has 0 null values\n",
            "review_count has 0 null values\n"
          ]
        }
      ]
    },
    {
      "cell_type": "code",
      "source": [
        "for col in test_df.columns:\n",
        "  print('{} has {} null values'.format(col, test_df[col].isna().values.sum()))"
      ],
      "metadata": {
        "colab": {
          "base_uri": "https://localhost:8080/"
        },
        "id": "ubU_pseLZceQ",
        "outputId": "e98d18af-e3e8-4543-95c3-50001050b6e4"
      },
      "id": "ubU_pseLZceQ",
      "execution_count": null,
      "outputs": [
        {
          "output_type": "stream",
          "name": "stdout",
          "text": [
            "id has 0 null values\n",
            "query_id has 0 null values\n",
            "product_id has 0 null values\n",
            "label has 0 null values\n",
            "query has 0 null values\n",
            "query_class has 0 null values\n",
            "product_name has 0 null values\n",
            "product_class has 0 null values\n",
            "category hierarchy has 0 null values\n",
            "product_description has 7674 null values\n",
            "product_features has 0 null values\n",
            "rating_count has 0 null values\n",
            "average_rating has 0 null values\n",
            "review_count has 0 null values\n"
          ]
        }
      ]
    },
    {
      "cell_type": "markdown",
      "source": [
        "####Missing value immputation: product_description\n",
        "For product_description we will be filling the missing values from product_features as we will see both product_description and product_features are similar"
      ],
      "metadata": {
        "id": "LxexL36o0l1l"
      },
      "id": "LxexL36o0l1l"
    },
    {
      "cell_type": "code",
      "source": [
        "null_df_tn = train_df[train_df['product_description'].isnull()]\n",
        "null_df_ts = test_df[test_df['product_description'].isnull()]"
      ],
      "metadata": {
        "id": "U-aBABA71KD4"
      },
      "id": "U-aBABA71KD4",
      "execution_count": null,
      "outputs": []
    },
    {
      "cell_type": "code",
      "source": [
        "null_df_tn[' product_description'] = null_df_tn['product_features'].copy()\n",
        "null_df_ts[' product_description'] = null_df_ts['product_features'].copy()"
      ],
      "metadata": {
        "colab": {
          "base_uri": "https://localhost:8080/"
        },
        "id": "rhz81M5O1afq",
        "outputId": "4abea9a2-1b6d-4bd6-8fad-88be65954fe2"
      },
      "id": "rhz81M5O1afq",
      "execution_count": null,
      "outputs": [
        {
          "output_type": "stream",
          "name": "stderr",
          "text": [
            "/usr/local/lib/python3.7/dist-packages/ipykernel_launcher.py:1: SettingWithCopyWarning: \n",
            "A value is trying to be set on a copy of a slice from a DataFrame.\n",
            "Try using .loc[row_indexer,col_indexer] = value instead\n",
            "\n",
            "See the caveats in the documentation: https://pandas.pydata.org/pandas-docs/stable/user_guide/indexing.html#returning-a-view-versus-a-copy\n",
            "  \"\"\"Entry point for launching an IPython kernel.\n",
            "/usr/local/lib/python3.7/dist-packages/ipykernel_launcher.py:2: SettingWithCopyWarning: \n",
            "A value is trying to be set on a copy of a slice from a DataFrame.\n",
            "Try using .loc[row_indexer,col_indexer] = value instead\n",
            "\n",
            "See the caveats in the documentation: https://pandas.pydata.org/pandas-docs/stable/user_guide/indexing.html#returning-a-view-versus-a-copy\n",
            "  \n"
          ]
        }
      ]
    },
    {
      "cell_type": "code",
      "source": [
        "train_df['product_description'].loc[null_df_tn.index] = null_df_tn['product_features'].values\n",
        "test_df['product_description'].loc[null_df_ts.index] = null_df_ts['product_features'].values"
      ],
      "metadata": {
        "colab": {
          "base_uri": "https://localhost:8080/"
        },
        "id": "u-Hkyo9L1eVU",
        "outputId": "3381f471-bafe-474a-8eda-6ad3d9a54708"
      },
      "id": "u-Hkyo9L1eVU",
      "execution_count": null,
      "outputs": [
        {
          "output_type": "stream",
          "name": "stderr",
          "text": [
            "/usr/local/lib/python3.7/dist-packages/pandas/core/indexing.py:1732: SettingWithCopyWarning: \n",
            "A value is trying to be set on a copy of a slice from a DataFrame\n",
            "\n",
            "See the caveats in the documentation: https://pandas.pydata.org/pandas-docs/stable/user_guide/indexing.html#returning-a-view-versus-a-copy\n",
            "  self._setitem_single_block(indexer, value, name)\n"
          ]
        }
      ]
    },
    {
      "cell_type": "code",
      "source": [
        "for col in train_df.columns:\n",
        "  print('{} has {} null values'.format(col, train_df[col].isna().values.sum()))"
      ],
      "metadata": {
        "colab": {
          "base_uri": "https://localhost:8080/"
        },
        "id": "utoQD0m91gvN",
        "outputId": "52420697-1f22-400a-ef56-3067a8d642d9"
      },
      "id": "utoQD0m91gvN",
      "execution_count": null,
      "outputs": [
        {
          "output_type": "stream",
          "name": "stdout",
          "text": [
            "id has 0 null values\n",
            "query_id has 0 null values\n",
            "product_id has 0 null values\n",
            "label has 0 null values\n",
            "query has 0 null values\n",
            "query_class has 0 null values\n",
            "product_name has 0 null values\n",
            "product_class has 0 null values\n",
            "category hierarchy has 0 null values\n",
            "product_description has 0 null values\n",
            "product_features has 0 null values\n",
            "rating_count has 0 null values\n",
            "average_rating has 0 null values\n",
            "review_count has 0 null values\n"
          ]
        }
      ]
    },
    {
      "cell_type": "code",
      "source": [
        "for col in test_df.columns:\n",
        "  print('{} has {} null values'.format(col, test_df[col].isna().values.sum()))"
      ],
      "metadata": {
        "colab": {
          "base_uri": "https://localhost:8080/"
        },
        "id": "X4f5hlhIZ8CJ",
        "outputId": "d0115d26-de74-4ff1-f8d6-6cffd9bfc452"
      },
      "id": "X4f5hlhIZ8CJ",
      "execution_count": null,
      "outputs": [
        {
          "output_type": "stream",
          "name": "stdout",
          "text": [
            "id has 0 null values\n",
            "query_id has 0 null values\n",
            "product_id has 0 null values\n",
            "label has 0 null values\n",
            "query has 0 null values\n",
            "query_class has 0 null values\n",
            "product_name has 0 null values\n",
            "product_class has 0 null values\n",
            "category hierarchy has 0 null values\n",
            "product_description has 0 null values\n",
            "product_features has 0 null values\n",
            "rating_count has 0 null values\n",
            "average_rating has 0 null values\n",
            "review_count has 0 null values\n"
          ]
        }
      ]
    },
    {
      "cell_type": "markdown",
      "source": [
        "\n",
        "####Comparing product_description and product_features"
      ],
      "metadata": {
        "id": "wWEEBWuA17rC"
      },
      "id": "wWEEBWuA17rC"
    },
    {
      "cell_type": "code",
      "source": [
        "\n",
        "\n",
        "train_df['product_description'][40] \n",
        "\n"
      ],
      "metadata": {
        "colab": {
          "base_uri": "https://localhost:8080/",
          "height": 91
        },
        "id": "XaAw5Xv019LX",
        "outputId": "e2f4317e-f58a-4397-d63d-717f360ed00e"
      },
      "id": "XaAw5Xv019LX",
      "execution_count": null,
      "outputs": [
        {
          "output_type": "execute_result",
          "data": {
            "text/plain": [
              "'reinvent your bedroom with the modern elegance of the netti bed . this chic bed is upholstered in an elegant linen-like fabric that provides ample comfort for you to lean against as you read or watch tv . biscuit tufting and black feet lend a clean , contemporary look . stylish and practical , the netti is fitted with two drawers at the footboard with space to store clothes , sheets , and more . the netti bed is made in malaysia and requires assembly .'"
            ],
            "application/vnd.google.colaboratory.intrinsic+json": {
              "type": "string"
            }
          },
          "metadata": {},
          "execution_count": 172
        }
      ]
    },
    {
      "cell_type": "code",
      "source": [
        "train_df['product_features'][40] "
      ],
      "metadata": {
        "colab": {
          "base_uri": "https://localhost:8080/",
          "height": 73
        },
        "id": "iQksX6yl2Kh6",
        "outputId": "1988adef-18c6-4401-9ab2-fb1a0b088402"
      },
      "id": "iQksX6yl2Kh6",
      "execution_count": null,
      "outputs": [
        {
          "output_type": "execute_result",
          "data": {
            "text/plain": [
              "'2.36 residential use other 24.41 138.45 600 30 days 2.76 limited 38.43 modern non residential use rectangular charcoal gray polyester fully upholstered gray full assembly needed 46.26 30.55 panel 100 % polyester no distressing no natural variation 5.31 84.65 platform no rubberwood , mdf 14 drawers transitional modern beige yes linen-like polyester 18.5 solid + manufactured wood 64.38 10 mdf 98.11 malaysia 80.12 80.13'"
            ],
            "application/vnd.google.colaboratory.intrinsic+json": {
              "type": "string"
            }
          },
          "metadata": {},
          "execution_count": 173
        }
      ]
    },
    {
      "cell_type": "code",
      "source": [
        "temp_d= train_df[['product_features','product_description']]\n",
        "len_desc = temp_d['product_description'].apply(lambda x : len(x.split()))\n",
        "len_feature = temp_d['product_features'].apply(lambda x : len(x.split()))\n",
        "\n",
        "plt.figure(figsize=(15,5))\n",
        "plt.plot(np.sort(len_desc.values),label=\"description\")\n",
        "plt.plot(np.sort(len_feature.values),label=\"features\")\n",
        "plt.title('distribution of lengths')\n",
        "plt.legend()\n",
        "plt.show()"
      ],
      "metadata": {
        "colab": {
          "base_uri": "https://localhost:8080/",
          "height": 336
        },
        "id": "vx0505d7DpbN",
        "outputId": "864cb6ef-5ce8-4bda-b75a-0ed066785890"
      },
      "id": "vx0505d7DpbN",
      "execution_count": null,
      "outputs": [
        {
          "output_type": "display_data",
          "data": {
            "text/plain": [
              "<Figure size 1080x360 with 1 Axes>"
            ],
            "image/png": "[encoded data removed]"
          },
          "metadata": {
            "needs_background": "light"
          }
        }
      ]
    },
    {
      "cell_type": "code",
      "source": [
        "train_df.to_csv(path+r'train_df.csv',index=False)\n",
        "test_df.to_csv(path+r'test_df.csv',index=False)"
      ],
      "metadata": {
        "id": "FX_H1-_faGzr"
      },
      "id": "FX_H1-_faGzr",
      "execution_count": null,
      "outputs": []
    },
    {
      "cell_type": "markdown",
      "source": [
        "On close inspection we see that product description and  product features are very similar texts. We will explore them more after data cleaning."
      ],
      "metadata": {
        "id": "SC2xHAykEVvs"
      },
      "id": "SC2xHAykEVvs"
    },
    {
      "cell_type": "markdown",
      "source": [
        "## Cleaning of text data"
      ],
      "metadata": {
        "id": "qT7BWBGvEfWU"
      },
      "id": "qT7BWBGvEfWU"
    },
    {
      "cell_type": "code",
      "source": [
        "train_df.head()\n"
      ],
      "metadata": {
        "colab": {
          "base_uri": "https://localhost:8080/",
          "height": 635
        },
        "id": "lzd5mx3IEa2j",
        "outputId": "31b3082a-581c-4386-d8c2-047c75dd21a7"
      },
      "id": "lzd5mx3IEa2j",
      "execution_count": null,
      "outputs": [
        {
          "output_type": "execute_result",
          "data": {
            "text/plain": [
              "       id  query_id  product_id       label  \\\n",
              "0  231568       131       29684  Irrelevant   \n",
              "1  200197       476       18616       Exact   \n",
              "2  164626       413        9365     Partial   \n",
              "3  178669       427       12848     Partial   \n",
              "4   20622       140       16271     Partial   \n",
              "\n",
              "                                   query                      query_class  \\\n",
              "0                             kids chair                      Kids Chairs   \n",
              "1                          hardwood beds                             Beds   \n",
              "2  burruss patio sectional with cushions        Outdoor Conversation Sets   \n",
              "3                             lowes tile                Floor & Wall Tile   \n",
              "4              wire basket with dividers  Boxes, Bins, Baskets, & Buckets   \n",
              "\n",
              "                                        product_name  \\\n",
              "0                 garrett rocking chair with cushion   \n",
              "1                           atalee king standard bed   \n",
              "2                 washtenaw patio sofa with cushions   \n",
              "3  penny 1 '' x 1 '' porcelain mosaic wall & floo...   \n",
              "4      galvanized divided organizer metal/wire crate   \n",
              "\n",
              "                     product_class  \\\n",
              "0          Patio Rockers & Gliders   \n",
              "1                             Beds   \n",
              "2                      Patio Sofas   \n",
              "3                Floor & Wall Tile   \n",
              "4  Boxes, Bins, Baskets, & Buckets   \n",
              "\n",
              "                                  category hierarchy  \\\n",
              "0  Outdoor / Outdoor & Patio Furniture / Outdoor ...   \n",
              "1  Furniture / Bedroom Furniture / Beds & Headboa...   \n",
              "2  Outdoor / Outdoor & Patio Furniture / Outdoor ...   \n",
              "3  Home Improvement / Flooring, Walls & Ceiling /...   \n",
              "4  Storage & Organization / Storage Containers & ...   \n",
              "\n",
              "                                 product_description  \\\n",
              "0  relax with this 2 pieces folding rocking chair...   \n",
              "1  the atalee bed provides a commanding presence ...   \n",
              "2  this patio sofa with cushions has room for thr...   \n",
              "3  our penny 1 '' x 1 '' porcelain mosaic wall & ...   \n",
              "4  the galvanized divided organizer metal/wire cr...   \n",
              "\n",
              "                                    product_features  rating_count  \\\n",
              "0  navy blue , gray powder-coated steel 35.5 resi...         192.0   \n",
              "1  residential use other 117 king none 52 200 mod...           0.0   \n",
              "2  resin wicker patio sofa 6.5 traditional 38 850...           0.0   \n",
              "3  impervious heat resistant fire resistant resid...          52.0   \n",
              "4  galvanized metal/wire silver rectangle 1 no in...         119.0   \n",
              "\n",
              "   average_rating  review_count  \n",
              "0             4.5         152.0  \n",
              "1             0.0           0.0  \n",
              "2             0.0           0.0  \n",
              "3             5.0          39.0  \n",
              "4             5.0          75.0  "
            ],
            "text/html": [
              "\n",
              "  <div id=\"df-4a213298-5f4f-4403-b96b-c3fccd41f76b\">\n",
              "    <div class=\"colab-df-container\">\n",
              "      <div>\n",
              "<style scoped>\n",
              "    .dataframe tbody tr th:only-of-type {\n",
              "        vertical-align: middle;\n",
              "    }\n",
              "\n",
              "    .dataframe tbody tr th {\n",
              "        vertical-align: top;\n",
              "    }\n",
              "\n",
              "    .dataframe thead th {\n",
              "        text-align: right;\n",
              "    }\n",
              "</style>\n",
              "<table border=\"1\" class=\"dataframe\">\n",
              "  <thead>\n",
              "    <tr style=\"text-align: right;\">\n",
              "      <th></th>\n",
              "      <th>id</th>\n",
              "      <th>query_id</th>\n",
              "      <th>product_id</th>\n",
              "      <th>label</th>\n",
              "      <th>query</th>\n",
              "      <th>query_class</th>\n",
              "      <th>product_name</th>\n",
              "      <th>product_class</th>\n",
              "      <th>category hierarchy</th>\n",
              "      <th>product_description</th>\n",
              "      <th>product_features</th>\n",
              "      <th>rating_count</th>\n",
              "      <th>average_rating</th>\n",
              "      <th>review_count</th>\n",
              "    </tr>\n",
              "  </thead>\n",
              "  <tbody>\n",
              "    <tr>\n",
              "      <th>0</th>\n",
              "      <td>231568</td>\n",
              "      <td>131</td>\n",
              "      <td>29684</td>\n",
              "      <td>Irrelevant</td>\n",
              "      <td>kids chair</td>\n",
              "      <td>Kids Chairs</td>\n",
              "      <td>garrett rocking chair with cushion</td>\n",
              "      <td>Patio Rockers &amp; Gliders</td>\n",
              "      <td>Outdoor / Outdoor &amp; Patio Furniture / Outdoor ...</td>\n",
              "      <td>relax with this 2 pieces folding rocking chair...</td>\n",
              "      <td>navy blue , gray powder-coated steel 35.5 resi...</td>\n",
              "      <td>192.0</td>\n",
              "      <td>4.5</td>\n",
              "      <td>152.0</td>\n",
              "    </tr>\n",
              "    <tr>\n",
              "      <th>1</th>\n",
              "      <td>200197</td>\n",
              "      <td>476</td>\n",
              "      <td>18616</td>\n",
              "      <td>Exact</td>\n",
              "      <td>hardwood beds</td>\n",
              "      <td>Beds</td>\n",
              "      <td>atalee king standard bed</td>\n",
              "      <td>Beds</td>\n",
              "      <td>Furniture / Bedroom Furniture / Beds &amp; Headboa...</td>\n",
              "      <td>the atalee bed provides a commanding presence ...</td>\n",
              "      <td>residential use other 117 king none 52 200 mod...</td>\n",
              "      <td>0.0</td>\n",
              "      <td>0.0</td>\n",
              "      <td>0.0</td>\n",
              "    </tr>\n",
              "    <tr>\n",
              "      <th>2</th>\n",
              "      <td>164626</td>\n",
              "      <td>413</td>\n",
              "      <td>9365</td>\n",
              "      <td>Partial</td>\n",
              "      <td>burruss patio sectional with cushions</td>\n",
              "      <td>Outdoor Conversation Sets</td>\n",
              "      <td>washtenaw patio sofa with cushions</td>\n",
              "      <td>Patio Sofas</td>\n",
              "      <td>Outdoor / Outdoor &amp; Patio Furniture / Outdoor ...</td>\n",
              "      <td>this patio sofa with cushions has room for thr...</td>\n",
              "      <td>resin wicker patio sofa 6.5 traditional 38 850...</td>\n",
              "      <td>0.0</td>\n",
              "      <td>0.0</td>\n",
              "      <td>0.0</td>\n",
              "    </tr>\n",
              "    <tr>\n",
              "      <th>3</th>\n",
              "      <td>178669</td>\n",
              "      <td>427</td>\n",
              "      <td>12848</td>\n",
              "      <td>Partial</td>\n",
              "      <td>lowes tile</td>\n",
              "      <td>Floor &amp; Wall Tile</td>\n",
              "      <td>penny 1 '' x 1 '' porcelain mosaic wall &amp; floo...</td>\n",
              "      <td>Floor &amp; Wall Tile</td>\n",
              "      <td>Home Improvement / Flooring, Walls &amp; Ceiling /...</td>\n",
              "      <td>our penny 1 '' x 1 '' porcelain mosaic wall &amp; ...</td>\n",
              "      <td>impervious heat resistant fire resistant resid...</td>\n",
              "      <td>52.0</td>\n",
              "      <td>5.0</td>\n",
              "      <td>39.0</td>\n",
              "    </tr>\n",
              "    <tr>\n",
              "      <th>4</th>\n",
              "      <td>20622</td>\n",
              "      <td>140</td>\n",
              "      <td>16271</td>\n",
              "      <td>Partial</td>\n",
              "      <td>wire basket with dividers</td>\n",
              "      <td>Boxes, Bins, Baskets, &amp; Buckets</td>\n",
              "      <td>galvanized divided organizer metal/wire crate</td>\n",
              "      <td>Boxes, Bins, Baskets, &amp; Buckets</td>\n",
              "      <td>Storage &amp; Organization / Storage Containers &amp; ...</td>\n",
              "      <td>the galvanized divided organizer metal/wire cr...</td>\n",
              "      <td>galvanized metal/wire silver rectangle 1 no in...</td>\n",
              "      <td>119.0</td>\n",
              "      <td>5.0</td>\n",
              "      <td>75.0</td>\n",
              "    </tr>\n",
              "  </tbody>\n",
              "</table>\n",
              "</div>\n",
              "      <button class=\"colab-df-convert\" onclick=\"convertToInteractive('df-4a213298-5f4f-4403-b96b-c3fccd41f76b')\"\n",
              "              title=\"Convert this dataframe to an interactive table.\"\n",
              "              style=\"display:none;\">\n",
              "        \n",
              "  <svg xmlns=\"http://www.w3.org/2000/svg\" height=\"24px\"viewBox=\"0 0 24 24\"\n",
              "       width=\"24px\">\n",
              "    <path d=\"M0 0h24v24H0V0z\" fill=\"none\"/>\n",
              "    <path d=\"M18.56 5.44l.94 2.06.94-2.06 2.06-.94-2.06-.94-.94-2.06-.94 2.06-2.06.94zm-11 1L8.5 8.5l.94-2.06 2.06-.94-2.06-.94L8.5 2.5l-.94 2.06-2.06.94zm10 10l.94 2.06.94-2.06 2.06-.94-2.06-.94-.94-2.06-.94 2.06-2.06.94z\"/><path d=\"M17.41 7.96l-1.37-1.37c-.4-.4-.92-.59-1.43-.59-.52 0-1.04.2-1.43.59L10.3 9.45l-7.72 7.72c-.78.78-.78 2.05 0 2.83L4 21.41c.39.39.9.59 1.41.59.51 0 1.02-.2 1.41-.59l7.78-7.78 2.81-2.81c.8-.78.8-2.07 0-2.86zM5.41 20L4 18.59l7.72-7.72 1.47 1.35L5.41 20z\"/>\n",
              "  </svg>\n",
              "      </button>\n",
              "      \n",
              "  <style>\n",
              "    .colab-df-container {\n",
              "      display:flex;\n",
              "      flex-wrap:wrap;\n",
              "      gap: 12px;\n",
              "    }\n",
              "\n",
              "    .colab-df-convert {\n",
              "      background-color: #E8F0FE;\n",
              "      border: none;\n",
              "      border-radius: 50%;\n",
              "      cursor: pointer;\n",
              "      display: none;\n",
              "      fill: #1967D2;\n",
              "      height: 32px;\n",
              "      padding: 0 0 0 0;\n",
              "      width: 32px;\n",
              "    }\n",
              "\n",
              "    .colab-df-convert:hover {\n",
              "      background-color: #E2EBFA;\n",
              "      box-shadow: 0px 1px 2px rgba(60, 64, 67, 0.3), 0px 1px 3px 1px rgba(60, 64, 67, 0.15);\n",
              "      fill: #174EA6;\n",
              "    }\n",
              "\n",
              "    [theme=dark] .colab-df-convert {\n",
              "      background-color: #3B4455;\n",
              "      fill: #D2E3FC;\n",
              "    }\n",
              "\n",
              "    [theme=dark] .colab-df-convert:hover {\n",
              "      background-color: #434B5C;\n",
              "      box-shadow: 0px 1px 3px 1px rgba(0, 0, 0, 0.15);\n",
              "      filter: drop-shadow(0px 1px 2px rgba(0, 0, 0, 0.3));\n",
              "      fill: #FFFFFF;\n",
              "    }\n",
              "  </style>\n",
              "\n",
              "      <script>\n",
              "        const buttonEl =\n",
              "          document.querySelector('#df-4a213298-5f4f-4403-b96b-c3fccd41f76b button.colab-df-convert');\n",
              "        buttonEl.style.display =\n",
              "          google.colab.kernel.accessAllowed ? 'block' : 'none';\n",
              "\n",
              "        async function convertToInteractive(key) {\n",
              "          const element = document.querySelector('#df-4a213298-5f4f-4403-b96b-c3fccd41f76b');\n",
              "          const dataTable =\n",
              "            await google.colab.kernel.invokeFunction('convertToInteractive',\n",
              "                                                     [key], {});\n",
              "          if (!dataTable) return;\n",
              "\n",
              "          const docLinkHtml = 'Like what you see? Visit the ' +\n",
              "            '<a target=\"_blank\" href=https://colab.research.google.com/notebooks/data_table.ipynb>data table notebook</a>'\n",
              "            + ' to learn more about interactive tables.';\n",
              "          element.innerHTML = '';\n",
              "          dataTable['output_type'] = 'display_data';\n",
              "          await google.colab.output.renderOutput(dataTable, element);\n",
              "          const docLink = document.createElement('div');\n",
              "          docLink.innerHTML = docLinkHtml;\n",
              "          element.appendChild(docLink);\n",
              "        }\n",
              "      </script>\n",
              "    </div>\n",
              "  </div>\n",
              "  "
            ]
          },
          "metadata": {},
          "execution_count": 177
        }
      ]
    },
    {
      "cell_type": "code",
      "source": [
        "test_df.head()"
      ],
      "metadata": {
        "colab": {
          "base_uri": "https://localhost:8080/",
          "height": 635
        },
        "id": "bIianKn3beoS",
        "outputId": "e861da73-f4f7-43a1-ddee-8bfed845fada"
      },
      "id": "bIianKn3beoS",
      "execution_count": null,
      "outputs": [
        {
          "output_type": "execute_result",
          "data": {
            "text/plain": [
              "       id  query_id  product_id    label  \\\n",
              "0  118557       245       27720  Partial   \n",
              "1   57106       435       38339  Partial   \n",
              "2  214975        33       26413  Partial   \n",
              "3  224306       116       35276  Partial   \n",
              "4   67664        26       23900  Partial   \n",
              "\n",
              "                                               query        query_class  \\\n",
              "0                                       anchor decor         Wall Décor   \n",
              "1                                        shoe closet       Shoe Storage   \n",
              "2                         non slip shower floor tile  Floor & Wall Tile   \n",
              "3  brockham solid blackout thermal grommet curtai...  Curtains & Drapes   \n",
              "4                                     leather chairs      Accent Chairs   \n",
              "\n",
              "                                        product_name         product_class  \\\n",
              "0             shabby architectural window wall decor            Wall Décor   \n",
              "1                          7 pair shoe storage bench  Benches|Shoe Storage   \n",
              "2  argana 8 '' x 8 '' cement patterned wall & flo...     Floor & Wall Tile   \n",
              "3  christmas decorations old fashioned concept tw...     Curtains & Drapes   \n",
              "4                        carlita papasan patio chair   Patio Lounge Chairs   \n",
              "\n",
              "                                  category hierarchy  \\\n",
              "0        Décor & Pillows / Wall Décor / Wall Accents   \n",
              "1  Storage & Organization / Shoe Storage / All Sh...   \n",
              "2  Home Improvement / Flooring, Walls & Ceiling /...   \n",
              "3  Décor & Pillows / Window Treatments / Curtains...   \n",
              "4  Outdoor / Outdoor & Patio Furniture / Outdoor ...   \n",
              "\n",
              "                                 product_description  \\\n",
              "0  the sanctuary of home , in these times , is wh...   \n",
              "1  looking for a simple and functional shoe bench...   \n",
              "2  this field tile offers a distinct perspective ...   \n",
              "3  this 2 panels curtain set is printed on 100 % ...   \n",
              "4  this papasan chair is a resort grade , trendy ...   \n",
              "\n",
              "                                    product_features  rating_count  \\\n",
              "0  residential use 30 architecture non residentia...           2.0   \n",
              "1  light wood residential use 30 limited shoe sto...         452.0   \n",
              "2  cement , natural pigments , and concrete milde...          51.0   \n",
              "3  semi-sheer 54 1.5 gray/green/pink indoor / out...           0.0   \n",
              "4  residential use 50 black mid-century modern mi...          89.0   \n",
              "\n",
              "   average_rating  review_count  \n",
              "0             5.0           2.0  \n",
              "1             4.5         300.0  \n",
              "2             4.5          39.0  \n",
              "3             0.0           0.0  \n",
              "4             5.0          60.0  "
            ],
            "text/html": [
              "\n",
              "  <div id=\"df-8bbc00a1-5805-4078-b0dc-c06b898b35a7\">\n",
              "    <div class=\"colab-df-container\">\n",
              "      <div>\n",
              "<style scoped>\n",
              "    .dataframe tbody tr th:only-of-type {\n",
              "        vertical-align: middle;\n",
              "    }\n",
              "\n",
              "    .dataframe tbody tr th {\n",
              "        vertical-align: top;\n",
              "    }\n",
              "\n",
              "    .dataframe thead th {\n",
              "        text-align: right;\n",
              "    }\n",
              "</style>\n",
              "<table border=\"1\" class=\"dataframe\">\n",
              "  <thead>\n",
              "    <tr style=\"text-align: right;\">\n",
              "      <th></th>\n",
              "      <th>id</th>\n",
              "      <th>query_id</th>\n",
              "      <th>product_id</th>\n",
              "      <th>label</th>\n",
              "      <th>query</th>\n",
              "      <th>query_class</th>\n",
              "      <th>product_name</th>\n",
              "      <th>product_class</th>\n",
              "      <th>category hierarchy</th>\n",
              "      <th>product_description</th>\n",
              "      <th>product_features</th>\n",
              "      <th>rating_count</th>\n",
              "      <th>average_rating</th>\n",
              "      <th>review_count</th>\n",
              "    </tr>\n",
              "  </thead>\n",
              "  <tbody>\n",
              "    <tr>\n",
              "      <th>0</th>\n",
              "      <td>118557</td>\n",
              "      <td>245</td>\n",
              "      <td>27720</td>\n",
              "      <td>Partial</td>\n",
              "      <td>anchor decor</td>\n",
              "      <td>Wall Décor</td>\n",
              "      <td>shabby architectural window wall decor</td>\n",
              "      <td>Wall Décor</td>\n",
              "      <td>Décor &amp; Pillows / Wall Décor / Wall Accents</td>\n",
              "      <td>the sanctuary of home , in these times , is wh...</td>\n",
              "      <td>residential use 30 architecture non residentia...</td>\n",
              "      <td>2.0</td>\n",
              "      <td>5.0</td>\n",
              "      <td>2.0</td>\n",
              "    </tr>\n",
              "    <tr>\n",
              "      <th>1</th>\n",
              "      <td>57106</td>\n",
              "      <td>435</td>\n",
              "      <td>38339</td>\n",
              "      <td>Partial</td>\n",
              "      <td>shoe closet</td>\n",
              "      <td>Shoe Storage</td>\n",
              "      <td>7 pair shoe storage bench</td>\n",
              "      <td>Benches|Shoe Storage</td>\n",
              "      <td>Storage &amp; Organization / Shoe Storage / All Sh...</td>\n",
              "      <td>looking for a simple and functional shoe bench...</td>\n",
              "      <td>light wood residential use 30 limited shoe sto...</td>\n",
              "      <td>452.0</td>\n",
              "      <td>4.5</td>\n",
              "      <td>300.0</td>\n",
              "    </tr>\n",
              "    <tr>\n",
              "      <th>2</th>\n",
              "      <td>214975</td>\n",
              "      <td>33</td>\n",
              "      <td>26413</td>\n",
              "      <td>Partial</td>\n",
              "      <td>non slip shower floor tile</td>\n",
              "      <td>Floor &amp; Wall Tile</td>\n",
              "      <td>argana 8 '' x 8 '' cement patterned wall &amp; flo...</td>\n",
              "      <td>Floor &amp; Wall Tile</td>\n",
              "      <td>Home Improvement / Flooring, Walls &amp; Ceiling /...</td>\n",
              "      <td>this field tile offers a distinct perspective ...</td>\n",
              "      <td>cement , natural pigments , and concrete milde...</td>\n",
              "      <td>51.0</td>\n",
              "      <td>4.5</td>\n",
              "      <td>39.0</td>\n",
              "    </tr>\n",
              "    <tr>\n",
              "      <th>3</th>\n",
              "      <td>224306</td>\n",
              "      <td>116</td>\n",
              "      <td>35276</td>\n",
              "      <td>Partial</td>\n",
              "      <td>brockham solid blackout thermal grommet curtai...</td>\n",
              "      <td>Curtains &amp; Drapes</td>\n",
              "      <td>christmas decorations old fashioned concept tw...</td>\n",
              "      <td>Curtains &amp; Drapes</td>\n",
              "      <td>Décor &amp; Pillows / Window Treatments / Curtains...</td>\n",
              "      <td>this 2 panels curtain set is printed on 100 % ...</td>\n",
              "      <td>semi-sheer 54 1.5 gray/green/pink indoor / out...</td>\n",
              "      <td>0.0</td>\n",
              "      <td>0.0</td>\n",
              "      <td>0.0</td>\n",
              "    </tr>\n",
              "    <tr>\n",
              "      <th>4</th>\n",
              "      <td>67664</td>\n",
              "      <td>26</td>\n",
              "      <td>23900</td>\n",
              "      <td>Partial</td>\n",
              "      <td>leather chairs</td>\n",
              "      <td>Accent Chairs</td>\n",
              "      <td>carlita papasan patio chair</td>\n",
              "      <td>Patio Lounge Chairs</td>\n",
              "      <td>Outdoor / Outdoor &amp; Patio Furniture / Outdoor ...</td>\n",
              "      <td>this papasan chair is a resort grade , trendy ...</td>\n",
              "      <td>residential use 50 black mid-century modern mi...</td>\n",
              "      <td>89.0</td>\n",
              "      <td>5.0</td>\n",
              "      <td>60.0</td>\n",
              "    </tr>\n",
              "  </tbody>\n",
              "</table>\n",
              "</div>\n",
              "      <button class=\"colab-df-convert\" onclick=\"convertToInteractive('df-8bbc00a1-5805-4078-b0dc-c06b898b35a7')\"\n",
              "              title=\"Convert this dataframe to an interactive table.\"\n",
              "              style=\"display:none;\">\n",
              "        \n",
              "  <svg xmlns=\"http://www.w3.org/2000/svg\" height=\"24px\"viewBox=\"0 0 24 24\"\n",
              "       width=\"24px\">\n",
              "    <path d=\"M0 0h24v24H0V0z\" fill=\"none\"/>\n",
              "    <path d=\"M18.56 5.44l.94 2.06.94-2.06 2.06-.94-2.06-.94-.94-2.06-.94 2.06-2.06.94zm-11 1L8.5 8.5l.94-2.06 2.06-.94-2.06-.94L8.5 2.5l-.94 2.06-2.06.94zm10 10l.94 2.06.94-2.06 2.06-.94-2.06-.94-.94-2.06-.94 2.06-2.06.94z\"/><path d=\"M17.41 7.96l-1.37-1.37c-.4-.4-.92-.59-1.43-.59-.52 0-1.04.2-1.43.59L10.3 9.45l-7.72 7.72c-.78.78-.78 2.05 0 2.83L4 21.41c.39.39.9.59 1.41.59.51 0 1.02-.2 1.41-.59l7.78-7.78 2.81-2.81c.8-.78.8-2.07 0-2.86zM5.41 20L4 18.59l7.72-7.72 1.47 1.35L5.41 20z\"/>\n",
              "  </svg>\n",
              "      </button>\n",
              "      \n",
              "  <style>\n",
              "    .colab-df-container {\n",
              "      display:flex;\n",
              "      flex-wrap:wrap;\n",
              "      gap: 12px;\n",
              "    }\n",
              "\n",
              "    .colab-df-convert {\n",
              "      background-color: #E8F0FE;\n",
              "      border: none;\n",
              "      border-radius: 50%;\n",
              "      cursor: pointer;\n",
              "      display: none;\n",
              "      fill: #1967D2;\n",
              "      height: 32px;\n",
              "      padding: 0 0 0 0;\n",
              "      width: 32px;\n",
              "    }\n",
              "\n",
              "    .colab-df-convert:hover {\n",
              "      background-color: #E2EBFA;\n",
              "      box-shadow: 0px 1px 2px rgba(60, 64, 67, 0.3), 0px 1px 3px 1px rgba(60, 64, 67, 0.15);\n",
              "      fill: #174EA6;\n",
              "    }\n",
              "\n",
              "    [theme=dark] .colab-df-convert {\n",
              "      background-color: #3B4455;\n",
              "      fill: #D2E3FC;\n",
              "    }\n",
              "\n",
              "    [theme=dark] .colab-df-convert:hover {\n",
              "      background-color: #434B5C;\n",
              "      box-shadow: 0px 1px 3px 1px rgba(0, 0, 0, 0.15);\n",
              "      filter: drop-shadow(0px 1px 2px rgba(0, 0, 0, 0.3));\n",
              "      fill: #FFFFFF;\n",
              "    }\n",
              "  </style>\n",
              "\n",
              "      <script>\n",
              "        const buttonEl =\n",
              "          document.querySelector('#df-8bbc00a1-5805-4078-b0dc-c06b898b35a7 button.colab-df-convert');\n",
              "        buttonEl.style.display =\n",
              "          google.colab.kernel.accessAllowed ? 'block' : 'none';\n",
              "\n",
              "        async function convertToInteractive(key) {\n",
              "          const element = document.querySelector('#df-8bbc00a1-5805-4078-b0dc-c06b898b35a7');\n",
              "          const dataTable =\n",
              "            await google.colab.kernel.invokeFunction('convertToInteractive',\n",
              "                                                     [key], {});\n",
              "          if (!dataTable) return;\n",
              "\n",
              "          const docLinkHtml = 'Like what you see? Visit the ' +\n",
              "            '<a target=\"_blank\" href=https://colab.research.google.com/notebooks/data_table.ipynb>data table notebook</a>'\n",
              "            + ' to learn more about interactive tables.';\n",
              "          element.innerHTML = '';\n",
              "          dataTable['output_type'] = 'display_data';\n",
              "          await google.colab.output.renderOutput(dataTable, element);\n",
              "          const docLink = document.createElement('div');\n",
              "          docLink.innerHTML = docLinkHtml;\n",
              "          element.appendChild(docLink);\n",
              "        }\n",
              "      </script>\n",
              "    </div>\n",
              "  </div>\n",
              "  "
            ]
          },
          "metadata": {},
          "execution_count": 178
        }
      ]
    },
    {
      "cell_type": "code",
      "source": [
        "\n",
        "\n",
        "def unit_counts(column):\n",
        "  words = ' '.join(train_df[column].unique()).split()\n",
        "  units = ['feet', 'foot','ft.','fathom', 'fm','fm.','inches', 'inchs','in', 'inch','in.', 'centi','cm.' ,'yd.', 'yd','yard', 'yds',\n",
        "          'ac', 'ac.' , 'acre', 'sq', 'square', 'sq.', 'lb', 'lb.','lbs', 'pound', 'pounds','oz', 'ozs', 'ounce', 'ounces', 'oz.',\n",
        "          'g', 'gram', 'gr', 'mg', 'st', 'st.', 'stone', 'kg', 'tsp', 'g.', 'tbsp', 'qt', 'ml', 'ml.', 'l',  'l', 'litre','pt', \n",
        "          'pt.', 'gal', 'gals', 'gallon', 'gallons','galons', 'gals.','gal.', 'mph', 'cal', 'kn','metre', 'm', 'cm', 'km']\n",
        "  counts = {}\n",
        "  for unit in units:\n",
        "    cnt = list(words).count(unit)\n",
        "    counts[unit] = cnt\n",
        "  return counts\n",
        "\n"
      ],
      "metadata": {
        "id": "QdV19aCcE6yz"
      },
      "id": "QdV19aCcE6yz",
      "execution_count": null,
      "outputs": []
    },
    {
      "cell_type": "code",
      "source": [
        "print(unit_counts('product_description'))\n",
        "print(unit_counts('product_features'))\n",
        "print(unit_counts('product_name'))\n",
        "print(unit_counts('query'))\n",
        "print(unit_counts('query_class'))"
      ],
      "metadata": {
        "colab": {
          "base_uri": "https://localhost:8080/"
        },
        "id": "MJaPqSixE-Id",
        "outputId": "6613a0b0-7c9d-4abc-f8a7-1bca237b3cf1"
      },
      "id": "MJaPqSixE-Id",
      "execution_count": null,
      "outputs": [
        {
          "output_type": "stream",
          "name": "stdout",
          "text": [
            "{'feet': 1366, 'foot': 476, 'ft.': 284, 'fathom': 0, 'fm': 0, 'fm.': 0, 'inches': 754, 'inchs': 4, 'in': 34407, 'inch': 245, 'in.': 6, 'centi': 0, 'cm.': 0, 'yd.': 0, 'yd': 0, 'yard': 225, 'yds': 0, 'ac': 50, 'ac.': 0, 'acre': 0, 'sq': 24, 'square': 1726, 'sq.': 0, 'lb': 106, 'lb.': 0, 'lbs': 786, 'pound': 32, 'pounds': 192, 'oz': 53, 'ozs': 0, 'ounce': 4, 'ounces': 15, 'oz.': 0, 'g': 4, 'gram': 0, 'gr': 0, 'mg': 0, 'st': 0, 'st.': 5, 'stone': 750, 'kg': 55, 'tsp': 2, 'g.': 1, 'tbsp': 1, 'qt': 51, 'ml': 3, 'ml.': 0, 'l': 355, 'litre': 0, 'pt': 0, 'pt.': 0, 'gal': 13, 'gals': 2, 'gallon': 40, 'gallons': 46, 'galons': 0, 'gals.': 0, 'gal.': 0, 'mph': 2, 'cal': 11, 'kn': 0, 'metre': 0, 'm': 14, 'cm': 184, 'km': 0}\n",
            "{'feet': 135, 'foot': 66, 'ft.': 1200, 'fathom': 0, 'fm': 0, 'fm.': 0, 'inches': 911, 'inchs': 0, 'in': 13032, 'inch': 41, 'in.': 34, 'centi': 0, 'cm.': 0, 'yd.': 0, 'yd': 0, 'yard': 4, 'yds': 0, 'ac': 29, 'ac.': 0, 'acre': 0, 'sq': 3, 'square': 4138, 'sq.': 0, 'lb': 11, 'lb.': 2, 'lbs': 1538, 'pound': 4, 'pounds': 49, 'oz': 41, 'ozs': 0, 'ounce': 0, 'ounces': 2, 'oz.': 0, 'g': 3, 'gram': 0, 'gr': 2, 'mg': 0, 'st': 0, 'st.': 10, 'stone': 1248, 'kg': 4, 'tsp': 2, 'g.': 0, 'tbsp': 1, 'qt': 72, 'ml': 1, 'ml.': 0, 'l': 40, 'litre': 0, 'pt': 1, 'pt.': 0, 'gal': 8, 'gals': 0, 'gallon': 11, 'gallons': 1, 'galons': 0, 'gals.': 0, 'gal.': 0, 'mph': 30, 'cal': 29, 'kn': 0, 'metre': 0, 'm': 5, 'cm': 17, 'km': 0}\n",
            "{'feet': 4, 'foot': 9, 'ft.': 755, 'fathom': 0, 'fm': 0, 'fm.': 0, 'inches': 13, 'inchs': 0, 'in': 1483, 'inch': 42, 'in.': 0, 'centi': 0, 'cm.': 0, 'yd.': 0, 'yd': 0, 'yard': 18, 'yds': 0, 'ac': 4, 'ac.': 0, 'acre': 0, 'sq': 2, 'square': 679, 'sq.': 0, 'lb': 5, 'lb.': 0, 'lbs': 21, 'pound': 0, 'pounds': 0, 'oz': 134, 'ozs': 0, 'ounce': 0, 'ounces': 0, 'oz.': 0, 'g': 2, 'gram': 1, 'gr': 0, 'mg': 0, 'st': 2, 'st.': 2, 'stone': 187, 'kg': 0, 'tsp': 0, 'g.': 0, 'tbsp': 0, 'qt': 163, 'ml': 1, 'ml.': 0, 'l': 124, 'litre': 0, 'pt': 0, 'pt.': 0, 'gal': 8, 'gals': 0, 'gallon': 124, 'gallons': 4, 'galons': 0, 'gals.': 0, 'gal.': 0, 'mph': 0, 'cal': 0, 'kn': 0, 'metre': 1, 'm': 5, 'cm': 0, 'km': 0}\n",
            "{'feet': 0, 'foot': 0, 'ft.': 0, 'fathom': 0, 'fm': 0, 'fm.': 0, 'inches': 1, 'inchs': 0, 'in': 7, 'inch': 6, 'in.': 0, 'centi': 0, 'cm.': 0, 'yd.': 0, 'yd': 0, 'yard': 0, 'yds': 0, 'ac': 0, 'ac.': 0, 'acre': 0, 'sq': 0, 'square': 1, 'sq.': 0, 'lb': 0, 'lb.': 0, 'lbs': 0, 'pound': 0, 'pounds': 0, 'oz': 0, 'ozs': 0, 'ounce': 0, 'ounces': 0, 'oz.': 0, 'g': 0, 'gram': 0, 'gr': 0, 'mg': 0, 'st': 0, 'st.': 0, 'stone': 1, 'kg': 0, 'tsp': 0, 'g.': 0, 'tbsp': 0, 'qt': 0, 'ml': 0, 'ml.': 0, 'l': 2, 'litre': 0, 'pt': 0, 'pt.': 0, 'gal': 0, 'gals': 0, 'gallon': 0, 'gallons': 0, 'galons': 0, 'gals.': 0, 'gal.': 0, 'mph': 0, 'cal': 0, 'kn': 0, 'metre': 0, 'm': 0, 'cm': 0, 'km': 0}\n",
            "{'feet': 0, 'foot': 0, 'ft.': 0, 'fathom': 0, 'fm': 0, 'fm.': 0, 'inches': 0, 'inchs': 0, 'in': 0, 'inch': 0, 'in.': 0, 'centi': 0, 'cm.': 0, 'yd.': 0, 'yd': 0, 'yard': 0, 'yds': 0, 'ac': 0, 'ac.': 0, 'acre': 0, 'sq': 0, 'square': 0, 'sq.': 0, 'lb': 0, 'lb.': 0, 'lbs': 0, 'pound': 0, 'pounds': 0, 'oz': 0, 'ozs': 0, 'ounce': 0, 'ounces': 0, 'oz.': 0, 'g': 0, 'gram': 0, 'gr': 0, 'mg': 0, 'st': 0, 'st.': 0, 'stone': 0, 'kg': 0, 'tsp': 0, 'g.': 0, 'tbsp': 0, 'qt': 0, 'ml': 0, 'ml.': 0, 'l': 0, 'litre': 0, 'pt': 0, 'pt.': 0, 'gal': 0, 'gals': 0, 'gallon': 0, 'gallons': 0, 'galons': 0, 'gals.': 0, 'gal.': 0, 'mph': 0, 'cal': 0, 'kn': 0, 'metre': 0, 'm': 0, 'cm': 0, 'km': 0}\n"
          ]
        }
      ]
    },
    {
      "cell_type": "markdown",
      "source": [
        "\n",
        "\n",
        "\n",
        "\n",
        "*  In lots of product_name, dimensions of products are mentioned. A very common way of representing them is like '8 ft. x 5 ft. x 8 ft.' with whitespaces in between. The same is observed in product_description and features.\n",
        "    In product_name units are mostly represented as (in. ft. square lbs. oz. gallon. l) but in product_description and query units are represented in multiple ways for example inch as (in. in inch) hence these need to be standardized.\n",
        "\n",
        "*       Also, in query, there were some common errors when specifying measurements. Some examples are '7qt', '54 in', '36\"'Hence we need to seperate numbers from letters.\n"
      ],
      "metadata": {
        "id": "JOZR1VC5Faow"
      },
      "id": "JOZR1VC5Faow"
    },
    {
      "cell_type": "markdown",
      "source": [
        "### cleaning"
      ],
      "metadata": {
        "id": "PnOK267sIspI"
      },
      "id": "PnOK267sIspI"
    },
    {
      "cell_type": "markdown",
      "source": [
        "\n",
        "\n",
        "1.   Seperate numbers from words: \"9x12\" -> \"9 x 12\" , \"5gal\" -> \"5 gal\" ...\n",
        "\n",
        "2.   Bring all units of measurements to a consistent representation.\n",
        "\n",
        "\n",
        "\n",
        "\n"
      ],
      "metadata": {
        "id": "4UyIvWTeI1P5"
      },
      "id": "4UyIvWTeI1P5"
    },
    {
      "cell_type": "code",
      "source": [
        "\n",
        "#We are not including units (ft. lb. sq. ...) as the full stop will be taken care by \n",
        "#the re.split(r'\\W+', sent) function in the preprocessing function\n",
        "\n",
        "#In description and name, 'inch' is generally found as 'in.' where as in query,\n",
        "#its found both as 'in' and 'in.' thus we deal with both cases seperately. Thus a seperate \n",
        "#preprocessing function for search terms\n",
        "\n",
        "#we are not using stemming and stopwords now. We will be stemming after correction of query\n",
        "\n",
        "#'in.','in' to inch is taken care of in preprocessing step\n",
        "#'inches' to inch will be taken care in stemming. \n",
        "\n",
        "stop_words = set(stopwords.words('english'))\n",
        "def standardize_units(text):\n",
        "  text = \" \" + text + \" \"\n",
        "  text = re.sub('( gal | gals | galon )',' gallon ',text)\n",
        "  text = re.sub('( ft | fts | feets | foot | foots )',' feet ',text)\n",
        "  text = re.sub('( squares | sq )',' square ',text)\n",
        "  text = re.sub('( lb | lbs | pounds )',' pound ',text)\n",
        "  text = re.sub('( oz | ozs | ounces | ounc )',' ounce ',text)\n",
        "  text = re.sub('( wide | width | w )',' width ',text)\n",
        "  return text\n",
        "\n",
        "def preprocessing(sent):\n",
        "  sent = sent.replace('in.', ' inch ')#If we dont to this then 'in.' will be turned to 'in' in the next step\n",
        "  sent =  re.sub(r'(\\d+) \\'\\'', r'\\1 inch', sent) #some times inch is represented in symbol\n",
        "  words = re.split(r'\\W+', sent)\n",
        "  words = [word.lower() for word in words]\n",
        "  res = re.sub(\"[A-Za-z]+\", lambda ele: \" \" + ele[0] + \" \", ' '.join(words)) #add space between number and alphabets in a string\n",
        "  cleaned = standardize_units(res) \n",
        "  cleaned = ' '.join(cleaned.split()) #removing extra whitespaces\n",
        "  words = cleaned.split()\n",
        "  words = [w for w in words if not w in stop_words]\n",
        "\n",
        "  return ' '.join(words)\n",
        "\n",
        "def preprocessing_search(sent):\n",
        "  sent = sent.replace('in.', ' inch ')\n",
        "  sent =  re.sub(r'(\\d+) \\'\\'', r'\\1 inch', sent) #some times inch is represented in symbol\n",
        "  words = re.split(r'\\W+', sent)\n",
        "  words = [word.lower() for word in words]\n",
        "  res = re.sub(\"[A-Za-z]+\", lambda ele: \" \" + ele[0] + \" \", ' '.join(words)) #add space between number and alphabets in a string\n",
        "  res = standardize_units(res) \n",
        "  res = res.replace(' in ', ' inch ') #in search_terms 'in' is used more for 'inch' than as a preposition hence this step shouldn't hurt\n",
        "  cleaned = ' '.join(res.split()) #removing extra whitespaces\n",
        "  words = cleaned.split()\n",
        "  words = [w for w in words if not w in stop_words]\n",
        "\n",
        "  return ' '.join(words)"
      ],
      "metadata": {
        "id": "cT7JR00VI14y"
      },
      "id": "cT7JR00VI14y",
      "execution_count": null,
      "outputs": []
    },
    {
      "cell_type": "code",
      "source": [
        "\n",
        "train_df['cleaned_name'] = train_df['product_name'].apply(lambda x : preprocessing(x))\n",
        "train_df['cleaned_class'] = train_df['product_class'].apply(lambda x : preprocessing(x))\n",
        "train_df['cleaned_description'] = train_df['product_description'].apply(lambda x : preprocessing(x))\n",
        "train_df['cleaned_features'] = train_df['product_features'].apply(lambda x : preprocessing(x))\n",
        "train_df['cleaned_hierarchy'] = train_df['category hierarchy'].apply(lambda x : preprocessing(x))\n",
        "\n",
        "#preprocessing for search is implemented in a slight different manner \n",
        "train_df['cleaned_query'] = train_df['query'].apply(lambda x : preprocessing_search(x))\n",
        "train_df['cleaned_query_class'] = train_df['query_class'].apply(lambda x : preprocessing_search(x))\n",
        "train_df.head()\n"
      ],
      "metadata": {
        "colab": {
          "base_uri": "https://localhost:8080/",
          "height": 664
        },
        "id": "yzkVKYi7UUZw",
        "outputId": "499cce7c-fef5-4acd-f3f8-0c4f5b4abfba"
      },
      "id": "yzkVKYi7UUZw",
      "execution_count": null,
      "outputs": [
        {
          "output_type": "execute_result",
          "data": {
            "text/plain": [
              "       id  query_id  product_id       label  \\\n",
              "0  231568       131       29684  Irrelevant   \n",
              "1  200197       476       18616       Exact   \n",
              "2  164626       413        9365     Partial   \n",
              "3  178669       427       12848     Partial   \n",
              "4   20622       140       16271     Partial   \n",
              "\n",
              "                                   query                      query_class  \\\n",
              "0                             kids chair                      Kids Chairs   \n",
              "1                          hardwood beds                             Beds   \n",
              "2  burruss patio sectional with cushions        Outdoor Conversation Sets   \n",
              "3                             lowes tile                Floor & Wall Tile   \n",
              "4              wire basket with dividers  Boxes, Bins, Baskets, & Buckets   \n",
              "\n",
              "                                        product_name  \\\n",
              "0                 garrett rocking chair with cushion   \n",
              "1                           atalee king standard bed   \n",
              "2                 washtenaw patio sofa with cushions   \n",
              "3  penny 1 '' x 1 '' porcelain mosaic wall & floo...   \n",
              "4      galvanized divided organizer metal/wire crate   \n",
              "\n",
              "                     product_class  \\\n",
              "0          Patio Rockers & Gliders   \n",
              "1                             Beds   \n",
              "2                      Patio Sofas   \n",
              "3                Floor & Wall Tile   \n",
              "4  Boxes, Bins, Baskets, & Buckets   \n",
              "\n",
              "                                  category hierarchy  \\\n",
              "0  Outdoor / Outdoor & Patio Furniture / Outdoor ...   \n",
              "1  Furniture / Bedroom Furniture / Beds & Headboa...   \n",
              "2  Outdoor / Outdoor & Patio Furniture / Outdoor ...   \n",
              "3  Home Improvement / Flooring, Walls & Ceiling /...   \n",
              "4  Storage & Organization / Storage Containers & ...   \n",
              "\n",
              "                                 product_description  ... rating_count  \\\n",
              "0  relax with this 2 pieces folding rocking chair...  ...        192.0   \n",
              "1  the atalee bed provides a commanding presence ...  ...          0.0   \n",
              "2  this patio sofa with cushions has room for thr...  ...          0.0   \n",
              "3  our penny 1 '' x 1 '' porcelain mosaic wall & ...  ...         52.0   \n",
              "4  the galvanized divided organizer metal/wire cr...  ...        119.0   \n",
              "\n",
              "   average_rating  review_count  \\\n",
              "0             4.5         152.0   \n",
              "1             0.0           0.0   \n",
              "2             0.0           0.0   \n",
              "3             5.0          39.0   \n",
              "4             5.0          75.0   \n",
              "\n",
              "                                        cleaned_name  \\\n",
              "0                      garrett rocking chair cushion   \n",
              "1                           atalee king standard bed   \n",
              "2                      washtenaw patio sofa cushions   \n",
              "3  penny 1 inch x 1 inch porcelain mosaic wall fl...   \n",
              "4      galvanized divided organizer metal wire crate   \n",
              "\n",
              "                cleaned_class  \\\n",
              "0       patio rockers gliders   \n",
              "1                        beds   \n",
              "2                 patio sofas   \n",
              "3             floor wall tile   \n",
              "4  boxes bins baskets buckets   \n",
              "\n",
              "                                 cleaned_description  \\\n",
              "0  relax 2 pieces folding rocking chair set two r...   \n",
              "1  atalee bed provides commanding presence room c...   \n",
              "2  patio sofa cushions room three sit comfortably...   \n",
              "3  penny 1 inch x 1 inch porcelain mosaic wall fl...   \n",
              "4  galvanized divided organizer metal wire crate ...   \n",
              "\n",
              "                                    cleaned_features  \\\n",
              "0  navy blue gray powder coated steel 35 5 reside...   \n",
              "1  residential use 117 king none 52 200 modern 80...   \n",
              "2  resin wicker patio sofa 6 5 traditional 38 850...   \n",
              "3  impervious heat resistant fire resistant resid...   \n",
              "4  galvanized metal wire silver rectangle 1 indus...   \n",
              "\n",
              "                                   cleaned_hierarchy  \\\n",
              "0  outdoor outdoor patio furniture outdoor seatin...   \n",
              "1   furniture bedroom furniture beds headboards beds   \n",
              "2  outdoor outdoor patio furniture outdoor seatin...   \n",
              "3  home improvement flooring walls ceiling floor ...   \n",
              "4  storage organization storage containers drawer...   \n",
              "\n",
              "                      cleaned_query         cleaned_query_class  \n",
              "0                        kids chair                 kids chairs  \n",
              "1                     hardwood beds                        beds  \n",
              "2  burruss patio sectional cushions   outdoor conversation sets  \n",
              "3                        lowes tile             floor wall tile  \n",
              "4              wire basket dividers  boxes bins baskets buckets  \n",
              "\n",
              "[5 rows x 21 columns]"
            ],
            "text/html": [
              "\n",
              "  <div id=\"df-9372ac32-c8ca-4073-9b67-02db1386649e\">\n",
              "    <div class=\"colab-df-container\">\n",
              "      <div>\n",
              "<style scoped>\n",
              "    .dataframe tbody tr th:only-of-type {\n",
              "        vertical-align: middle;\n",
              "    }\n",
              "\n",
              "    .dataframe tbody tr th {\n",
              "        vertical-align: top;\n",
              "    }\n",
              "\n",
              "    .dataframe thead th {\n",
              "        text-align: right;\n",
              "    }\n",
              "</style>\n",
              "<table border=\"1\" class=\"dataframe\">\n",
              "  <thead>\n",
              "    <tr style=\"text-align: right;\">\n",
              "      <th></th>\n",
              "      <th>id</th>\n",
              "      <th>query_id</th>\n",
              "      <th>product_id</th>\n",
              "      <th>label</th>\n",
              "      <th>query</th>\n",
              "      <th>query_class</th>\n",
              "      <th>product_name</th>\n",
              "      <th>product_class</th>\n",
              "      <th>category hierarchy</th>\n",
              "      <th>product_description</th>\n",
              "      <th>...</th>\n",
              "      <th>rating_count</th>\n",
              "      <th>average_rating</th>\n",
              "      <th>review_count</th>\n",
              "      <th>cleaned_name</th>\n",
              "      <th>cleaned_class</th>\n",
              "      <th>cleaned_description</th>\n",
              "      <th>cleaned_features</th>\n",
              "      <th>cleaned_hierarchy</th>\n",
              "      <th>cleaned_query</th>\n",
              "      <th>cleaned_query_class</th>\n",
              "    </tr>\n",
              "  </thead>\n",
              "  <tbody>\n",
              "    <tr>\n",
              "      <th>0</th>\n",
              "      <td>231568</td>\n",
              "      <td>131</td>\n",
              "      <td>29684</td>\n",
              "      <td>Irrelevant</td>\n",
              "      <td>kids chair</td>\n",
              "      <td>Kids Chairs</td>\n",
              "      <td>garrett rocking chair with cushion</td>\n",
              "      <td>Patio Rockers &amp; Gliders</td>\n",
              "      <td>Outdoor / Outdoor &amp; Patio Furniture / Outdoor ...</td>\n",
              "      <td>relax with this 2 pieces folding rocking chair...</td>\n",
              "      <td>...</td>\n",
              "      <td>192.0</td>\n",
              "      <td>4.5</td>\n",
              "      <td>152.0</td>\n",
              "      <td>garrett rocking chair cushion</td>\n",
              "      <td>patio rockers gliders</td>\n",
              "      <td>relax 2 pieces folding rocking chair set two r...</td>\n",
              "      <td>navy blue gray powder coated steel 35 5 reside...</td>\n",
              "      <td>outdoor outdoor patio furniture outdoor seatin...</td>\n",
              "      <td>kids chair</td>\n",
              "      <td>kids chairs</td>\n",
              "    </tr>\n",
              "    <tr>\n",
              "      <th>1</th>\n",
              "      <td>200197</td>\n",
              "      <td>476</td>\n",
              "      <td>18616</td>\n",
              "      <td>Exact</td>\n",
              "      <td>hardwood beds</td>\n",
              "      <td>Beds</td>\n",
              "      <td>atalee king standard bed</td>\n",
              "      <td>Beds</td>\n",
              "      <td>Furniture / Bedroom Furniture / Beds &amp; Headboa...</td>\n",
              "      <td>the atalee bed provides a commanding presence ...</td>\n",
              "      <td>...</td>\n",
              "      <td>0.0</td>\n",
              "      <td>0.0</td>\n",
              "      <td>0.0</td>\n",
              "      <td>atalee king standard bed</td>\n",
              "      <td>beds</td>\n",
              "      <td>atalee bed provides commanding presence room c...</td>\n",
              "      <td>residential use 117 king none 52 200 modern 80...</td>\n",
              "      <td>furniture bedroom furniture beds headboards beds</td>\n",
              "      <td>hardwood beds</td>\n",
              "      <td>beds</td>\n",
              "    </tr>\n",
              "    <tr>\n",
              "      <th>2</th>\n",
              "      <td>164626</td>\n",
              "      <td>413</td>\n",
              "      <td>9365</td>\n",
              "      <td>Partial</td>\n",
              "      <td>burruss patio sectional with cushions</td>\n",
              "      <td>Outdoor Conversation Sets</td>\n",
              "      <td>washtenaw patio sofa with cushions</td>\n",
              "      <td>Patio Sofas</td>\n",
              "      <td>Outdoor / Outdoor &amp; Patio Furniture / Outdoor ...</td>\n",
              "      <td>this patio sofa with cushions has room for thr...</td>\n",
              "      <td>...</td>\n",
              "      <td>0.0</td>\n",
              "      <td>0.0</td>\n",
              "      <td>0.0</td>\n",
              "      <td>washtenaw patio sofa cushions</td>\n",
              "      <td>patio sofas</td>\n",
              "      <td>patio sofa cushions room three sit comfortably...</td>\n",
              "      <td>resin wicker patio sofa 6 5 traditional 38 850...</td>\n",
              "      <td>outdoor outdoor patio furniture outdoor seatin...</td>\n",
              "      <td>burruss patio sectional cushions</td>\n",
              "      <td>outdoor conversation sets</td>\n",
              "    </tr>\n",
              "    <tr>\n",
              "      <th>3</th>\n",
              "      <td>178669</td>\n",
              "      <td>427</td>\n",
              "      <td>12848</td>\n",
              "      <td>Partial</td>\n",
              "      <td>lowes tile</td>\n",
              "      <td>Floor &amp; Wall Tile</td>\n",
              "      <td>penny 1 '' x 1 '' porcelain mosaic wall &amp; floo...</td>\n",
              "      <td>Floor &amp; Wall Tile</td>\n",
              "      <td>Home Improvement / Flooring, Walls &amp; Ceiling /...</td>\n",
              "      <td>our penny 1 '' x 1 '' porcelain mosaic wall &amp; ...</td>\n",
              "      <td>...</td>\n",
              "      <td>52.0</td>\n",
              "      <td>5.0</td>\n",
              "      <td>39.0</td>\n",
              "      <td>penny 1 inch x 1 inch porcelain mosaic wall fl...</td>\n",
              "      <td>floor wall tile</td>\n",
              "      <td>penny 1 inch x 1 inch porcelain mosaic wall fl...</td>\n",
              "      <td>impervious heat resistant fire resistant resid...</td>\n",
              "      <td>home improvement flooring walls ceiling floor ...</td>\n",
              "      <td>lowes tile</td>\n",
              "      <td>floor wall tile</td>\n",
              "    </tr>\n",
              "    <tr>\n",
              "      <th>4</th>\n",
              "      <td>20622</td>\n",
              "      <td>140</td>\n",
              "      <td>16271</td>\n",
              "      <td>Partial</td>\n",
              "      <td>wire basket with dividers</td>\n",
              "      <td>Boxes, Bins, Baskets, &amp; Buckets</td>\n",
              "      <td>galvanized divided organizer metal/wire crate</td>\n",
              "      <td>Boxes, Bins, Baskets, &amp; Buckets</td>\n",
              "      <td>Storage &amp; Organization / Storage Containers &amp; ...</td>\n",
              "      <td>the galvanized divided organizer metal/wire cr...</td>\n",
              "      <td>...</td>\n",
              "      <td>119.0</td>\n",
              "      <td>5.0</td>\n",
              "      <td>75.0</td>\n",
              "      <td>galvanized divided organizer metal wire crate</td>\n",
              "      <td>boxes bins baskets buckets</td>\n",
              "      <td>galvanized divided organizer metal wire crate ...</td>\n",
              "      <td>galvanized metal wire silver rectangle 1 indus...</td>\n",
              "      <td>storage organization storage containers drawer...</td>\n",
              "      <td>wire basket dividers</td>\n",
              "      <td>boxes bins baskets buckets</td>\n",
              "    </tr>\n",
              "  </tbody>\n",
              "</table>\n",
              "<p>5 rows × 21 columns</p>\n",
              "</div>\n",
              "      <button class=\"colab-df-convert\" onclick=\"convertToInteractive('df-9372ac32-c8ca-4073-9b67-02db1386649e')\"\n",
              "              title=\"Convert this dataframe to an interactive table.\"\n",
              "              style=\"display:none;\">\n",
              "        \n",
              "  <svg xmlns=\"http://www.w3.org/2000/svg\" height=\"24px\"viewBox=\"0 0 24 24\"\n",
              "       width=\"24px\">\n",
              "    <path d=\"M0 0h24v24H0V0z\" fill=\"none\"/>\n",
              "    <path d=\"M18.56 5.44l.94 2.06.94-2.06 2.06-.94-2.06-.94-.94-2.06-.94 2.06-2.06.94zm-11 1L8.5 8.5l.94-2.06 2.06-.94-2.06-.94L8.5 2.5l-.94 2.06-2.06.94zm10 10l.94 2.06.94-2.06 2.06-.94-2.06-.94-.94-2.06-.94 2.06-2.06.94z\"/><path d=\"M17.41 7.96l-1.37-1.37c-.4-.4-.92-.59-1.43-.59-.52 0-1.04.2-1.43.59L10.3 9.45l-7.72 7.72c-.78.78-.78 2.05 0 2.83L4 21.41c.39.39.9.59 1.41.59.51 0 1.02-.2 1.41-.59l7.78-7.78 2.81-2.81c.8-.78.8-2.07 0-2.86zM5.41 20L4 18.59l7.72-7.72 1.47 1.35L5.41 20z\"/>\n",
              "  </svg>\n",
              "      </button>\n",
              "      \n",
              "  <style>\n",
              "    .colab-df-container {\n",
              "      display:flex;\n",
              "      flex-wrap:wrap;\n",
              "      gap: 12px;\n",
              "    }\n",
              "\n",
              "    .colab-df-convert {\n",
              "      background-color: #E8F0FE;\n",
              "      border: none;\n",
              "      border-radius: 50%;\n",
              "      cursor: pointer;\n",
              "      display: none;\n",
              "      fill: #1967D2;\n",
              "      height: 32px;\n",
              "      padding: 0 0 0 0;\n",
              "      width: 32px;\n",
              "    }\n",
              "\n",
              "    .colab-df-convert:hover {\n",
              "      background-color: #E2EBFA;\n",
              "      box-shadow: 0px 1px 2px rgba(60, 64, 67, 0.3), 0px 1px 3px 1px rgba(60, 64, 67, 0.15);\n",
              "      fill: #174EA6;\n",
              "    }\n",
              "\n",
              "    [theme=dark] .colab-df-convert {\n",
              "      background-color: #3B4455;\n",
              "      fill: #D2E3FC;\n",
              "    }\n",
              "\n",
              "    [theme=dark] .colab-df-convert:hover {\n",
              "      background-color: #434B5C;\n",
              "      box-shadow: 0px 1px 3px 1px rgba(0, 0, 0, 0.15);\n",
              "      filter: drop-shadow(0px 1px 2px rgba(0, 0, 0, 0.3));\n",
              "      fill: #FFFFFF;\n",
              "    }\n",
              "  </style>\n",
              "\n",
              "      <script>\n",
              "        const buttonEl =\n",
              "          document.querySelector('#df-9372ac32-c8ca-4073-9b67-02db1386649e button.colab-df-convert');\n",
              "        buttonEl.style.display =\n",
              "          google.colab.kernel.accessAllowed ? 'block' : 'none';\n",
              "\n",
              "        async function convertToInteractive(key) {\n",
              "          const element = document.querySelector('#df-9372ac32-c8ca-4073-9b67-02db1386649e');\n",
              "          const dataTable =\n",
              "            await google.colab.kernel.invokeFunction('convertToInteractive',\n",
              "                                                     [key], {});\n",
              "          if (!dataTable) return;\n",
              "\n",
              "          const docLinkHtml = 'Like what you see? Visit the ' +\n",
              "            '<a target=\"_blank\" href=https://colab.research.google.com/notebooks/data_table.ipynb>data table notebook</a>'\n",
              "            + ' to learn more about interactive tables.';\n",
              "          element.innerHTML = '';\n",
              "          dataTable['output_type'] = 'display_data';\n",
              "          await google.colab.output.renderOutput(dataTable, element);\n",
              "          const docLink = document.createElement('div');\n",
              "          docLink.innerHTML = docLinkHtml;\n",
              "          element.appendChild(docLink);\n",
              "        }\n",
              "      </script>\n",
              "    </div>\n",
              "  </div>\n",
              "  "
            ]
          },
          "metadata": {},
          "execution_count": 184
        }
      ]
    },
    {
      "cell_type": "code",
      "source": [
        "train_df.columns"
      ],
      "metadata": {
        "colab": {
          "base_uri": "https://localhost:8080/"
        },
        "id": "giUUxBDJiVpe",
        "outputId": "fc348f12-dd75-45e6-d688-daa95c8e02e5"
      },
      "id": "giUUxBDJiVpe",
      "execution_count": null,
      "outputs": [
        {
          "output_type": "execute_result",
          "data": {
            "text/plain": [
              "Index(['id', 'query_id', 'product_id', 'label', 'query', 'query_class',\n",
              "       'product_name', 'product_class', 'category hierarchy',\n",
              "       'product_description', 'product_features', 'rating_count',\n",
              "       'average_rating', 'review_count', 'cleaned_name', 'cleaned_class',\n",
              "       'cleaned_description', 'cleaned_features', 'cleaned_hierarchy',\n",
              "       'cleaned_query', 'cleaned_query_class'],\n",
              "      dtype='object')"
            ]
          },
          "metadata": {},
          "execution_count": 145
        }
      ]
    },
    {
      "cell_type": "code",
      "source": [
        "\n",
        "test_df['cleaned_name'] = test_df['product_name'].apply(lambda x : preprocessing(x))\n",
        "test_df['cleaned_class'] = test_df['product_class'].apply(lambda x : preprocessing(x))\n",
        "test_df['cleaned_description'] = test_df['product_description'].apply(lambda x : preprocessing(x))\n",
        "test_df['cleaned_features'] = test_df['product_features'].apply(lambda x : preprocessing(x))\n",
        "test_df['cleaned_hierarchy'] = test_df['category hierarchy'].apply(lambda x : preprocessing(x))\n",
        "\n",
        "#preprocessing for search is implemented in a slight different manner \n",
        "test_df['cleaned_query'] = test_df['query'].apply(lambda x : preprocessing_search(x))\n",
        "test_df['cleaned_query_class'] = test_df['query_class'].apply(lambda x : preprocessing_search(x))\n",
        "test_df.head()\n"
      ],
      "metadata": {
        "colab": {
          "base_uri": "https://localhost:8080/",
          "height": 664
        },
        "id": "wS-cxuHicUKK",
        "outputId": "b874aeb5-8cc6-413a-d09b-8960692b1dea"
      },
      "id": "wS-cxuHicUKK",
      "execution_count": null,
      "outputs": [
        {
          "output_type": "execute_result",
          "data": {
            "text/plain": [
              "       id  query_id  product_id    label  \\\n",
              "0  118557       245       27720  Partial   \n",
              "1   57106       435       38339  Partial   \n",
              "2  214975        33       26413  Partial   \n",
              "3  224306       116       35276  Partial   \n",
              "4   67664        26       23900  Partial   \n",
              "\n",
              "                                               query        query_class  \\\n",
              "0                                       anchor decor         Wall Décor   \n",
              "1                                        shoe closet       Shoe Storage   \n",
              "2                         non slip shower floor tile  Floor & Wall Tile   \n",
              "3  brockham solid blackout thermal grommet curtai...  Curtains & Drapes   \n",
              "4                                     leather chairs      Accent Chairs   \n",
              "\n",
              "                                        product_name         product_class  \\\n",
              "0             shabby architectural window wall decor            Wall Décor   \n",
              "1                          7 pair shoe storage bench  Benches|Shoe Storage   \n",
              "2  argana 8 '' x 8 '' cement patterned wall & flo...     Floor & Wall Tile   \n",
              "3  christmas decorations old fashioned concept tw...     Curtains & Drapes   \n",
              "4                        carlita papasan patio chair   Patio Lounge Chairs   \n",
              "\n",
              "                                  category hierarchy  \\\n",
              "0        Décor & Pillows / Wall Décor / Wall Accents   \n",
              "1  Storage & Organization / Shoe Storage / All Sh...   \n",
              "2  Home Improvement / Flooring, Walls & Ceiling /...   \n",
              "3  Décor & Pillows / Window Treatments / Curtains...   \n",
              "4  Outdoor / Outdoor & Patio Furniture / Outdoor ...   \n",
              "\n",
              "                                 product_description  ... rating_count  \\\n",
              "0  the sanctuary of home , in these times , is wh...  ...          2.0   \n",
              "1  looking for a simple and functional shoe bench...  ...        452.0   \n",
              "2  this field tile offers a distinct perspective ...  ...         51.0   \n",
              "3  this 2 panels curtain set is printed on 100 % ...  ...          0.0   \n",
              "4  this papasan chair is a resort grade , trendy ...  ...         89.0   \n",
              "\n",
              "   average_rating  review_count  \\\n",
              "0             5.0           2.0   \n",
              "1             4.5         300.0   \n",
              "2             4.5          39.0   \n",
              "3             0.0           0.0   \n",
              "4             5.0          60.0   \n",
              "\n",
              "                                        cleaned_name         cleaned_class  \\\n",
              "0             shabby architectural window wall decor            wall é cor   \n",
              "1                          7 pair shoe storage bench  benches shoe storage   \n",
              "2  argana 8 inch x 8 inch cement patterned wall f...       floor wall tile   \n",
              "3  christmas decorations old fashioned concept tw...       curtains drapes   \n",
              "4                        carlita papasan patio chair   patio lounge chairs   \n",
              "\n",
              "                                 cleaned_description  \\\n",
              "0  sanctuary home times go recharge relax many ar...   \n",
              "1  looking simple functional shoe bench shoe rack...   \n",
              "2  field tile offers distinct perspective morocca...   \n",
              "3  2 panels curtain set printed 100 woven polyest...   \n",
              "4  papasan chair resort grade trendy comfortable ...   \n",
              "\n",
              "                                    cleaned_features  \\\n",
              "0  residential use 30 architecture non residentia...   \n",
              "1  light wood residential use 30 limited shoe sto...   \n",
              "2  cement natural pigments concrete mildew resist...   \n",
              "3  semi sheer 54 1 5 gray green pink indoor outdo...   \n",
              "4  residential use 50 black mid century modern mi...   \n",
              "\n",
              "                                   cleaned_hierarchy  \\\n",
              "0              é cor pillows wall é cor wall accents   \n",
              "1     storage organization shoe storage shoe storage   \n",
              "2  home improvement flooring walls ceiling floor ...   \n",
              "3  é cor pillows window treatments curtains drape...   \n",
              "4  outdoor outdoor patio furniture outdoor seatin...   \n",
              "\n",
              "                                       cleaned_query cleaned_query_class  \n",
              "0                                       anchor decor          wall é cor  \n",
              "1                                        shoe closet        shoe storage  \n",
              "2                         non slip shower floor tile     floor wall tile  \n",
              "3  brockham solid blackout thermal grommet curtai...     curtains drapes  \n",
              "4                                     leather chairs       accent chairs  \n",
              "\n",
              "[5 rows x 21 columns]"
            ],
            "text/html": [
              "\n",
              "  <div id=\"df-5469e7bd-8de3-425c-b2ad-774997615a11\">\n",
              "    <div class=\"colab-df-container\">\n",
              "      <div>\n",
              "<style scoped>\n",
              "    .dataframe tbody tr th:only-of-type {\n",
              "        vertical-align: middle;\n",
              "    }\n",
              "\n",
              "    .dataframe tbody tr th {\n",
              "        vertical-align: top;\n",
              "    }\n",
              "\n",
              "    .dataframe thead th {\n",
              "        text-align: right;\n",
              "    }\n",
              "</style>\n",
              "<table border=\"1\" class=\"dataframe\">\n",
              "  <thead>\n",
              "    <tr style=\"text-align: right;\">\n",
              "      <th></th>\n",
              "      <th>id</th>\n",
              "      <th>query_id</th>\n",
              "      <th>product_id</th>\n",
              "      <th>label</th>\n",
              "      <th>query</th>\n",
              "      <th>query_class</th>\n",
              "      <th>product_name</th>\n",
              "      <th>product_class</th>\n",
              "      <th>category hierarchy</th>\n",
              "      <th>product_description</th>\n",
              "      <th>...</th>\n",
              "      <th>rating_count</th>\n",
              "      <th>average_rating</th>\n",
              "      <th>review_count</th>\n",
              "      <th>cleaned_name</th>\n",
              "      <th>cleaned_class</th>\n",
              "      <th>cleaned_description</th>\n",
              "      <th>cleaned_features</th>\n",
              "      <th>cleaned_hierarchy</th>\n",
              "      <th>cleaned_query</th>\n",
              "      <th>cleaned_query_class</th>\n",
              "    </tr>\n",
              "  </thead>\n",
              "  <tbody>\n",
              "    <tr>\n",
              "      <th>0</th>\n",
              "      <td>118557</td>\n",
              "      <td>245</td>\n",
              "      <td>27720</td>\n",
              "      <td>Partial</td>\n",
              "      <td>anchor decor</td>\n",
              "      <td>Wall Décor</td>\n",
              "      <td>shabby architectural window wall decor</td>\n",
              "      <td>Wall Décor</td>\n",
              "      <td>Décor &amp; Pillows / Wall Décor / Wall Accents</td>\n",
              "      <td>the sanctuary of home , in these times , is wh...</td>\n",
              "      <td>...</td>\n",
              "      <td>2.0</td>\n",
              "      <td>5.0</td>\n",
              "      <td>2.0</td>\n",
              "      <td>shabby architectural window wall decor</td>\n",
              "      <td>wall é cor</td>\n",
              "      <td>sanctuary home times go recharge relax many ar...</td>\n",
              "      <td>residential use 30 architecture non residentia...</td>\n",
              "      <td>é cor pillows wall é cor wall accents</td>\n",
              "      <td>anchor decor</td>\n",
              "      <td>wall é cor</td>\n",
              "    </tr>\n",
              "    <tr>\n",
              "      <th>1</th>\n",
              "      <td>57106</td>\n",
              "      <td>435</td>\n",
              "      <td>38339</td>\n",
              "      <td>Partial</td>\n",
              "      <td>shoe closet</td>\n",
              "      <td>Shoe Storage</td>\n",
              "      <td>7 pair shoe storage bench</td>\n",
              "      <td>Benches|Shoe Storage</td>\n",
              "      <td>Storage &amp; Organization / Shoe Storage / All Sh...</td>\n",
              "      <td>looking for a simple and functional shoe bench...</td>\n",
              "      <td>...</td>\n",
              "      <td>452.0</td>\n",
              "      <td>4.5</td>\n",
              "      <td>300.0</td>\n",
              "      <td>7 pair shoe storage bench</td>\n",
              "      <td>benches shoe storage</td>\n",
              "      <td>looking simple functional shoe bench shoe rack...</td>\n",
              "      <td>light wood residential use 30 limited shoe sto...</td>\n",
              "      <td>storage organization shoe storage shoe storage</td>\n",
              "      <td>shoe closet</td>\n",
              "      <td>shoe storage</td>\n",
              "    </tr>\n",
              "    <tr>\n",
              "      <th>2</th>\n",
              "      <td>214975</td>\n",
              "      <td>33</td>\n",
              "      <td>26413</td>\n",
              "      <td>Partial</td>\n",
              "      <td>non slip shower floor tile</td>\n",
              "      <td>Floor &amp; Wall Tile</td>\n",
              "      <td>argana 8 '' x 8 '' cement patterned wall &amp; flo...</td>\n",
              "      <td>Floor &amp; Wall Tile</td>\n",
              "      <td>Home Improvement / Flooring, Walls &amp; Ceiling /...</td>\n",
              "      <td>this field tile offers a distinct perspective ...</td>\n",
              "      <td>...</td>\n",
              "      <td>51.0</td>\n",
              "      <td>4.5</td>\n",
              "      <td>39.0</td>\n",
              "      <td>argana 8 inch x 8 inch cement patterned wall f...</td>\n",
              "      <td>floor wall tile</td>\n",
              "      <td>field tile offers distinct perspective morocca...</td>\n",
              "      <td>cement natural pigments concrete mildew resist...</td>\n",
              "      <td>home improvement flooring walls ceiling floor ...</td>\n",
              "      <td>non slip shower floor tile</td>\n",
              "      <td>floor wall tile</td>\n",
              "    </tr>\n",
              "    <tr>\n",
              "      <th>3</th>\n",
              "      <td>224306</td>\n",
              "      <td>116</td>\n",
              "      <td>35276</td>\n",
              "      <td>Partial</td>\n",
              "      <td>brockham solid blackout thermal grommet curtai...</td>\n",
              "      <td>Curtains &amp; Drapes</td>\n",
              "      <td>christmas decorations old fashioned concept tw...</td>\n",
              "      <td>Curtains &amp; Drapes</td>\n",
              "      <td>Décor &amp; Pillows / Window Treatments / Curtains...</td>\n",
              "      <td>this 2 panels curtain set is printed on 100 % ...</td>\n",
              "      <td>...</td>\n",
              "      <td>0.0</td>\n",
              "      <td>0.0</td>\n",
              "      <td>0.0</td>\n",
              "      <td>christmas decorations old fashioned concept tw...</td>\n",
              "      <td>curtains drapes</td>\n",
              "      <td>2 panels curtain set printed 100 woven polyest...</td>\n",
              "      <td>semi sheer 54 1 5 gray green pink indoor outdo...</td>\n",
              "      <td>é cor pillows window treatments curtains drape...</td>\n",
              "      <td>brockham solid blackout thermal grommet curtai...</td>\n",
              "      <td>curtains drapes</td>\n",
              "    </tr>\n",
              "    <tr>\n",
              "      <th>4</th>\n",
              "      <td>67664</td>\n",
              "      <td>26</td>\n",
              "      <td>23900</td>\n",
              "      <td>Partial</td>\n",
              "      <td>leather chairs</td>\n",
              "      <td>Accent Chairs</td>\n",
              "      <td>carlita papasan patio chair</td>\n",
              "      <td>Patio Lounge Chairs</td>\n",
              "      <td>Outdoor / Outdoor &amp; Patio Furniture / Outdoor ...</td>\n",
              "      <td>this papasan chair is a resort grade , trendy ...</td>\n",
              "      <td>...</td>\n",
              "      <td>89.0</td>\n",
              "      <td>5.0</td>\n",
              "      <td>60.0</td>\n",
              "      <td>carlita papasan patio chair</td>\n",
              "      <td>patio lounge chairs</td>\n",
              "      <td>papasan chair resort grade trendy comfortable ...</td>\n",
              "      <td>residential use 50 black mid century modern mi...</td>\n",
              "      <td>outdoor outdoor patio furniture outdoor seatin...</td>\n",
              "      <td>leather chairs</td>\n",
              "      <td>accent chairs</td>\n",
              "    </tr>\n",
              "  </tbody>\n",
              "</table>\n",
              "<p>5 rows × 21 columns</p>\n",
              "</div>\n",
              "      <button class=\"colab-df-convert\" onclick=\"convertToInteractive('df-5469e7bd-8de3-425c-b2ad-774997615a11')\"\n",
              "              title=\"Convert this dataframe to an interactive table.\"\n",
              "              style=\"display:none;\">\n",
              "        \n",
              "  <svg xmlns=\"http://www.w3.org/2000/svg\" height=\"24px\"viewBox=\"0 0 24 24\"\n",
              "       width=\"24px\">\n",
              "    <path d=\"M0 0h24v24H0V0z\" fill=\"none\"/>\n",
              "    <path d=\"M18.56 5.44l.94 2.06.94-2.06 2.06-.94-2.06-.94-.94-2.06-.94 2.06-2.06.94zm-11 1L8.5 8.5l.94-2.06 2.06-.94-2.06-.94L8.5 2.5l-.94 2.06-2.06.94zm10 10l.94 2.06.94-2.06 2.06-.94-2.06-.94-.94-2.06-.94 2.06-2.06.94z\"/><path d=\"M17.41 7.96l-1.37-1.37c-.4-.4-.92-.59-1.43-.59-.52 0-1.04.2-1.43.59L10.3 9.45l-7.72 7.72c-.78.78-.78 2.05 0 2.83L4 21.41c.39.39.9.59 1.41.59.51 0 1.02-.2 1.41-.59l7.78-7.78 2.81-2.81c.8-.78.8-2.07 0-2.86zM5.41 20L4 18.59l7.72-7.72 1.47 1.35L5.41 20z\"/>\n",
              "  </svg>\n",
              "      </button>\n",
              "      \n",
              "  <style>\n",
              "    .colab-df-container {\n",
              "      display:flex;\n",
              "      flex-wrap:wrap;\n",
              "      gap: 12px;\n",
              "    }\n",
              "\n",
              "    .colab-df-convert {\n",
              "      background-color: #E8F0FE;\n",
              "      border: none;\n",
              "      border-radius: 50%;\n",
              "      cursor: pointer;\n",
              "      display: none;\n",
              "      fill: #1967D2;\n",
              "      height: 32px;\n",
              "      padding: 0 0 0 0;\n",
              "      width: 32px;\n",
              "    }\n",
              "\n",
              "    .colab-df-convert:hover {\n",
              "      background-color: #E2EBFA;\n",
              "      box-shadow: 0px 1px 2px rgba(60, 64, 67, 0.3), 0px 1px 3px 1px rgba(60, 64, 67, 0.15);\n",
              "      fill: #174EA6;\n",
              "    }\n",
              "\n",
              "    [theme=dark] .colab-df-convert {\n",
              "      background-color: #3B4455;\n",
              "      fill: #D2E3FC;\n",
              "    }\n",
              "\n",
              "    [theme=dark] .colab-df-convert:hover {\n",
              "      background-color: #434B5C;\n",
              "      box-shadow: 0px 1px 3px 1px rgba(0, 0, 0, 0.15);\n",
              "      filter: drop-shadow(0px 1px 2px rgba(0, 0, 0, 0.3));\n",
              "      fill: #FFFFFF;\n",
              "    }\n",
              "  </style>\n",
              "\n",
              "      <script>\n",
              "        const buttonEl =\n",
              "          document.querySelector('#df-5469e7bd-8de3-425c-b2ad-774997615a11 button.colab-df-convert');\n",
              "        buttonEl.style.display =\n",
              "          google.colab.kernel.accessAllowed ? 'block' : 'none';\n",
              "\n",
              "        async function convertToInteractive(key) {\n",
              "          const element = document.querySelector('#df-5469e7bd-8de3-425c-b2ad-774997615a11');\n",
              "          const dataTable =\n",
              "            await google.colab.kernel.invokeFunction('convertToInteractive',\n",
              "                                                     [key], {});\n",
              "          if (!dataTable) return;\n",
              "\n",
              "          const docLinkHtml = 'Like what you see? Visit the ' +\n",
              "            '<a target=\"_blank\" href=https://colab.research.google.com/notebooks/data_table.ipynb>data table notebook</a>'\n",
              "            + ' to learn more about interactive tables.';\n",
              "          element.innerHTML = '';\n",
              "          dataTable['output_type'] = 'display_data';\n",
              "          await google.colab.output.renderOutput(dataTable, element);\n",
              "          const docLink = document.createElement('div');\n",
              "          docLink.innerHTML = docLinkHtml;\n",
              "          element.appendChild(docLink);\n",
              "        }\n",
              "      </script>\n",
              "    </div>\n",
              "  </div>\n",
              "  "
            ]
          },
          "metadata": {},
          "execution_count": 182
        }
      ]
    },
    {
      "cell_type": "markdown",
      "source": [
        "###Further cleaning"
      ],
      "metadata": {
        "id": "jDQBZyFJnpgA"
      },
      "id": "jDQBZyFJnpgA"
    },
    {
      "cell_type": "code",
      "source": [
        "\n",
        "\n",
        "#stop word removal and stemming\n",
        "#We didn't do this before because we wanted to fix the typos in the searh term first \n",
        "porter = PorterStemmer()\n",
        "\n",
        "def stemming(sent):\n",
        "  words = sent.split()\n",
        "  words = [porter.stem(word) for word in words]\n",
        "  return ' '.join(words)\n",
        "\n",
        "#storing the final data in a new dataframe 'cleaned_df' \n",
        "clean_df_train = train_df[['id', 'query_id', 'product_id', 'rating_count', 'average_rating', 'review_count', 'label']]\n",
        "clean_df_train['name'] = train_df['cleaned_name'].apply(lambda x : stemming(x))\n",
        "clean_df_train['class'] = train_df['cleaned_class'].apply(lambda x : stemming(x))\n",
        "clean_df_train['description'] = train_df['cleaned_description'].apply(lambda x : stemming(x))\n",
        "clean_df_train['features'] = train_df['cleaned_features'].apply(lambda x : stemming(x))\n",
        "clean_df_train['hierarchy'] = train_df['cleaned_hierarchy'].apply(lambda x : stemming(x))\n",
        "\n",
        "#stemming for search is implemented in a slight different manner \n",
        "clean_df_train['query'] = train_df['cleaned_query'].apply(lambda x : stemming(x))\n",
        "clean_df_train['query_class'] = train_df['cleaned_query_class'].apply(lambda x : stemming(x))\n",
        "clean_df_train.head()\n"
      ],
      "metadata": {
        "colab": {
          "base_uri": "https://localhost:8080/",
          "height": 1000
        },
        "id": "MXzGssWudjVN",
        "outputId": "918c386b-61fd-43d5-de42-0baf67c8fd78"
      },
      "id": "MXzGssWudjVN",
      "execution_count": null,
      "outputs": [
        {
          "output_type": "stream",
          "name": "stderr",
          "text": [
            "/usr/local/lib/python3.7/dist-packages/ipykernel_launcher.py:14: SettingWithCopyWarning: \n",
            "A value is trying to be set on a copy of a slice from a DataFrame.\n",
            "Try using .loc[row_indexer,col_indexer] = value instead\n",
            "\n",
            "See the caveats in the documentation: https://pandas.pydata.org/pandas-docs/stable/user_guide/indexing.html#returning-a-view-versus-a-copy\n",
            "  \n",
            "/usr/local/lib/python3.7/dist-packages/ipykernel_launcher.py:15: SettingWithCopyWarning: \n",
            "A value is trying to be set on a copy of a slice from a DataFrame.\n",
            "Try using .loc[row_indexer,col_indexer] = value instead\n",
            "\n",
            "See the caveats in the documentation: https://pandas.pydata.org/pandas-docs/stable/user_guide/indexing.html#returning-a-view-versus-a-copy\n",
            "  from ipykernel import kernelapp as app\n",
            "/usr/local/lib/python3.7/dist-packages/ipykernel_launcher.py:16: SettingWithCopyWarning: \n",
            "A value is trying to be set on a copy of a slice from a DataFrame.\n",
            "Try using .loc[row_indexer,col_indexer] = value instead\n",
            "\n",
            "See the caveats in the documentation: https://pandas.pydata.org/pandas-docs/stable/user_guide/indexing.html#returning-a-view-versus-a-copy\n",
            "  app.launch_new_instance()\n",
            "/usr/local/lib/python3.7/dist-packages/ipykernel_launcher.py:17: SettingWithCopyWarning: \n",
            "A value is trying to be set on a copy of a slice from a DataFrame.\n",
            "Try using .loc[row_indexer,col_indexer] = value instead\n",
            "\n",
            "See the caveats in the documentation: https://pandas.pydata.org/pandas-docs/stable/user_guide/indexing.html#returning-a-view-versus-a-copy\n",
            "/usr/local/lib/python3.7/dist-packages/ipykernel_launcher.py:18: SettingWithCopyWarning: \n",
            "A value is trying to be set on a copy of a slice from a DataFrame.\n",
            "Try using .loc[row_indexer,col_indexer] = value instead\n",
            "\n",
            "See the caveats in the documentation: https://pandas.pydata.org/pandas-docs/stable/user_guide/indexing.html#returning-a-view-versus-a-copy\n",
            "/usr/local/lib/python3.7/dist-packages/ipykernel_launcher.py:21: SettingWithCopyWarning: \n",
            "A value is trying to be set on a copy of a slice from a DataFrame.\n",
            "Try using .loc[row_indexer,col_indexer] = value instead\n",
            "\n",
            "See the caveats in the documentation: https://pandas.pydata.org/pandas-docs/stable/user_guide/indexing.html#returning-a-view-versus-a-copy\n",
            "/usr/local/lib/python3.7/dist-packages/ipykernel_launcher.py:22: SettingWithCopyWarning: \n",
            "A value is trying to be set on a copy of a slice from a DataFrame.\n",
            "Try using .loc[row_indexer,col_indexer] = value instead\n",
            "\n",
            "See the caveats in the documentation: https://pandas.pydata.org/pandas-docs/stable/user_guide/indexing.html#returning-a-view-versus-a-copy\n"
          ]
        },
        {
          "output_type": "execute_result",
          "data": {
            "text/plain": [
              "       id  query_id  product_id  rating_count  average_rating  review_count  \\\n",
              "0  231568       131       29684         192.0             4.5         152.0   \n",
              "1  200197       476       18616           0.0             0.0           0.0   \n",
              "2  164626       413        9365           0.0             0.0           0.0   \n",
              "3  178669       427       12848          52.0             5.0          39.0   \n",
              "4   20622       140       16271         119.0             5.0          75.0   \n",
              "\n",
              "        label                                               name  \\\n",
              "0  Irrelevant                         garrett rock chair cushion   \n",
              "1       Exact                            atale king standard bed   \n",
              "2     Partial                       washtenaw patio sofa cushion   \n",
              "3     Partial  penni 1 inch x 1 inch porcelain mosaic wall fl...   \n",
              "4     Partial                galvan divid organ metal wire crate   \n",
              "\n",
              "                   class                                        description  \\\n",
              "0    patio rocker glider  relax 2 piec fold rock chair set two rock chai...   \n",
              "1                    bed  atale bed provid command presenc room contempo...   \n",
              "2             patio sofa  patio sofa cushion room three sit comfort even...   \n",
              "3        floor wall tile  penni 1 inch x 1 inch porcelain mosaic wall fl...   \n",
              "4  box bin basket bucket  galvan divid organ metal wire crate galvan met...   \n",
              "\n",
              "                                            features  \\\n",
              "0  navi blue gray powder coat steel 35 5 resident...   \n",
              "1  residenti use 117 king none 52 200 modern 80 s...   \n",
              "2  resin wicker patio sofa 6 5 tradit 38 850 79 s...   \n",
              "3  impervi heat resist fire resist residenti use ...   \n",
              "4  galvan metal wire silver rectangl 1 industri c...   \n",
              "\n",
              "                                           hierarchy  \\\n",
              "0  outdoor outdoor patio furnitur outdoor seat pa...   \n",
              "1        furnitur bedroom furnitur bed headboard bed   \n",
              "2  outdoor outdoor patio furnitur outdoor seat pa...   \n",
              "3  home improv floor wall ceil floor tile wall ti...   \n",
              "4  storag organ storag contain drawer storag contain   \n",
              "\n",
              "                           query            query_class  \n",
              "0                      kid chair              kid chair  \n",
              "1                   hardwood bed                    bed  \n",
              "2  burruss patio section cushion    outdoor convers set  \n",
              "3                       low tile        floor wall tile  \n",
              "4              wire basket divid  box bin basket bucket  "
            ],
            "text/html": [
              "\n",
              "  <div id=\"df-d4608da8-c92b-40e4-9853-e6aff26effed\">\n",
              "    <div class=\"colab-df-container\">\n",
              "      <div>\n",
              "<style scoped>\n",
              "    .dataframe tbody tr th:only-of-type {\n",
              "        vertical-align: middle;\n",
              "    }\n",
              "\n",
              "    .dataframe tbody tr th {\n",
              "        vertical-align: top;\n",
              "    }\n",
              "\n",
              "    .dataframe thead th {\n",
              "        text-align: right;\n",
              "    }\n",
              "</style>\n",
              "<table border=\"1\" class=\"dataframe\">\n",
              "  <thead>\n",
              "    <tr style=\"text-align: right;\">\n",
              "      <th></th>\n",
              "      <th>id</th>\n",
              "      <th>query_id</th>\n",
              "      <th>product_id</th>\n",
              "      <th>rating_count</th>\n",
              "      <th>average_rating</th>\n",
              "      <th>review_count</th>\n",
              "      <th>label</th>\n",
              "      <th>name</th>\n",
              "      <th>class</th>\n",
              "      <th>description</th>\n",
              "      <th>features</th>\n",
              "      <th>hierarchy</th>\n",
              "      <th>query</th>\n",
              "      <th>query_class</th>\n",
              "    </tr>\n",
              "  </thead>\n",
              "  <tbody>\n",
              "    <tr>\n",
              "      <th>0</th>\n",
              "      <td>231568</td>\n",
              "      <td>131</td>\n",
              "      <td>29684</td>\n",
              "      <td>192.0</td>\n",
              "      <td>4.5</td>\n",
              "      <td>152.0</td>\n",
              "      <td>Irrelevant</td>\n",
              "      <td>garrett rock chair cushion</td>\n",
              "      <td>patio rocker glider</td>\n",
              "      <td>relax 2 piec fold rock chair set two rock chai...</td>\n",
              "      <td>navi blue gray powder coat steel 35 5 resident...</td>\n",
              "      <td>outdoor outdoor patio furnitur outdoor seat pa...</td>\n",
              "      <td>kid chair</td>\n",
              "      <td>kid chair</td>\n",
              "    </tr>\n",
              "    <tr>\n",
              "      <th>1</th>\n",
              "      <td>200197</td>\n",
              "      <td>476</td>\n",
              "      <td>18616</td>\n",
              "      <td>0.0</td>\n",
              "      <td>0.0</td>\n",
              "      <td>0.0</td>\n",
              "      <td>Exact</td>\n",
              "      <td>atale king standard bed</td>\n",
              "      <td>bed</td>\n",
              "      <td>atale bed provid command presenc room contempo...</td>\n",
              "      <td>residenti use 117 king none 52 200 modern 80 s...</td>\n",
              "      <td>furnitur bedroom furnitur bed headboard bed</td>\n",
              "      <td>hardwood bed</td>\n",
              "      <td>bed</td>\n",
              "    </tr>\n",
              "    <tr>\n",
              "      <th>2</th>\n",
              "      <td>164626</td>\n",
              "      <td>413</td>\n",
              "      <td>9365</td>\n",
              "      <td>0.0</td>\n",
              "      <td>0.0</td>\n",
              "      <td>0.0</td>\n",
              "      <td>Partial</td>\n",
              "      <td>washtenaw patio sofa cushion</td>\n",
              "      <td>patio sofa</td>\n",
              "      <td>patio sofa cushion room three sit comfort even...</td>\n",
              "      <td>resin wicker patio sofa 6 5 tradit 38 850 79 s...</td>\n",
              "      <td>outdoor outdoor patio furnitur outdoor seat pa...</td>\n",
              "      <td>burruss patio section cushion</td>\n",
              "      <td>outdoor convers set</td>\n",
              "    </tr>\n",
              "    <tr>\n",
              "      <th>3</th>\n",
              "      <td>178669</td>\n",
              "      <td>427</td>\n",
              "      <td>12848</td>\n",
              "      <td>52.0</td>\n",
              "      <td>5.0</td>\n",
              "      <td>39.0</td>\n",
              "      <td>Partial</td>\n",
              "      <td>penni 1 inch x 1 inch porcelain mosaic wall fl...</td>\n",
              "      <td>floor wall tile</td>\n",
              "      <td>penni 1 inch x 1 inch porcelain mosaic wall fl...</td>\n",
              "      <td>impervi heat resist fire resist residenti use ...</td>\n",
              "      <td>home improv floor wall ceil floor tile wall ti...</td>\n",
              "      <td>low tile</td>\n",
              "      <td>floor wall tile</td>\n",
              "    </tr>\n",
              "    <tr>\n",
              "      <th>4</th>\n",
              "      <td>20622</td>\n",
              "      <td>140</td>\n",
              "      <td>16271</td>\n",
              "      <td>119.0</td>\n",
              "      <td>5.0</td>\n",
              "      <td>75.0</td>\n",
              "      <td>Partial</td>\n",
              "      <td>galvan divid organ metal wire crate</td>\n",
              "      <td>box bin basket bucket</td>\n",
              "      <td>galvan divid organ metal wire crate galvan met...</td>\n",
              "      <td>galvan metal wire silver rectangl 1 industri c...</td>\n",
              "      <td>storag organ storag contain drawer storag contain</td>\n",
              "      <td>wire basket divid</td>\n",
              "      <td>box bin basket bucket</td>\n",
              "    </tr>\n",
              "  </tbody>\n",
              "</table>\n",
              "</div>\n",
              "      <button class=\"colab-df-convert\" onclick=\"convertToInteractive('df-d4608da8-c92b-40e4-9853-e6aff26effed')\"\n",
              "              title=\"Convert this dataframe to an interactive table.\"\n",
              "              style=\"display:none;\">\n",
              "        \n",
              "  <svg xmlns=\"http://www.w3.org/2000/svg\" height=\"24px\"viewBox=\"0 0 24 24\"\n",
              "       width=\"24px\">\n",
              "    <path d=\"M0 0h24v24H0V0z\" fill=\"none\"/>\n",
              "    <path d=\"M18.56 5.44l.94 2.06.94-2.06 2.06-.94-2.06-.94-.94-2.06-.94 2.06-2.06.94zm-11 1L8.5 8.5l.94-2.06 2.06-.94-2.06-.94L8.5 2.5l-.94 2.06-2.06.94zm10 10l.94 2.06.94-2.06 2.06-.94-2.06-.94-.94-2.06-.94 2.06-2.06.94z\"/><path d=\"M17.41 7.96l-1.37-1.37c-.4-.4-.92-.59-1.43-.59-.52 0-1.04.2-1.43.59L10.3 9.45l-7.72 7.72c-.78.78-.78 2.05 0 2.83L4 21.41c.39.39.9.59 1.41.59.51 0 1.02-.2 1.41-.59l7.78-7.78 2.81-2.81c.8-.78.8-2.07 0-2.86zM5.41 20L4 18.59l7.72-7.72 1.47 1.35L5.41 20z\"/>\n",
              "  </svg>\n",
              "      </button>\n",
              "      \n",
              "  <style>\n",
              "    .colab-df-container {\n",
              "      display:flex;\n",
              "      flex-wrap:wrap;\n",
              "      gap: 12px;\n",
              "    }\n",
              "\n",
              "    .colab-df-convert {\n",
              "      background-color: #E8F0FE;\n",
              "      border: none;\n",
              "      border-radius: 50%;\n",
              "      cursor: pointer;\n",
              "      display: none;\n",
              "      fill: #1967D2;\n",
              "      height: 32px;\n",
              "      padding: 0 0 0 0;\n",
              "      width: 32px;\n",
              "    }\n",
              "\n",
              "    .colab-df-convert:hover {\n",
              "      background-color: #E2EBFA;\n",
              "      box-shadow: 0px 1px 2px rgba(60, 64, 67, 0.3), 0px 1px 3px 1px rgba(60, 64, 67, 0.15);\n",
              "      fill: #174EA6;\n",
              "    }\n",
              "\n",
              "    [theme=dark] .colab-df-convert {\n",
              "      background-color: #3B4455;\n",
              "      fill: #D2E3FC;\n",
              "    }\n",
              "\n",
              "    [theme=dark] .colab-df-convert:hover {\n",
              "      background-color: #434B5C;\n",
              "      box-shadow: 0px 1px 3px 1px rgba(0, 0, 0, 0.15);\n",
              "      filter: drop-shadow(0px 1px 2px rgba(0, 0, 0, 0.3));\n",
              "      fill: #FFFFFF;\n",
              "    }\n",
              "  </style>\n",
              "\n",
              "      <script>\n",
              "        const buttonEl =\n",
              "          document.querySelector('#df-d4608da8-c92b-40e4-9853-e6aff26effed button.colab-df-convert');\n",
              "        buttonEl.style.display =\n",
              "          google.colab.kernel.accessAllowed ? 'block' : 'none';\n",
              "\n",
              "        async function convertToInteractive(key) {\n",
              "          const element = document.querySelector('#df-d4608da8-c92b-40e4-9853-e6aff26effed');\n",
              "          const dataTable =\n",
              "            await google.colab.kernel.invokeFunction('convertToInteractive',\n",
              "                                                     [key], {});\n",
              "          if (!dataTable) return;\n",
              "\n",
              "          const docLinkHtml = 'Like what you see? Visit the ' +\n",
              "            '<a target=\"_blank\" href=https://colab.research.google.com/notebooks/data_table.ipynb>data table notebook</a>'\n",
              "            + ' to learn more about interactive tables.';\n",
              "          element.innerHTML = '';\n",
              "          dataTable['output_type'] = 'display_data';\n",
              "          await google.colab.output.renderOutput(dataTable, element);\n",
              "          const docLink = document.createElement('div');\n",
              "          docLink.innerHTML = docLinkHtml;\n",
              "          element.appendChild(docLink);\n",
              "        }\n",
              "      </script>\n",
              "    </div>\n",
              "  </div>\n",
              "  "
            ]
          },
          "metadata": {},
          "execution_count": 185
        }
      ]
    },
    {
      "cell_type": "code",
      "source": [
        "clean_df_test = test_df[['id', 'query_id', 'product_id', 'rating_count', 'average_rating', 'review_count', 'label']]\n",
        "clean_df_test['name'] = test_df['cleaned_name'].apply(lambda x : stemming(x))\n",
        "clean_df_test['class'] = test_df['cleaned_class'].apply(lambda x : stemming(x))\n",
        "clean_df_test['description'] = test_df['cleaned_description'].apply(lambda x : stemming(x))\n",
        "clean_df_test['features'] = test_df['cleaned_features'].apply(lambda x : stemming(x))\n",
        "clean_df_test['hierarchy'] = test_df['cleaned_hierarchy'].apply(lambda x : stemming(x))\n",
        "\n",
        "#stemming for search is implemented in a slight different manner \n",
        "clean_df_test['query'] = test_df['cleaned_query'].apply(lambda x : stemming(x))\n",
        "clean_df_test['query_class'] = test_df['cleaned_query_class'].apply(lambda x : stemming(x))\n",
        "clean_df_test.head()"
      ],
      "metadata": {
        "colab": {
          "base_uri": "https://localhost:8080/",
          "height": 1000
        },
        "id": "lV6oRg_MdT1s",
        "outputId": "56ff1db5-4ece-4ee8-dd21-427b4ecd2352"
      },
      "id": "lV6oRg_MdT1s",
      "execution_count": null,
      "outputs": [
        {
          "output_type": "stream",
          "name": "stderr",
          "text": [
            "/usr/local/lib/python3.7/dist-packages/ipykernel_launcher.py:2: SettingWithCopyWarning: \n",
            "A value is trying to be set on a copy of a slice from a DataFrame.\n",
            "Try using .loc[row_indexer,col_indexer] = value instead\n",
            "\n",
            "See the caveats in the documentation: https://pandas.pydata.org/pandas-docs/stable/user_guide/indexing.html#returning-a-view-versus-a-copy\n",
            "  \n",
            "/usr/local/lib/python3.7/dist-packages/ipykernel_launcher.py:3: SettingWithCopyWarning: \n",
            "A value is trying to be set on a copy of a slice from a DataFrame.\n",
            "Try using .loc[row_indexer,col_indexer] = value instead\n",
            "\n",
            "See the caveats in the documentation: https://pandas.pydata.org/pandas-docs/stable/user_guide/indexing.html#returning-a-view-versus-a-copy\n",
            "  This is separate from the ipykernel package so we can avoid doing imports until\n",
            "/usr/local/lib/python3.7/dist-packages/ipykernel_launcher.py:4: SettingWithCopyWarning: \n",
            "A value is trying to be set on a copy of a slice from a DataFrame.\n",
            "Try using .loc[row_indexer,col_indexer] = value instead\n",
            "\n",
            "See the caveats in the documentation: https://pandas.pydata.org/pandas-docs/stable/user_guide/indexing.html#returning-a-view-versus-a-copy\n",
            "  after removing the cwd from sys.path.\n",
            "/usr/local/lib/python3.7/dist-packages/ipykernel_launcher.py:5: SettingWithCopyWarning: \n",
            "A value is trying to be set on a copy of a slice from a DataFrame.\n",
            "Try using .loc[row_indexer,col_indexer] = value instead\n",
            "\n",
            "See the caveats in the documentation: https://pandas.pydata.org/pandas-docs/stable/user_guide/indexing.html#returning-a-view-versus-a-copy\n",
            "  \"\"\"\n",
            "/usr/local/lib/python3.7/dist-packages/ipykernel_launcher.py:6: SettingWithCopyWarning: \n",
            "A value is trying to be set on a copy of a slice from a DataFrame.\n",
            "Try using .loc[row_indexer,col_indexer] = value instead\n",
            "\n",
            "See the caveats in the documentation: https://pandas.pydata.org/pandas-docs/stable/user_guide/indexing.html#returning-a-view-versus-a-copy\n",
            "  \n",
            "/usr/local/lib/python3.7/dist-packages/ipykernel_launcher.py:9: SettingWithCopyWarning: \n",
            "A value is trying to be set on a copy of a slice from a DataFrame.\n",
            "Try using .loc[row_indexer,col_indexer] = value instead\n",
            "\n",
            "See the caveats in the documentation: https://pandas.pydata.org/pandas-docs/stable/user_guide/indexing.html#returning-a-view-versus-a-copy\n",
            "  if __name__ == '__main__':\n",
            "/usr/local/lib/python3.7/dist-packages/ipykernel_launcher.py:10: SettingWithCopyWarning: \n",
            "A value is trying to be set on a copy of a slice from a DataFrame.\n",
            "Try using .loc[row_indexer,col_indexer] = value instead\n",
            "\n",
            "See the caveats in the documentation: https://pandas.pydata.org/pandas-docs/stable/user_guide/indexing.html#returning-a-view-versus-a-copy\n",
            "  # Remove the CWD from sys.path while we load stuff.\n"
          ]
        },
        {
          "output_type": "execute_result",
          "data": {
            "text/plain": [
              "       id  query_id  product_id  rating_count  average_rating  review_count  \\\n",
              "0  118557       245       27720           2.0             5.0           2.0   \n",
              "1   57106       435       38339         452.0             4.5         300.0   \n",
              "2  214975        33       26413          51.0             4.5          39.0   \n",
              "3  224306       116       35276           0.0             0.0           0.0   \n",
              "4   67664        26       23900          89.0             5.0          60.0   \n",
              "\n",
              "     label                                               name  \\\n",
              "0  Partial               shabbi architectur window wall decor   \n",
              "1  Partial                           7 pair shoe storag bench   \n",
              "2  Partial  argana 8 inch x 8 inch cement pattern wall flo...   \n",
              "3  Partial  christma decor old fashion concept twig rustic...   \n",
              "4  Partial                        carlita papasan patio chair   \n",
              "\n",
              "               class                                        description  \\\n",
              "0         wall é cor  sanctuari home time go recharg relax mani arch...   \n",
              "1  bench shoe storag  look simpl function shoe bench shoe rack bench...   \n",
              "2    floor wall tile  field tile offer distinct perspect moroccan ol...   \n",
              "3      curtain drape  2 panel curtain set print 100 woven polyest co...   \n",
              "4  patio loung chair  papasan chair resort grade trendi comfort styl...   \n",
              "\n",
              "                                            features  \\\n",
              "0  residenti use 30 architectur non residenti use...   \n",
              "1  light wood residenti use 30 limit shoe storag ...   \n",
              "2  cement natur pigment concret mildew resist 5 h...   \n",
              "3  semi sheer 54 1 5 gray green pink indoor outdo...   \n",
              "4  residenti use 50 black mid centuri modern mild...   \n",
              "\n",
              "                                           hierarchy  \\\n",
              "0                é cor pillow wall é cor wall accent   \n",
              "1               storag organ shoe storag shoe storag   \n",
              "2   home improv floor wall ceil floor tile wall tile   \n",
              "3  é cor pillow window treatment curtain drape 90...   \n",
              "4  outdoor outdoor patio furnitur outdoor seat pa...   \n",
              "\n",
              "                                               query      query_class  \n",
              "0                                       anchor decor       wall é cor  \n",
              "1                                        shoe closet      shoe storag  \n",
              "2                         non slip shower floor tile  floor wall tile  \n",
              "3  brockham solid blackout thermal grommet curtai...    curtain drape  \n",
              "4                                      leather chair     accent chair  "
            ],
            "text/html": [
              "\n",
              "  <div id=\"df-1ceeef55-9462-4a93-982c-25ad52539ccd\">\n",
              "    <div class=\"colab-df-container\">\n",
              "      <div>\n",
              "<style scoped>\n",
              "    .dataframe tbody tr th:only-of-type {\n",
              "        vertical-align: middle;\n",
              "    }\n",
              "\n",
              "    .dataframe tbody tr th {\n",
              "        vertical-align: top;\n",
              "    }\n",
              "\n",
              "    .dataframe thead th {\n",
              "        text-align: right;\n",
              "    }\n",
              "</style>\n",
              "<table border=\"1\" class=\"dataframe\">\n",
              "  <thead>\n",
              "    <tr style=\"text-align: right;\">\n",
              "      <th></th>\n",
              "      <th>id</th>\n",
              "      <th>query_id</th>\n",
              "      <th>product_id</th>\n",
              "      <th>rating_count</th>\n",
              "      <th>average_rating</th>\n",
              "      <th>review_count</th>\n",
              "      <th>label</th>\n",
              "      <th>name</th>\n",
              "      <th>class</th>\n",
              "      <th>description</th>\n",
              "      <th>features</th>\n",
              "      <th>hierarchy</th>\n",
              "      <th>query</th>\n",
              "      <th>query_class</th>\n",
              "    </tr>\n",
              "  </thead>\n",
              "  <tbody>\n",
              "    <tr>\n",
              "      <th>0</th>\n",
              "      <td>118557</td>\n",
              "      <td>245</td>\n",
              "      <td>27720</td>\n",
              "      <td>2.0</td>\n",
              "      <td>5.0</td>\n",
              "      <td>2.0</td>\n",
              "      <td>Partial</td>\n",
              "      <td>shabbi architectur window wall decor</td>\n",
              "      <td>wall é cor</td>\n",
              "      <td>sanctuari home time go recharg relax mani arch...</td>\n",
              "      <td>residenti use 30 architectur non residenti use...</td>\n",
              "      <td>é cor pillow wall é cor wall accent</td>\n",
              "      <td>anchor decor</td>\n",
              "      <td>wall é cor</td>\n",
              "    </tr>\n",
              "    <tr>\n",
              "      <th>1</th>\n",
              "      <td>57106</td>\n",
              "      <td>435</td>\n",
              "      <td>38339</td>\n",
              "      <td>452.0</td>\n",
              "      <td>4.5</td>\n",
              "      <td>300.0</td>\n",
              "      <td>Partial</td>\n",
              "      <td>7 pair shoe storag bench</td>\n",
              "      <td>bench shoe storag</td>\n",
              "      <td>look simpl function shoe bench shoe rack bench...</td>\n",
              "      <td>light wood residenti use 30 limit shoe storag ...</td>\n",
              "      <td>storag organ shoe storag shoe storag</td>\n",
              "      <td>shoe closet</td>\n",
              "      <td>shoe storag</td>\n",
              "    </tr>\n",
              "    <tr>\n",
              "      <th>2</th>\n",
              "      <td>214975</td>\n",
              "      <td>33</td>\n",
              "      <td>26413</td>\n",
              "      <td>51.0</td>\n",
              "      <td>4.5</td>\n",
              "      <td>39.0</td>\n",
              "      <td>Partial</td>\n",
              "      <td>argana 8 inch x 8 inch cement pattern wall flo...</td>\n",
              "      <td>floor wall tile</td>\n",
              "      <td>field tile offer distinct perspect moroccan ol...</td>\n",
              "      <td>cement natur pigment concret mildew resist 5 h...</td>\n",
              "      <td>home improv floor wall ceil floor tile wall tile</td>\n",
              "      <td>non slip shower floor tile</td>\n",
              "      <td>floor wall tile</td>\n",
              "    </tr>\n",
              "    <tr>\n",
              "      <th>3</th>\n",
              "      <td>224306</td>\n",
              "      <td>116</td>\n",
              "      <td>35276</td>\n",
              "      <td>0.0</td>\n",
              "      <td>0.0</td>\n",
              "      <td>0.0</td>\n",
              "      <td>Partial</td>\n",
              "      <td>christma decor old fashion concept twig rustic...</td>\n",
              "      <td>curtain drape</td>\n",
              "      <td>2 panel curtain set print 100 woven polyest co...</td>\n",
              "      <td>semi sheer 54 1 5 gray green pink indoor outdo...</td>\n",
              "      <td>é cor pillow window treatment curtain drape 90...</td>\n",
              "      <td>brockham solid blackout thermal grommet curtai...</td>\n",
              "      <td>curtain drape</td>\n",
              "    </tr>\n",
              "    <tr>\n",
              "      <th>4</th>\n",
              "      <td>67664</td>\n",
              "      <td>26</td>\n",
              "      <td>23900</td>\n",
              "      <td>89.0</td>\n",
              "      <td>5.0</td>\n",
              "      <td>60.0</td>\n",
              "      <td>Partial</td>\n",
              "      <td>carlita papasan patio chair</td>\n",
              "      <td>patio loung chair</td>\n",
              "      <td>papasan chair resort grade trendi comfort styl...</td>\n",
              "      <td>residenti use 50 black mid centuri modern mild...</td>\n",
              "      <td>outdoor outdoor patio furnitur outdoor seat pa...</td>\n",
              "      <td>leather chair</td>\n",
              "      <td>accent chair</td>\n",
              "    </tr>\n",
              "  </tbody>\n",
              "</table>\n",
              "</div>\n",
              "      <button class=\"colab-df-convert\" onclick=\"convertToInteractive('df-1ceeef55-9462-4a93-982c-25ad52539ccd')\"\n",
              "              title=\"Convert this dataframe to an interactive table.\"\n",
              "              style=\"display:none;\">\n",
              "        \n",
              "  <svg xmlns=\"http://www.w3.org/2000/svg\" height=\"24px\"viewBox=\"0 0 24 24\"\n",
              "       width=\"24px\">\n",
              "    <path d=\"M0 0h24v24H0V0z\" fill=\"none\"/>\n",
              "    <path d=\"M18.56 5.44l.94 2.06.94-2.06 2.06-.94-2.06-.94-.94-2.06-.94 2.06-2.06.94zm-11 1L8.5 8.5l.94-2.06 2.06-.94-2.06-.94L8.5 2.5l-.94 2.06-2.06.94zm10 10l.94 2.06.94-2.06 2.06-.94-2.06-.94-.94-2.06-.94 2.06-2.06.94z\"/><path d=\"M17.41 7.96l-1.37-1.37c-.4-.4-.92-.59-1.43-.59-.52 0-1.04.2-1.43.59L10.3 9.45l-7.72 7.72c-.78.78-.78 2.05 0 2.83L4 21.41c.39.39.9.59 1.41.59.51 0 1.02-.2 1.41-.59l7.78-7.78 2.81-2.81c.8-.78.8-2.07 0-2.86zM5.41 20L4 18.59l7.72-7.72 1.47 1.35L5.41 20z\"/>\n",
              "  </svg>\n",
              "      </button>\n",
              "      \n",
              "  <style>\n",
              "    .colab-df-container {\n",
              "      display:flex;\n",
              "      flex-wrap:wrap;\n",
              "      gap: 12px;\n",
              "    }\n",
              "\n",
              "    .colab-df-convert {\n",
              "      background-color: #E8F0FE;\n",
              "      border: none;\n",
              "      border-radius: 50%;\n",
              "      cursor: pointer;\n",
              "      display: none;\n",
              "      fill: #1967D2;\n",
              "      height: 32px;\n",
              "      padding: 0 0 0 0;\n",
              "      width: 32px;\n",
              "    }\n",
              "\n",
              "    .colab-df-convert:hover {\n",
              "      background-color: #E2EBFA;\n",
              "      box-shadow: 0px 1px 2px rgba(60, 64, 67, 0.3), 0px 1px 3px 1px rgba(60, 64, 67, 0.15);\n",
              "      fill: #174EA6;\n",
              "    }\n",
              "\n",
              "    [theme=dark] .colab-df-convert {\n",
              "      background-color: #3B4455;\n",
              "      fill: #D2E3FC;\n",
              "    }\n",
              "\n",
              "    [theme=dark] .colab-df-convert:hover {\n",
              "      background-color: #434B5C;\n",
              "      box-shadow: 0px 1px 3px 1px rgba(0, 0, 0, 0.15);\n",
              "      filter: drop-shadow(0px 1px 2px rgba(0, 0, 0, 0.3));\n",
              "      fill: #FFFFFF;\n",
              "    }\n",
              "  </style>\n",
              "\n",
              "      <script>\n",
              "        const buttonEl =\n",
              "          document.querySelector('#df-1ceeef55-9462-4a93-982c-25ad52539ccd button.colab-df-convert');\n",
              "        buttonEl.style.display =\n",
              "          google.colab.kernel.accessAllowed ? 'block' : 'none';\n",
              "\n",
              "        async function convertToInteractive(key) {\n",
              "          const element = document.querySelector('#df-1ceeef55-9462-4a93-982c-25ad52539ccd');\n",
              "          const dataTable =\n",
              "            await google.colab.kernel.invokeFunction('convertToInteractive',\n",
              "                                                     [key], {});\n",
              "          if (!dataTable) return;\n",
              "\n",
              "          const docLinkHtml = 'Like what you see? Visit the ' +\n",
              "            '<a target=\"_blank\" href=https://colab.research.google.com/notebooks/data_table.ipynb>data table notebook</a>'\n",
              "            + ' to learn more about interactive tables.';\n",
              "          element.innerHTML = '';\n",
              "          dataTable['output_type'] = 'display_data';\n",
              "          await google.colab.output.renderOutput(dataTable, element);\n",
              "          const docLink = document.createElement('div');\n",
              "          docLink.innerHTML = docLinkHtml;\n",
              "          element.appendChild(docLink);\n",
              "        }\n",
              "      </script>\n",
              "    </div>\n",
              "  </div>\n",
              "  "
            ]
          },
          "metadata": {},
          "execution_count": 186
        }
      ]
    },
    {
      "cell_type": "code",
      "source": [
        "map_dict = {'Exact':3,'Partial':2,'Irrelevant':1}\n",
        "clean_df_train['target'] = clean_df_train['label'].map(map_dict)\n",
        "clean_df_test['target'] = clean_df_test['label'].map(map_dict)"
      ],
      "metadata": {
        "colab": {
          "base_uri": "https://localhost:8080/"
        },
        "id": "wfXaz0rJop89",
        "outputId": "5adc6d43-425e-4ecc-9f3c-55b0d576e4a6"
      },
      "id": "wfXaz0rJop89",
      "execution_count": null,
      "outputs": [
        {
          "output_type": "stream",
          "name": "stderr",
          "text": [
            "/usr/local/lib/python3.7/dist-packages/ipykernel_launcher.py:2: SettingWithCopyWarning: \n",
            "A value is trying to be set on a copy of a slice from a DataFrame.\n",
            "Try using .loc[row_indexer,col_indexer] = value instead\n",
            "\n",
            "See the caveats in the documentation: https://pandas.pydata.org/pandas-docs/stable/user_guide/indexing.html#returning-a-view-versus-a-copy\n",
            "  \n",
            "/usr/local/lib/python3.7/dist-packages/ipykernel_launcher.py:3: SettingWithCopyWarning: \n",
            "A value is trying to be set on a copy of a slice from a DataFrame.\n",
            "Try using .loc[row_indexer,col_indexer] = value instead\n",
            "\n",
            "See the caveats in the documentation: https://pandas.pydata.org/pandas-docs/stable/user_guide/indexing.html#returning-a-view-versus-a-copy\n",
            "  This is separate from the ipykernel package so we can avoid doing imports until\n"
          ]
        }
      ]
    },
    {
      "cell_type": "code",
      "source": [
        "clean_df_train['target'].value_counts()\n",
        "clean_df_test['target'].value_counts()\n"
      ],
      "metadata": {
        "colab": {
          "base_uri": "https://localhost:8080/"
        },
        "id": "2eQwqaAS6mje",
        "outputId": "b4def3b8-6a0f-421c-a8ae-bc44b8f631f8"
      },
      "id": "2eQwqaAS6mje",
      "execution_count": null,
      "outputs": [
        {
          "output_type": "execute_result",
          "data": {
            "text/plain": [
              "2    36658\n",
              "1    15300\n",
              "3     6404\n",
              "Name: target, dtype: int64"
            ]
          },
          "metadata": {},
          "execution_count": 188
        }
      ]
    },
    {
      "cell_type": "code",
      "source": [
        "clean_df_train.to_excel(path+r'clean_df_train.xlsx',index=False)\n",
        "clean_df_test.to_excel(path+r'clean_df_test.xlsx',index=False)"
      ],
      "metadata": {
        "id": "H1yC0gWhuJlO"
      },
      "id": "H1yC0gWhuJlO",
      "execution_count": null,
      "outputs": []
    },
    {
      "cell_type": "code",
      "source": [
        "clean_df_train = pd.read_excel(path+r'clean_df_train.xlsx')\n",
        "clean_df_test= pd.read_excel(path+r'clean_df_test.xlsx')"
      ],
      "metadata": {
        "id": "offwlvrzODmB"
      },
      "id": "offwlvrzODmB",
      "execution_count": 7,
      "outputs": []
    },
    {
      "cell_type": "markdown",
      "source": [
        "\n",
        "### Feature Engineering"
      ],
      "metadata": {
        "id": "88d6JH7bt3HC"
      },
      "id": "88d6JH7bt3HC"
    },
    {
      "cell_type": "code",
      "source": [
        "\n",
        "\n",
        "import math\n",
        "import re\n",
        "import xgboost as xgb\n",
        "from xgboost import XGBClassifier\n",
        "from nltk import sent_tokenize\n",
        "from nltk.corpus import stopwords\n",
        "from nltk.stem import WordNetLemmatizer\n",
        "from gensim.models import Word2Vec\n",
        "import nltk\n",
        "nltk.download('stopwords')\n",
        "nltk.download('wordnet')\n",
        "nltk.download('punkt')\n",
        "from sklearn.feature_extraction.text import TfidfVectorizer\n",
        "from sklearn.decomposition import TruncatedSVD\n",
        "from numpy.linalg import norm\n",
        "import pickle\n",
        "from tqdm.notebook import tqdm\n",
        "from sklearn.model_selection import GridSearchCV\n",
        "from sklearn.svm import SVR\n",
        "from sklearn.preprocessing import StandardScaler\n",
        "\n",
        "from sklearn.model_selection import RandomizedSearchCV\n",
        "from sklearn.preprocessing import StandardScaler, LabelEncoder\n",
        "\n",
        "from sklearn.linear_model import LogisticRegression\n",
        "from sklearn.svm import SVC\n",
        "from sklearn.neighbors import KNeighborsClassifier\n",
        "from sklearn import tree\n",
        "from sklearn.neural_network import MLPClassifier\n",
        "from sklearn.neighbors import KNeighborsClassifier\n",
        "from sklearn.ensemble import GradientBoostingClassifier\n",
        "from sklearn.gaussian_process.kernels import RBF\n",
        "from sklearn.ensemble import RandomForestClassifier\n",
        "from sklearn.naive_bayes import GaussianNB\n"
      ],
      "metadata": {
        "colab": {
          "base_uri": "https://localhost:8080/"
        },
        "id": "LyZLY6iJt4vM",
        "outputId": "8024cc5e-f208-4f3f-c764-f1e1ba27327b"
      },
      "id": "LyZLY6iJt4vM",
      "execution_count": 12,
      "outputs": [
        {
          "output_type": "stream",
          "name": "stdout",
          "text": [
            "[nltk_data] Downloading package stopwords to /root/nltk_data...\n",
            "[nltk_data]   Package stopwords is already up-to-date!\n",
            "[nltk_data] Downloading package wordnet to /root/nltk_data...\n",
            "[nltk_data]   Unzipping corpora/wordnet.zip.\n",
            "[nltk_data] Downloading package punkt to /root/nltk_data...\n",
            "[nltk_data]   Unzipping tokenizers/punkt.zip.\n"
          ]
        }
      ]
    },
    {
      "cell_type": "markdown",
      "source": [
        "Features set 1\n",
        "\n",
        "\n",
        "*   Common words and their count between query,query class and document fields (name, description, features)\n",
        "\n",
        "*   Cosine coefficient, jacquard coefficient between query and document fields\n",
        "*   Whether the last word in query is in text fields\n",
        "\n",
        "*   Length of the query\n",
        "\n",
        "*   Lengths of document fields \n",
        "\n",
        "\n",
        "\n"
      ],
      "metadata": {
        "id": "d5XwhQTvKr-K"
      },
      "id": "d5XwhQTvKr-K"
    },
    {
      "cell_type": "markdown",
      "source": [
        "Creating the Features"
      ],
      "metadata": {
        "id": "WHJfsI0cLP75"
      },
      "id": "WHJfsI0cLP75"
    },
    {
      "cell_type": "code",
      "source": [
        "\n",
        "\n",
        "# data1_tn = pd.read_excel(path+r'clean_df_train.xlsx')\n",
        "# data1_ts = pd.read_excel(path+r'clean_df_test.xlsx')\n",
        "clean_df_train = clean_df_train.dropna().reset_index(drop=True)\n",
        "clean_df_test = clean_df_test.dropna().reset_index(drop=True)\n",
        "\n"
      ],
      "metadata": {
        "id": "bgYSby2iLTAB"
      },
      "id": "bgYSby2iLTAB",
      "execution_count": 8,
      "outputs": []
    },
    {
      "cell_type": "code",
      "source": [
        "data1_tn  = clean_df_train\n",
        "data1_ts = clean_df_test"
      ],
      "metadata": {
        "id": "hT4cGEBFlMUc"
      },
      "id": "hT4cGEBFlMUc",
      "execution_count": 9,
      "outputs": []
    },
    {
      "cell_type": "code",
      "source": [
        "data1_tn.isnull().sum()"
      ],
      "metadata": {
        "colab": {
          "base_uri": "https://localhost:8080/"
        },
        "id": "Es4UmF77Lt-b",
        "outputId": "bb58cc51-3f28-487a-d488-dec96c1f0a9b"
      },
      "id": "Es4UmF77Lt-b",
      "execution_count": 13,
      "outputs": [
        {
          "output_type": "execute_result",
          "data": {
            "text/plain": [
              "id                0\n",
              "query_id          0\n",
              "product_id        0\n",
              "rating_count      0\n",
              "average_rating    0\n",
              "review_count      0\n",
              "label             0\n",
              "name              0\n",
              "class             0\n",
              "description       0\n",
              "features          0\n",
              "hierarchy         0\n",
              "query             0\n",
              "query_class       0\n",
              "target            0\n",
              "dtype: int64"
            ]
          },
          "metadata": {},
          "execution_count": 13
        }
      ]
    },
    {
      "cell_type": "code",
      "source": [
        "data1_ts.isnull().sum()"
      ],
      "metadata": {
        "colab": {
          "base_uri": "https://localhost:8080/"
        },
        "id": "ZX8VSuZyMDFq",
        "outputId": "3973c894-cced-4edb-9fea-bd1617c3c37c"
      },
      "id": "ZX8VSuZyMDFq",
      "execution_count": 14,
      "outputs": [
        {
          "output_type": "execute_result",
          "data": {
            "text/plain": [
              "id                0\n",
              "query_id          0\n",
              "product_id        0\n",
              "rating_count      0\n",
              "average_rating    0\n",
              "review_count      0\n",
              "label             0\n",
              "name              0\n",
              "class             0\n",
              "description       0\n",
              "features          0\n",
              "hierarchy         0\n",
              "query             0\n",
              "query_class       0\n",
              "target            0\n",
              "dtype: int64"
            ]
          },
          "metadata": {},
          "execution_count": 14
        }
      ]
    },
    {
      "cell_type": "markdown",
      "source": [
        "Common words"
      ],
      "metadata": {
        "id": "CDt0XozSLfR5"
      },
      "id": "CDt0XozSLfR5"
    },
    {
      "cell_type": "code",
      "source": [
        "def common_words(df, col1, col2):\n",
        "  \"\"\"\n",
        "  Returns common words between each row of col1 and col2 of df in the form of a list. \n",
        "  Length of list is number of rows in dataframe\n",
        "  \"\"\"\n",
        "  common_list = []\n",
        "  for i, row in df[[col1,col2]].iterrows():\n",
        "    set1 = set(row[col1].split())\n",
        "    set2 = set(row[col2].split())\n",
        "    common = set1 & set2\n",
        "    common = ' '.join(common)\n",
        "    common_list.append(common)\n",
        "  return common_list"
      ],
      "metadata": {
        "id": "XB_wsYjHLePn"
      },
      "id": "XB_wsYjHLePn",
      "execution_count": 15,
      "outputs": []
    },
    {
      "cell_type": "code",
      "source": [
        "data1_tn['common_SN'] = common_words(data1_tn,'query', 'name')\n",
        "data1_tn['common_SD'] = common_words(data1_tn,'query', 'description')\n",
        "data1_tn['common_SF'] = common_words(data1_tn,'query', 'features')\n",
        "data1_tn['common_SH'] = common_words(data1_tn,'query', 'hierarchy')\n",
        "data1_tn['common_SC'] = common_words(data1_tn,'query', 'class')\n",
        "\n",
        "data1_tn['common_QC_SN'] = common_words(data1_tn,'query_class', 'name')\n",
        "data1_tn['common_QC_SD'] = common_words(data1_tn,'query_class', 'description')\n",
        "data1_tn['common_QC_SF'] = common_words(data1_tn,'query_class', 'features')\n",
        "data1_tn['common_QC_SH'] = common_words(data1_tn,'query_class', 'hierarchy')\n",
        "data1_tn['common_QC_SC'] = common_words(data1_tn,'query_class', 'class')\n",
        "\n",
        "\n",
        "data1_tn['num_common_SN'] = data1_tn['common_SN'].apply(lambda x : len(x.split()))\n",
        "data1_tn['num_common_SD'] = data1_tn['common_SD'].apply(lambda x : len(x.split()))\n",
        "data1_tn['num_common_SF'] = data1_tn['common_SF'].apply(lambda x : len(x.split()))\n",
        "data1_tn['num_common_SH'] = data1_tn['common_SH'].apply(lambda x : len(x.split()))\n",
        "data1_tn['num_common_SC'] = data1_tn['common_SC'].apply(lambda x : len(x.split()))\n",
        "\n",
        "data1_tn['num_common_QC_SN'] = data1_tn['common_SN'].apply(lambda x : len(x.split()))\n",
        "data1_tn['num_common_QC_SD'] = data1_tn['common_SD'].apply(lambda x : len(x.split()))\n",
        "data1_tn['num_common_QC_SF'] = data1_tn['common_SF'].apply(lambda x : len(x.split()))\n",
        "data1_tn['num_common_QC_SH'] = data1_tn['common_SH'].apply(lambda x : len(x.split()))\n",
        "data1_tn['num_common_QC_SC'] = data1_tn['common_SC'].apply(lambda x : len(x.split()))\n"
      ],
      "metadata": {
        "id": "VjjAXGfFMmbS"
      },
      "id": "VjjAXGfFMmbS",
      "execution_count": 16,
      "outputs": []
    },
    {
      "cell_type": "code",
      "source": [
        "data1_ts['common_SN'] = common_words(data1_ts,'query', 'name')\n",
        "data1_ts['common_SD'] = common_words(data1_ts,'query', 'description')\n",
        "data1_ts['common_SF'] = common_words(data1_ts,'query', 'features')\n",
        "data1_ts['common_SH'] = common_words(data1_ts,'query', 'hierarchy')\n",
        "data1_ts['common_SC'] = common_words(data1_ts,'query', 'class')\n",
        "\n",
        "data1_ts['common_QC_SN'] = common_words(data1_ts,'query_class', 'name')\n",
        "data1_ts['common_QC_SD'] = common_words(data1_ts,'query_class', 'description')\n",
        "data1_ts['common_QC_SF'] = common_words(data1_ts,'query_class', 'features')\n",
        "data1_ts['common_QC_SH'] = common_words(data1_ts,'query_class', 'hierarchy')\n",
        "data1_ts['common_QC_SC'] = common_words(data1_ts,'query_class', 'class')\n",
        "\n",
        "\n",
        "data1_ts['num_common_SN'] = data1_ts['common_SN'].apply(lambda x : len(x.split()))\n",
        "data1_ts['num_common_SD'] = data1_ts['common_SD'].apply(lambda x : len(x.split()))\n",
        "data1_ts['num_common_SF'] = data1_ts['common_SF'].apply(lambda x : len(x.split()))\n",
        "data1_ts['num_common_SH'] = data1_ts['common_SH'].apply(lambda x : len(x.split()))\n",
        "data1_ts['num_common_SC'] = data1_ts['common_SC'].apply(lambda x : len(x.split()))\n",
        "\n",
        "data1_ts['num_common_QC_SN'] = data1_ts['common_SN'].apply(lambda x : len(x.split()))\n",
        "data1_ts['num_common_QC_SD'] = data1_ts['common_SD'].apply(lambda x : len(x.split()))\n",
        "data1_ts['num_common_QC_SF'] = data1_ts['common_SF'].apply(lambda x : len(x.split()))\n",
        "data1_ts['num_common_QC_SH'] = data1_ts['common_SH'].apply(lambda x : len(x.split()))\n",
        "data1_ts['num_common_QC_SC'] = data1_ts['common_SC'].apply(lambda x : len(x.split()))"
      ],
      "metadata": {
        "id": "liCO_YuvgH7P"
      },
      "id": "liCO_YuvgH7P",
      "execution_count": 17,
      "outputs": []
    },
    {
      "cell_type": "code",
      "source": [
        "def cosine_similarity_sent(sent1, sent2):\n",
        "  \"\"\"\n",
        "  Cosine Similarity between 2 sentences treating them as sets of words\n",
        "  \"\"\"\n",
        "\n",
        "  set1 = set(sent1.split())\n",
        "  set2 = set(sent2.split())\n",
        "  numerator = len(set1 & set2)\n",
        "  denominator = math.sqrt(len(set1)) * math.sqrt(len(set2))\n",
        "  \n",
        "  if not denominator:\n",
        "      return 0.0\n",
        "  else:\n",
        "      return numerator / denominator\n",
        "\n",
        "def jacquard_coefficient_sent(sent1, sent2):\n",
        "  \"\"\"\n",
        "  Jacquard Coefficient between 2 sentences treating them as sets of words\n",
        "  \"\"\"\n",
        "\n",
        "  set1 = set(sent1.split())\n",
        "  set2 = set(sent2.split())\n",
        "  numerator = len(set1 & set2)\n",
        "  denominator = len(set1 | set2)\n",
        "\n",
        "  if not denominator:\n",
        "      return 0.0\n",
        "  else:\n",
        "      return numerator / denominator"
      ],
      "metadata": {
        "id": "CrlQcNCOMs4X"
      },
      "id": "CrlQcNCOMs4X",
      "execution_count": 18,
      "outputs": []
    },
    {
      "cell_type": "markdown",
      "source": [
        "More similarity checks"
      ],
      "metadata": {
        "id": "FoeuFiSnM1Ed"
      },
      "id": "FoeuFiSnM1Ed"
    },
    {
      "cell_type": "code",
      "source": [
        "\n",
        "#COSINE COEFFICIENT\n",
        "data1_tn['cosine_SN'] = data1_tn.apply(lambda row: cosine_similarity_sent(row['query'], row['name']), axis=1) \n",
        "data1_tn['cosine_SD'] = data1_tn.apply(lambda row: cosine_similarity_sent(row['query'], row['description']), axis=1)\n",
        "data1_tn['cosine_SF'] = data1_tn.apply(lambda row: cosine_similarity_sent(row['query'], row['features']), axis=1)\n",
        "data1_tn['cosine_SH'] = data1_tn.apply(lambda row: cosine_similarity_sent(row['query'], row['hierarchy']), axis=1) \n",
        "data1_tn['cosine_SC'] = data1_tn.apply(lambda row: cosine_similarity_sent(row['query'], row['class']), axis=1)\n",
        "\n",
        "#JACQUARD COEFFICIENT\n",
        "data1_tn['jacquard_SN'] = data1_tn.apply(lambda row: jacquard_coefficient_sent(row['query'], row['name']), axis=1) \n",
        "data1_tn['jacquard_SD'] = data1_tn.apply(lambda row: jacquard_coefficient_sent(row['query'], row['description']), axis=1)\n",
        "data1_tn['jacquard_SF'] = data1_tn.apply(lambda row: jacquard_coefficient_sent(row['query'], row['features']), axis=1)\n",
        "data1_tn['jacquard_SH'] = data1_tn.apply(lambda row: jacquard_coefficient_sent(row['query'], row['hierarchy']), axis=1) \n",
        "data1_tn['jacquard_SC'] = data1_tn.apply(lambda row: jacquard_coefficient_sent(row['query'], row['class']), axis=1)\n",
        "#COSINE COEFFICIENT for query class\n",
        "data1_tn['cosine_QC_SN'] = data1_tn.apply(lambda row: cosine_similarity_sent(row[\"query_class\"], row['name']), axis=1) \n",
        "data1_tn['cosine_QC_SD'] = data1_tn.apply(lambda row: cosine_similarity_sent(row[\"query_class\"], row['description']), axis=1)\n",
        "data1_tn['cosine_QC_SF'] = data1_tn.apply(lambda row: cosine_similarity_sent(row[\"query_class\"], row['features']), axis=1)\n",
        "data1_tn['cosine_QC_SH'] = data1_tn.apply(lambda row: cosine_similarity_sent(row[\"query_class\"], row['hierarchy']), axis=1) \n",
        "data1_tn['cosine_QC_SC'] = data1_tn.apply(lambda row: cosine_similarity_sent(row[\"query_class\"], row['class']), axis=1)\n",
        "\n",
        "\n",
        "#JACQUARD COEFFICIENT for query class\n",
        "data1_tn['jacquard_QC_SN'] = data1_tn.apply(lambda row: jacquard_coefficient_sent(row[\"query_class\"], row['name']), axis=1) \n",
        "data1_tn['jacquard_QC_SD'] = data1_tn.apply(lambda row: jacquard_coefficient_sent(row[\"query_class\"], row['description']), axis=1)\n",
        "data1_tn['jacquard_QC_SF'] = data1_tn.apply(lambda row: jacquard_coefficient_sent(row[\"query_class\"], row['features']), axis=1)\n",
        "data1_tn['jacquard_QC_SH'] = data1_tn.apply(lambda row: jacquard_coefficient_sent(row[\"query_class\"], row['hierarchy']), axis=1) \n",
        "data1_tn['jacquard_QC_SC'] = data1_tn.apply(lambda row: jacquard_coefficient_sent(row[\"query_class\"], row['class']), axis=1)\n",
        "\n"
      ],
      "metadata": {
        "id": "WvuJoen_MtZ0"
      },
      "id": "WvuJoen_MtZ0",
      "execution_count": 19,
      "outputs": []
    },
    {
      "cell_type": "code",
      "source": [
        "#COSINE COEFFICIENT\n",
        "data1_ts['cosine_SN'] = data1_ts.apply(lambda row: cosine_similarity_sent(row['query'], row['name']), axis=1) \n",
        "data1_ts['cosine_SD'] = data1_ts.apply(lambda row: cosine_similarity_sent(row['query'], row['description']), axis=1)\n",
        "data1_ts['cosine_SF'] = data1_ts.apply(lambda row: cosine_similarity_sent(row['query'], row['features']), axis=1)\n",
        "data1_ts['cosine_SH'] = data1_ts.apply(lambda row: cosine_similarity_sent(row['query'], row['hierarchy']), axis=1) \n",
        "data1_ts['cosine_SC'] = data1_ts.apply(lambda row: cosine_similarity_sent(row['query'], row['class']), axis=1)\n",
        "\n",
        "#JACQUARD COEFFICIENT\n",
        "data1_ts['jacquard_SN'] = data1_ts.apply(lambda row: jacquard_coefficient_sent(row['query'], row['name']), axis=1) \n",
        "data1_ts['jacquard_SD'] = data1_ts.apply(lambda row: jacquard_coefficient_sent(row['query'], row['description']), axis=1)\n",
        "data1_ts['jacquard_SF'] = data1_ts.apply(lambda row: jacquard_coefficient_sent(row['query'], row['features']), axis=1)\n",
        "data1_ts['jacquard_SH'] = data1_ts.apply(lambda row: jacquard_coefficient_sent(row['query'], row['hierarchy']), axis=1) \n",
        "data1_ts['jacquard_SC'] = data1_ts.apply(lambda row: jacquard_coefficient_sent(row['query'], row['class']), axis=1)\n",
        "#COSINE COEFFICIENT for query class\n",
        "data1_ts['cosine_QC_SN'] = data1_ts.apply(lambda row: cosine_similarity_sent(row[\"query_class\"], row['name']), axis=1) \n",
        "data1_ts['cosine_QC_SD'] = data1_ts.apply(lambda row: cosine_similarity_sent(row[\"query_class\"], row['description']), axis=1)\n",
        "data1_ts['cosine_QC_SF'] = data1_ts.apply(lambda row: cosine_similarity_sent(row[\"query_class\"], row['features']), axis=1)\n",
        "data1_ts['cosine_QC_SH'] = data1_ts.apply(lambda row: cosine_similarity_sent(row[\"query_class\"], row['hierarchy']), axis=1) \n",
        "data1_ts['cosine_QC_SC'] = data1_ts.apply(lambda row: cosine_similarity_sent(row[\"query_class\"], row['class']), axis=1)\n",
        "\n",
        "\n",
        "#JACQUARD COEFFICIENT for query class\n",
        "data1_ts['jacquard_QC_SN'] = data1_ts.apply(lambda row: jacquard_coefficient_sent(row[\"query_class\"], row['name']), axis=1) \n",
        "data1_ts['jacquard_QC_SD'] = data1_ts.apply(lambda row: jacquard_coefficient_sent(row[\"query_class\"], row['description']), axis=1)\n",
        "data1_ts['jacquard_QC_SF'] = data1_ts.apply(lambda row: jacquard_coefficient_sent(row[\"query_class\"], row['features']), axis=1)\n",
        "data1_ts['jacquard_QC_SH'] = data1_ts.apply(lambda row: jacquard_coefficient_sent(row[\"query_class\"], row['hierarchy']), axis=1) \n",
        "data1_ts['jacquard_QC_SC'] = data1_ts.apply(lambda row: jacquard_coefficient_sent(row[\"query_class\"], row['class']), axis=1)"
      ],
      "metadata": {
        "id": "OJvwYRgAgffw"
      },
      "id": "OJvwYRgAgffw",
      "execution_count": null,
      "outputs": []
    },
    {
      "cell_type": "markdown",
      "source": [
        "Length of document fields"
      ],
      "metadata": {
        "id": "hyURiHPINF39"
      },
      "id": "hyURiHPINF39"
    },
    {
      "cell_type": "code",
      "source": [
        "data1_tn['len_description'] = data1_tn['description'].apply(lambda x : len(x.split()))\n",
        "data1_tn['len_features'] = data1_tn['features'].apply(lambda x : len(x.split()))\n",
        "data1_tn['len_name'] = data1_tn['name'].apply(lambda x : len(x.split()))\n",
        "data1_tn['len_class'] = data1_tn['class'].apply(lambda x : len(x.split()))\n",
        "data1_tn['len_hierarchy'] = data1_tn['hierarchy'].apply(lambda x : len(x.split()))\n",
        "\n",
        "data1_tn['len_query'] = data1_tn['query'].apply(lambda x : len(x.split()))\n",
        "data1_tn['len_query_class'] = data1_tn['query_class'].apply(lambda x : len(x.split()))"
      ],
      "metadata": {
        "id": "RECOqgvaguEO"
      },
      "id": "RECOqgvaguEO",
      "execution_count": null,
      "outputs": []
    },
    {
      "cell_type": "code",
      "source": [
        "data1_ts['len_description'] = data1_ts['description'].apply(lambda x : len(x.split()))\n",
        "data1_ts['len_features'] = data1_ts['features'].apply(lambda x : len(x.split()))\n",
        "data1_ts['len_name'] = data1_ts['name'].apply(lambda x : len(x.split()))\n",
        "data1_ts['len_class'] = data1_ts['class'].apply(lambda x : len(x.split()))\n",
        "data1_ts['len_hierarchy'] = data1_ts['hierarchy'].apply(lambda x : len(x.split()))\n",
        "\n",
        "data1_ts['len_query'] = data1_ts['query'].apply(lambda x : len(x.split()))\n",
        "data1_ts['len_query_class'] = data1_ts['query_class'].apply(lambda x : len(x.split()))"
      ],
      "metadata": {
        "id": "q6_HRj0hNEZb"
      },
      "id": "q6_HRj0hNEZb",
      "execution_count": null,
      "outputs": []
    },
    {
      "cell_type": "markdown",
      "source": [
        "Presenece of last word from query in document field"
      ],
      "metadata": {
        "id": "ngpNR5yANFTt"
      },
      "id": "ngpNR5yANFTt"
    },
    {
      "cell_type": "code",
      "source": [
        "#last term\n",
        "\n",
        "data1_tn['islast_SN'] = data1_tn.apply(lambda row: row['query'].split()[-1] in row['name'].split(), axis=1)\n",
        "data1_tn['islast_SD'] = data1_tn.apply(lambda row: row['query'].split()[-1] in row['description'].split(), axis=1)\n",
        "data1_tn['islast_SF'] = data1_tn.apply(lambda row: row['query'].split()[-1] in row['features'].split(), axis=1)\n",
        "data1_tn['islast_SH'] = data1_tn.apply(lambda row: row['query'].split()[-1] in row['hierarchy'].split(), axis=1)\n",
        "data1_tn['islast_SC'] = data1_tn.apply(lambda row: row['query'].split()[-1] in row['class'].split(), axis=1)\n",
        "\n"
      ],
      "metadata": {
        "id": "iwuuc-KFNBym"
      },
      "id": "iwuuc-KFNBym",
      "execution_count": null,
      "outputs": []
    },
    {
      "cell_type": "code",
      "source": [
        "data1_ts['islast_SN'] = data1_ts.apply(lambda row: row['query'].split()[-1] in row['name'].split(), axis=1)\n",
        "data1_ts['islast_SD'] = data1_ts.apply(lambda row: row['query'].split()[-1] in row['description'].split(), axis=1)\n",
        "data1_ts['islast_SF'] = data1_ts.apply(lambda row: row['query'].split()[-1] in row['features'].split(), axis=1)\n",
        "data1_ts['islast_SH'] = data1_ts.apply(lambda row: row['query'].split()[-1] in row['hierarchy'].split(), axis=1)\n",
        "data1_ts['islast_SC'] = data1_ts.apply(lambda row: row['query'].split()[-1] in row['class'].split(), axis=1)"
      ],
      "metadata": {
        "id": "U9u5x80whBXG"
      },
      "id": "U9u5x80whBXG",
      "execution_count": null,
      "outputs": []
    },
    {
      "cell_type": "code",
      "source": [
        "data1_tn.columns\n"
      ],
      "metadata": {
        "id": "-3aPx_SvpLNq"
      },
      "id": "-3aPx_SvpLNq",
      "execution_count": null,
      "outputs": []
    },
    {
      "cell_type": "code",
      "source": [
        "#converting all the boolean column to int\n",
        "bool_cols = ['islast_SN', 'islast_SD', 'islast_SF', 'islast_SH', 'islast_SC']\n",
        "for col in bool_cols:\n",
        "  data1_tn[col] = data1_tn[col].astype(int)\n",
        "  data1_ts[col] = data1_ts[col].astype(int)"
      ],
      "metadata": {
        "id": "_XQ3KsJPt0n4"
      },
      "id": "_XQ3KsJPt0n4",
      "execution_count": null,
      "outputs": []
    },
    {
      "cell_type": "markdown",
      "source": [
        "EDA on Feature set so far"
      ],
      "metadata": {
        "id": "P42HRQsYpDi0"
      },
      "id": "P42HRQsYpDi0"
    },
    {
      "cell_type": "code",
      "source": [
        "\n",
        "feat_set1=['rating_count', 'average_rating',\n",
        "       'review_count', 'num_common_SN',\n",
        "       'num_common_SD', 'num_common_SF', 'num_common_SH', 'num_common_SC',\n",
        "       'num_common_QC_SN', 'num_common_QC_SD', 'num_common_QC_SF',\n",
        "       'num_common_QC_SH', 'num_common_QC_SC', 'cosine_SN', 'cosine_SD',\n",
        "       'cosine_SF', 'cosine_SH', 'cosine_SC', 'jacquard_SN', 'jacquard_SD',\n",
        "       'jacquard_SF', 'jacquard_SH', 'jacquard_SC', 'cosine_QC_SN',\n",
        "       'cosine_QC_SD', 'cosine_QC_SF', 'cosine_QC_SH', 'cosine_QC_SC',\n",
        "       'jacquard_QC_SN', 'jacquard_QC_SD', 'jacquard_QC_SF', 'jacquard_QC_SH',\n",
        "       'jacquard_QC_SC', 'len_description', 'len_features', 'len_name',\n",
        "       'len_class', 'len_hierarchy', 'len_query', 'len_query_class',\n",
        "       'islast_SN', 'islast_SD', 'islast_SF', 'islast_SH', 'islast_SC']\n",
        "eda_df1 = data1_tn[feat_set1]\n",
        "eda_df1['label'] = data1_tn['label']\n",
        "eda_df=eda_df1.copy()\n",
        "eda_df['target']=data1_tn['target']\n",
        "eda_df1.head(1)\n",
        "\n"
      ],
      "metadata": {
        "id": "i2f1F8jWpDQ9"
      },
      "id": "i2f1F8jWpDQ9",
      "execution_count": null,
      "outputs": []
    },
    {
      "cell_type": "markdown",
      "source": [
        "### PDFS FOR EACH FEATURE"
      ],
      "metadata": {
        "id": "y8iU3PW_p8Al"
      },
      "id": "y8iU3PW_p8Al"
    },
    {
      "cell_type": "code",
      "source": [
        "for col in feat_set1:\n",
        "  plt.figure(figsize=(15,2))\n",
        "  sns.kdeplot(data=eda_df1, x=col, hue=\"label\")\n",
        "  plt.title(col)\n",
        "  plt.show()"
      ],
      "metadata": {
        "id": "5AxzfqaEp8zG"
      },
      "id": "5AxzfqaEp8zG",
      "execution_count": null,
      "outputs": []
    },
    {
      "cell_type": "markdown",
      "source": [
        "Observations\n",
        "\n",
        "\n",
        "*   List item\n",
        "\n",
        "*   List item\n",
        "*   List item\n",
        "\n",
        "\n",
        "*   List item\n",
        "\n"
      ],
      "metadata": {
        "id": "WxuiksrDqkTO"
      },
      "id": "WxuiksrDqkTO"
    },
    {
      "cell_type": "markdown",
      "source": [
        "### CORRELATION MATRIX "
      ],
      "metadata": {
        "id": "iGeBw5jnqsUF"
      },
      "id": "iGeBw5jnqsUF"
    },
    {
      "cell_type": "code",
      "source": [
        "\n",
        "\n",
        "# plotting correlation heatmap\n",
        "plt.figure(figsize=(15,20))\n",
        "corr_df = eda_df.corr(method='spearman')\n",
        "sns.heatmap(corr_df, cmap=\"YlGnBu\", annot=True)  \n",
        "plt.show()\n",
        "\n"
      ],
      "metadata": {
        "id": "aW0ESIi3qt5g"
      },
      "id": "aW0ESIi3qt5g",
      "execution_count": null,
      "outputs": []
    },
    {
      "cell_type": "code",
      "source": [
        "thresh = 0.8\n",
        "t1 = corr_df.abs()\n",
        "t1 = t1.unstack()\n",
        "T = t1.sort_values(kind=\"quicksort\")\n",
        "print('Features with correlation greater than {}'.format(thresh))\n",
        "print(T[(T>thresh) & (T<1.0)].drop_duplicates())"
      ],
      "metadata": {
        "id": "fgzTEEWBvxXy"
      },
      "id": "fgzTEEWBvxXy",
      "execution_count": null,
      "outputs": []
    },
    {
      "cell_type": "markdown",
      "source": [
        "There are a few highly correlated features. These correlated features can be redundant and hence we can try removing these highly correlated features.\n",
        "We will omit them .\n",
        "\n",
        "*rating_count,jacquard_SN,jacquard_SD,num_common_QC_SF,islast_SC,*\n",
        "     \n",
        "\n",
        "\n"
      ],
      "metadata": {
        "id": "IN-da5Qkv4OM"
      },
      "id": "IN-da5Qkv4OM"
    },
    {
      "cell_type": "code",
      "source": [
        "print('Most correlated features to relevance')\n",
        "print('-'*50)\n",
        "corr_df.abs()['target'].sort_values(ascending=False)"
      ],
      "metadata": {
        "id": "BMKtoHfwv5Ua"
      },
      "id": "BMKtoHfwv5Ua",
      "execution_count": null,
      "outputs": []
    },
    {
      "cell_type": "markdown",
      "source": [
        "\n",
        "\n",
        "*   \n",
        "\n",
        "    The correlation scores are not very high but some correlation does exist.\n",
        "    \n",
        "\n",
        "\n",
        "\n",
        "*   We can see that correlation of \n",
        "cosine_QC_SH    ,\n",
        "jacquard_QC_SC ,\n",
        "cosine_QC_SC ,\n",
        "jacquard_QC_SH   ,\n",
        "cosine_QC_SN   ,\n",
        "jacquard_QC_SN ,\n",
        "num_common_QC_SC ,\n",
        "num_common_SC   ,\n",
        "cosine_SC     ,\n",
        "jacquard_SH    \n",
        " are TOP 10\n",
        "\n"
      ],
      "metadata": {
        "id": "BxDBrxiqv_Bj"
      },
      "id": "BxDBrxiqv_Bj"
    },
    {
      "cell_type": "markdown",
      "source": [
        "\n",
        "# Feature Set 2 - LSI similarity measures \n",
        "\n",
        "## FEATURES\n",
        "\n",
        "\n",
        "\n",
        "\n",
        "*   Apply LSI on full text (combined name, class, hierarchy, features and description). Then, transform query and query class into the ‘concept’ space and calculate cosine similarity between them. Other similarity measure will be cosine coefficient, jacquard coefficient and inner product.\n",
        "\n",
        "\n",
        "\n"
      ],
      "metadata": {
        "id": "uScBBpB_xIxj"
      },
      "id": "uScBBpB_xIxj"
    },
    {
      "cell_type": "code",
      "source": [
        "data2_tn = pd.read_excel(path+r'clean_df_train.xlsx')\n",
        "data2_ts = pd.read_excel(path+r'clean_df_test.xlsx')\n"
      ],
      "metadata": {
        "id": "wZMP9vVzxYDF"
      },
      "id": "wZMP9vVzxYDF",
      "execution_count": null,
      "outputs": []
    },
    {
      "cell_type": "code",
      "source": [
        "data2_tn = data2_tn.dropna().reset_index(drop=True)\n",
        "data2_ts = data2_ts.dropna().reset_index(drop=True)"
      ],
      "metadata": {
        "id": "ImgP5OWcGclC"
      },
      "id": "ImgP5OWcGclC",
      "execution_count": null,
      "outputs": []
    },
    {
      "cell_type": "code",
      "source": [
        "clean_df_train = data2_tn\n",
        "clean_df_test = data2_ts"
      ],
      "metadata": {
        "id": "fSPTlgxGV5Lf"
      },
      "id": "fSPTlgxGV5Lf",
      "execution_count": null,
      "outputs": []
    },
    {
      "cell_type": "code",
      "source": [
        "combined_doc_tn = data2_tn[\"name\"].astype(str) + ' ' + data2_tn[\"class\"].astype(str)+ ' ' + data2_tn[\"hierarchy\"].astype(str) + ' ' +data2_tn[\"description\"].astype(str) + ' ' +data2_tn[\"features\"].astype(str)\n",
        "\n",
        "vectorizer = TfidfVectorizer(smooth_idf=True, max_features=2000, min_df=2)\n",
        "X_combined_doc_tn = vectorizer.fit_transform(combined_doc_tn)\n",
        "print(X_combined_doc_tn.shape) # check shape of the document-term matrix\n",
        "\n",
        "# SVD represent documents and terms in vectors \n",
        "svd_model= TruncatedSVD(n_components=500, algorithm='randomized', n_iter=100, random_state=122)\n",
        "svd_model.fit(X_combined_doc_tn)\n",
        "\n",
        "tsvd_var_ratios = svd_model.explained_variance_ratio_\n",
        "tsvd_var_ratios.sum()\n",
        "\n"
      ],
      "metadata": {
        "id": "vhcKCFRK9vHn"
      },
      "id": "vhcKCFRK9vHn",
      "execution_count": null,
      "outputs": []
    },
    {
      "cell_type": "code",
      "source": [
        "truncated_combined_doc_tn = svd_model.transform(X_combined_doc_tn)\n",
        "print(truncated_combined_doc_tn.shape)\n",
        "\n",
        "X_search_tn = vectorizer.transform(data2_tn['query'])\n",
        "print(X_search_tn.shape) # check shape of the document-term matrix\n",
        "\n",
        "transformed_search_tn = svd_model.transform(X_search_tn)\n",
        "print(transformed_search_tn.shape)\n",
        "\n"
      ],
      "metadata": {
        "id": "F_gw-JmV9vUM"
      },
      "id": "F_gw-JmV9vUM",
      "execution_count": null,
      "outputs": []
    },
    {
      "cell_type": "code",
      "source": [
        "import pickle\n",
        "with open(path+r'\\data\\vectorizer.sav','wb') as f:\n",
        "    pickle.dump( vectorizer,f)\n",
        "with open(path+r'\\data\\svd_model.sav','wb') as f:\n",
        "    pickle.dump( svd_model,f)"
      ],
      "metadata": {
        "id": "taWXMWUGlNPe"
      },
      "id": "taWXMWUGlNPe",
      "execution_count": null,
      "outputs": []
    },
    {
      "cell_type": "code",
      "source": [
        "combined_doc_ts = data2_ts[\"name\"].astype(str) + ' ' + data2_ts[\"class\"].astype(str)+ ' ' + data2_ts[\"hierarchy\"].astype(str) + ' ' +data2_ts[\"description\"].astype(str) + ' ' +data2_ts[\"features\"].astype(str)\n",
        "\n",
        "\n",
        "X_combined_doc_ts = vectorizer.transform(combined_doc_ts)\n",
        "print(X_combined_doc_ts.shape) # check shape of the document-term matrix\n",
        "\n",
        "# SVD represent documents and terms in vectors \n",
        "\n",
        "\n",
        "truncated_combined_doc_ts = svd_model.transform(X_combined_doc_ts)\n",
        "print(truncated_combined_doc_ts.shape)\n",
        "\n",
        "X_search_ts = vectorizer.transform(data2_ts['query'])\n",
        "print(X_search_ts.shape) # check shape of the document-term matrix\n",
        "\n",
        "transformed_search_ts = svd_model.transform(X_search_ts)\n",
        "print(transformed_search_ts.shape)"
      ],
      "metadata": {
        "id": "cE1zYwinly2C"
      },
      "id": "cE1zYwinly2C",
      "execution_count": null,
      "outputs": []
    },
    {
      "cell_type": "markdown",
      "source": [
        "\n",
        "\n",
        "Calculating similarity between them\n"
      ],
      "metadata": {
        "id": "Z_yc8Iwo94uF"
      },
      "id": "Z_yc8Iwo94uF"
    },
    {
      "cell_type": "code",
      "source": [
        "def cosine_similarity_vec(a, b):\n",
        "  \"\"\"\n",
        "  Cosine Similarity between 2 vectors\n",
        "  \"\"\"  \n",
        "  num = np.dot(a, b)\n",
        "  den = norm(a)*norm(b)\n",
        "  if den != 0:\n",
        "    return num/den\n",
        "  else:\n",
        "    return 0\n",
        "\n",
        "def jacquard_similarity_vec(a, b):\n",
        "  \"\"\"\n",
        "  Cosine Similarity between 2 vectors\n",
        "  \"\"\"  \n",
        "  num = np.dot(a,b)\n",
        "  den = norm(a)**2 + norm(b)**2 - np.dot(a,b)\n",
        "  if den != 0:\n",
        "    return num/den\n",
        "  else:\n",
        "    return 0\n",
        "\n",
        "def inner_product_vec(a, b):\n",
        "  return np.dot(a,b)\n",
        "\n"
      ],
      "metadata": {
        "id": "P3-KFccB9vXV"
      },
      "id": "P3-KFccB9vXV",
      "execution_count": null,
      "outputs": []
    },
    {
      "cell_type": "code",
      "source": [
        "cos_sim = []\n",
        "for i in range(len(transformed_search_tn)):\n",
        "  cos_sim.append(cosine_similarity_vec(truncated_combined_doc_tn[i], transformed_search_tn[i]))\n",
        "print(len(cos_sim))\n",
        "data2_tn['lsi_cos_sim'] = cos_sim\n",
        "\n"
      ],
      "metadata": {
        "id": "iHDzLRWa9vfN"
      },
      "id": "iHDzLRWa9vfN",
      "execution_count": null,
      "outputs": []
    },
    {
      "cell_type": "code",
      "source": [
        "cos_sim = []\n",
        "for i in range(len(transformed_search_ts)):\n",
        "  cos_sim.append(cosine_similarity_vec(truncated_combined_doc_ts[i], transformed_search_ts[i]))\n",
        "print(len(cos_sim))\n",
        "data2_ts['lsi_cos_sim'] = cos_sim"
      ],
      "metadata": {
        "id": "mUx_yqKRmqH0"
      },
      "id": "mUx_yqKRmqH0",
      "execution_count": null,
      "outputs": []
    },
    {
      "cell_type": "code",
      "source": [
        "\n",
        "jaq_sim = []\n",
        "for i in range(len(transformed_search_tn)):\n",
        "  jaq_sim.append(jacquard_similarity_vec(truncated_combined_doc_tn[i], transformed_search_tn[i]))\n",
        "print(len(jaq_sim))\n",
        "data2_tn['lsi_jaq_sim'] = jaq_sim\n"
      ],
      "metadata": {
        "id": "qUBwkhYx-IkF"
      },
      "id": "qUBwkhYx-IkF",
      "execution_count": null,
      "outputs": []
    },
    {
      "cell_type": "code",
      "source": [
        "\n",
        "jaq_sim = []\n",
        "for i in range(len(transformed_search_ts)):\n",
        "  jaq_sim.append(jacquard_similarity_vec(truncated_combined_doc_ts[i], transformed_search_ts[i]))\n",
        "print(len(jaq_sim))\n",
        "data2_ts['lsi_jaq_sim'] = jaq_sim\n"
      ],
      "metadata": {
        "id": "gp9GuKxh5LYQ"
      },
      "id": "gp9GuKxh5LYQ",
      "execution_count": null,
      "outputs": []
    },
    {
      "cell_type": "code",
      "source": [
        "\n",
        "inn_prod = []\n",
        "for i in range(len(transformed_search_tn)):\n",
        "  inn_prod.append(inner_product_vec(truncated_combined_doc_tn[i], transformed_search_tn[i]))\n",
        "print(len(inn_prod))\n",
        "data2_tn['lsi_inn_prod'] = inn_prod"
      ],
      "metadata": {
        "id": "8KXhppGp-Jut"
      },
      "id": "8KXhppGp-Jut",
      "execution_count": null,
      "outputs": []
    },
    {
      "cell_type": "code",
      "source": [
        "inn_prod = []\n",
        "for i in range(len(transformed_search_ts)):\n",
        "  inn_prod.append(inner_product_vec(truncated_combined_doc_ts[i], transformed_search_ts[i]))\n",
        "print(len(inn_prod))\n",
        "data2_ts['lsi_inn_prod'] = inn_prod"
      ],
      "metadata": {
        "id": "AX45reDm5jxw"
      },
      "id": "AX45reDm5jxw",
      "execution_count": null,
      "outputs": []
    },
    {
      "cell_type": "code",
      "source": [
        "\n",
        "data2_tn = data2_tn[['lsi_cos_sim', 'lsi_jaq_sim',\t'lsi_inn_prod']]\n",
        "print(data2_tn.shape)\n",
        "data2_tn.head(3)"
      ],
      "metadata": {
        "id": "RHgjRagZ-G5V"
      },
      "id": "RHgjRagZ-G5V",
      "execution_count": null,
      "outputs": []
    },
    {
      "cell_type": "code",
      "source": [
        "data2_tn.isnull().sum()"
      ],
      "metadata": {
        "id": "K8VMj9y7UY1J"
      },
      "id": "K8VMj9y7UY1J",
      "execution_count": null,
      "outputs": []
    },
    {
      "cell_type": "code",
      "source": [
        "\n",
        "eda_df2 = data2_tn\n",
        "eda_df2['target'] = data1_tn['target']\n",
        "# plotting correlation heatmap\n",
        "corr_df = eda_df2[:4].corr(method='spearman')\n",
        "plt.figure(figsize=(10,8))\n",
        "sns.heatmap(corr_df, cmap=\"YlGnBu\", annot=True)  \n",
        "plt.show()"
      ],
      "metadata": {
        "id": "zXYd-zPN_5yW"
      },
      "id": "zXYd-zPN_5yW",
      "execution_count": null,
      "outputs": []
    },
    {
      "cell_type": "markdown",
      "source": [
        "### Modeling "
      ],
      "metadata": {
        "id": "hplPqUEVA1x_"
      },
      "id": "hplPqUEVA1x_"
    },
    {
      "cell_type": "code",
      "source": [
        "\n",
        "final_df = pd.concat([clean_df_train,data1_tn, data2_tn], axis=1, ignore_index=False)\n",
        "final_df.head()"
      ],
      "metadata": {
        "id": "oqS93JQNA6tt"
      },
      "id": "oqS93JQNA6tt",
      "execution_count": null,
      "outputs": []
    },
    {
      "cell_type": "code",
      "source": [
        "X1 = final_df.drop(['id', 'query_id', 'product_id', 'label', 'name', 'class', 'description', 'features',\n",
        "       'hierarchy', 'query', 'query_class', 'target','rating_count','jacquard_SN','jacquard_SD','num_common_QC_SF','islast_SC'], axis=1) \n",
        "\n",
        "Feature_columns = X1.columns"
      ],
      "metadata": {
        "id": "0bieDupGhlHS"
      },
      "id": "0bieDupGhlHS",
      "execution_count": null,
      "outputs": []
    },
    {
      "cell_type": "code",
      "source": [
        " #tyre features\n",
        "x = X1.values #returns a numpy array\n",
        "# min_max_scaler = preprocessing.MinMaxScaler()\n",
        "# x_scaled = min_max_scaler.fit_transform(x)\n",
        "df = pd.DataFrame(x, columns=X1.columns)\n",
        "X = df.values\n",
        "y = final_df['target'].values \n",
        "\n",
        "#%%\n",
        "'Split data for modeling¶'\n",
        "\n",
        "from sklearn.model_selection import train_test_split\n",
        "X_train, X_val, y_train, y_val = train_test_split(X, y, test_size=0.10, random_state=12)\n",
        "\n",
        "print('Train values shape:', X_train.shape)\n",
        "print('Val values shape:', X_val.shape)\n",
        "print('Train target shape:', y_train.shape)\n",
        "print('Val target shape:', y_val.shape)"
      ],
      "metadata": {
        "id": "4XO1OhsPBc4A"
      },
      "id": "4XO1OhsPBc4A",
      "execution_count": null,
      "outputs": []
    },
    {
      "cell_type": "code",
      "source": [
        "#%%'Plot feature importance of random forest classifier'\n",
        "import seaborn as sns\n",
        "def plot_feature_importance(importance,names,model_type):\n",
        "\n",
        "    data={'feature_names':names,'feature_importance':importance}\n",
        "    fi_df = pd.DataFrame(data)\n",
        "    # tmu_Df = tmu_Df.sort_values(['ST'])\n",
        "    #Sort the DataFrame in order decreasing feature importance\n",
        "    fi_df.sort_values(['feature_importance'], ascending=False,inplace=True)\n",
        "    fi_df=fi_df[:10]\n",
        "    #Define size of bar plot\n",
        "    plt.figure(figsize=(12,10))\n",
        "    #Plot Searborn bar chart\n",
        "    sns.barplot(x=fi_df['feature_importance'], y=fi_df['feature_names'])\n",
        "    #Add chart labels\n",
        "    plt.title(model_type + ' FEATURE IMPORTANCE')\n",
        "    plt.xlabel('FEATURE IMPORTANCE')\n",
        "    plt.ylabel('FEATURE NAMES')\n",
        "    # plt.savefig(model_type+\".JPEG\")\n",
        "    return fi_df"
      ],
      "metadata": {
        "id": "kDXmlkfT7-bW"
      },
      "id": "kDXmlkfT7-bW",
      "execution_count": null,
      "outputs": []
    },
    {
      "cell_type": "code",
      "source": [
        "from sklearn.model_selection import StratifiedKFold\n",
        "from sklearn.model_selection import cross_val_score\n",
        "from sklearn.model_selection import GridSearchCV\n",
        "from sklearn.metrics import classification_report, confusion_matrix, roc_auc_score,accuracy_score\n",
        "import time"
      ],
      "metadata": {
        "id": "NBQ_0_SAFGAz"
      },
      "id": "NBQ_0_SAFGAz",
      "execution_count": null,
      "outputs": []
    },
    {
      "cell_type": "code",
      "source": [
        "xgb = XGBClassifier(random_state=25, n_estimators= 1500)\n",
        "\n",
        "\n",
        "\n",
        "\"k-fold stratified cross-validation\"\n",
        "n_splits = 3\n",
        "stf = StratifiedKFold(n_splits=n_splits, random_state=5, shuffle=True)\n",
        "\n",
        "accuracies = []\n",
        "\n",
        "k=0\n",
        "for trn_idx, val_idx in stf.split(X_train, y_train):\n",
        "    print(k)\n",
        "    x1, x2 = X_train[trn_idx], X_train[val_idx]\n",
        "    y1, y2 = y_train[trn_idx], y_train[val_idx]\n",
        "    xgbc = xgb.fit(x1, y1)\n",
        "    Y_pred2 = xgbc.predict(x2)\n",
        "    accuracies+=[round(accuracy_score(y2, Y_pred2),3)]\n",
        "    k+=1\n",
        "\n",
        "print('KS-Fold accuracies: ', accuracies)\n",
        "print('Accuracy: (Mean - {}, Std - {})'.format(round(np.mean(accuracies),3), round(np.std(accuracies),3)))\n",
        "\n",
        "\"model fitting with full training data\"\n",
        "t_start = time.clock()\n",
        "xgbc1 = xgb.fit(X_train, y_train)\n",
        "t_end = time.clock()\n",
        "\n",
        "t_diff = t_end - t_start\n",
        "print('time taken for training in sec {}'.format(t_diff))\n",
        "y_val_hat =xgbc1.predict(X_val)\n",
        "\n",
        "y_train_hat=xgbc1.predict(X_train)\n",
        "\n",
        "# y_train_hat=le.inverse_transform(y_train_hat)\n",
        "# y_train=le.inverse_transform(y_train)\n",
        "print('Train performance')\n",
        "print('-------------------------------------------------------')\n",
        "print(classification_report(y_train, y_train_hat))\n",
        "\n",
        "\n",
        "\n",
        "print('Validation performance')\n",
        "print('-------------------------------------------------------')\n",
        "test_report= pd.DataFrame(classification_report(y_val,  y_val_hat, output_dict=True)).transpose()\n",
        "print(test_report)\n",
        "\n",
        "print('Confusion matrix')\n",
        "print('-------------------------------------------------------')\n",
        "cm=pd.DataFrame(confusion_matrix(y_val, y_val_hat))\n",
        "print(cm)\n"
      ],
      "metadata": {
        "id": "i8nPXJ1W8Ieb"
      },
      "id": "i8nPXJ1W8Ieb",
      "execution_count": null,
      "outputs": []
    },
    {
      "cell_type": "code",
      "source": [
        "feature_importance=plot_feature_importance(xgbc1.feature_importances_,df.columns,'XGB')"
      ],
      "metadata": {
        "id": "14atzEW4ScOu"
      },
      "id": "14atzEW4ScOu",
      "execution_count": null,
      "outputs": []
    },
    {
      "cell_type": "markdown",
      "source": [
        "### Evaluation"
      ],
      "metadata": {
        "id": "HKWoYMJ_8j9d"
      },
      "id": "HKWoYMJ_8j9d"
    },
    {
      "cell_type": "code",
      "source": [
        "final_df_ts = pd.concat([clean_df_test,data1_ts, data2_ts], axis=1, ignore_index=False)\n",
        "\n"
      ],
      "metadata": {
        "id": "1FeIb-y88mKF"
      },
      "id": "1FeIb-y88mKF",
      "execution_count": null,
      "outputs": []
    },
    {
      "cell_type": "code",
      "source": [
        ""
      ],
      "metadata": {
        "id": "TPhDzqArgr-l"
      },
      "id": "TPhDzqArgr-l",
      "execution_count": null,
      "outputs": []
    },
    {
      "cell_type": "code",
      "source": [
        "X_Test = final_df_ts[Feature_columns]  # features\n",
        "# x = X1.values #returns a numpy array\n",
        "\n",
        "Y_Test = final_df_ts['target']\n",
        "\n"
      ],
      "metadata": {
        "id": "AxnAd6Vh9tD_"
      },
      "id": "AxnAd6Vh9tD_",
      "execution_count": null,
      "outputs": []
    },
    {
      "cell_type": "code",
      "source": [
        "predictions = xgbc1.predict(X_Test)\n",
        "\n",
        "print('Validation performance')\n",
        "print('-------------------------------------------------------')\n",
        "test_report= pd.DataFrame(classification_report(Y_Test,  predictions, output_dict=True)).transpose()\n",
        "print(test_report)"
      ],
      "metadata": {
        "id": "DvlI0YLF-h3s"
      },
      "id": "DvlI0YLF-h3s",
      "execution_count": null,
      "outputs": []
    }
  ],
  "metadata": {
    "environment": {
      "name": "tf2-gpu.2-5.m76",
      "type": "gcloud",
      "uri": "gcr.io/deeplearning-platform-release/tf2-gpu.2-5:m76"
    },
    "kernelspec": {
      "display_name": "Python 3",
      "language": "python",
      "name": "python3"
    },
    "language_info": {
      "codemirror_mode": {
        "name": "ipython",
        "version": 3
      },
      "file_extension": ".py",
      "mimetype": "text/x-python",
      "name": "python",
      "nbconvert_exporter": "python",
      "pygments_lexer": "ipython3",
      "version": "3.7.10"
    },
    "colab": {
      "name": "read_dataset.ipynb",
      "provenance": [],
      "collapsed_sections": [
        "LxexL36o0l1l",
        "wWEEBWuA17rC"
      ],
      "include_colab_link": true
    }
  },
  "nbformat": 4,
  "nbformat_minor": 5
}